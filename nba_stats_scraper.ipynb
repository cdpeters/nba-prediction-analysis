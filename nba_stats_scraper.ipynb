{
 "cells": [
  {
   "cell_type": "markdown",
   "id": "f406b252-06f1-483f-a5b1-16e8d3e4982c",
   "metadata": {},
   "source": [
    "# Web Scrape NBA Official Stats Site [nba.com/stats/](https://www.nba.com/stats/)"
   ]
  },
  {
   "cell_type": "code",
   "execution_count": null,
   "id": "5e7b5b18-9205-4765-a496-75a172c6f2fa",
   "metadata": {},
   "outputs": [],
   "source": [
    "import copy\n",
    "import time\n",
    "\n",
    "from bs4 import BeautifulSoup as soup\n",
    "import pandas as pd\n",
    "from splinter import Browser\n",
    "from webdriver_manager.chrome import ChromeDriverManager"
   ]
  },
  {
   "cell_type": "code",
   "execution_count": null,
   "id": "75eacc72-7eb7-454a-8b8a-3f81cda4cd80",
   "metadata": {},
   "outputs": [],
   "source": [
    "# Set up Splinter (prep the automated browser).\n",
    "executable_path = {\"executable_path\": ChromeDriverManager().install()}\n",
    "browser = Browser(\"chrome\", **executable_path, headless=False)"
   ]
  },
  {
   "cell_type": "markdown",
   "id": "572c4155-483f-48ed-9e73-0ba76e49d13d",
   "metadata": {},
   "source": [
    "<br>\n",
    "<hr>\n",
    "<br>"
   ]
  },
  {
   "cell_type": "markdown",
   "id": "b32564b4-fa08-4f77-958a-fb897082d7f3",
   "metadata": {},
   "source": [
    "## Collect Team Statistics URLs"
   ]
  },
  {
   "cell_type": "code",
   "execution_count": null,
   "id": "50e8b61b-e8ec-4d92-a1c1-775d2824c930",
   "metadata": {},
   "outputs": [],
   "source": [
    "# Visit NBA stats page.\n",
    "base_url = 'https://www.nba.com'\n",
    "href = '/stats'\n",
    "browser.visit(f'{base_url}{href}')\n",
    "# Delay to allow the page to load.\n",
    "time.sleep(4)"
   ]
  },
  {
   "cell_type": "code",
   "execution_count": null,
   "id": "43dce333-07a1-48c6-86ec-527f509fb1f8",
   "metadata": {},
   "outputs": [],
   "source": [
    "# Retrieve html.\n",
    "html = browser.html\n",
    "nba_soup = soup(html, \"html.parser\")"
   ]
  },
  {
   "cell_type": "code",
   "execution_count": null,
   "id": "6926a50c-ea35-4b70-8d7b-6f856660dd88",
   "metadata": {},
   "outputs": [],
   "source": [
    "# Find the anchor tags within div's that have the sidebar-module... class.\n",
    "sidebar_divs = nba_soup.find_all(\"div\", class_=\"sidebar-module / sidebar__leaders / sidebar-module-next / sidebar-module-quick-links\")\n",
    "team_stats_a_tags = sidebar_divs[4].find_all(\"a\")\n",
    "# Extract the href string and combine with base_url to form the team stats urls.\n",
    "team_stats_urls = [f'{base_url}{a_tag.attrs[\"href\"]}' for a_tag in team_stats_a_tags]\n",
    "team_stats_urls"
   ]
  },
  {
   "cell_type": "markdown",
   "id": "c94acce8-4f1c-4ecd-849a-33dd84db4bfc",
   "metadata": {
    "tags": []
   },
   "source": [
    "## Collect Data From Each Team Statistics URLs"
   ]
  },
  {
   "cell_type": "markdown",
   "id": "428b8a53-641c-4399-b5ed-1c3dd99e3d2a",
   "metadata": {},
   "source": [
    "### URL: \"Teams General Traditional\" Stats"
   ]
  },
  {
   "cell_type": "markdown",
   "id": "6546eb08-5c3b-4378-a6ee-3b905a48169c",
   "metadata": {},
   "source": [
    "#### Selectable Filters\n",
    "* `browser.find_by_tag(\"select\")[0]`: **Season**\n",
    "    * 1996-97 to 2021-22 (default)\n",
    "* `browser.find_by_tag(\"select\")[1]`: **Season Type**\n",
    "    * Regular Season (default)\n",
    "    * Playoffs\n",
    "* `browser.find_by_tag(\"select\")[2]`: **Per Mode**\n",
    "    * Per Game (default)\n",
    "    * Totals\n",
    "* `browser.find_by_tag(\"select\")[3]`: **Season Segment**\n",
    "    * All Games (default)"
   ]
  },
  {
   "cell_type": "markdown",
   "id": "7c9e4e81-6a1a-4a7d-a129-745fb69c51b3",
   "metadata": {},
   "source": [
    "#### Function to Retrieve the DataFrame for One Season"
   ]
  },
  {
   "cell_type": "code",
   "execution_count": null,
   "id": "eadfd3fb-f9e3-4b4c-abe9-13abece2c0cf",
   "metadata": {
    "tags": []
   },
   "outputs": [],
   "source": [
    "def season_stat_table(stat_table_soup):\n",
    "    \"\"\"Retrieve the table of data for a season via the stat_table_soup html\"\"\"\n",
    "    table = stat_table_soup.find(\"div\", class_=\"nba-stat-table\").find(\"table\")\n",
    "    # Find the column names in the header of the table.\n",
    "    headers = table.find(\"thead\").find_all(\"th\")\n",
    "    # The conditional is for removing hidden header values that have no meaning\n",
    "    # to us. The first list element is removed since it refers to a ranking that\n",
    "    # we will not need.\n",
    "    headers = [header.decode_contents().replace('<br/>', ' ').replace('\\xa0', ' ').strip().upper()\n",
    "               for header in headers\n",
    "               if 'RANK' not in header.text][1:]\n",
    "    \n",
    "    # Rows that contain the table data.\n",
    "    rows = table.find(\"tbody\").find_all(\"tr\")\n",
    "    \n",
    "    # dataframe_data will contain dict elements for each row of data.\n",
    "    dataframe_data = []\n",
    "    \n",
    "    # Loop over each row in the table.\n",
    "    for row in rows:\n",
    "        # All the table data \"td\" tags for a given row (i.e. all column values).\n",
    "        cols = row.find_all(\"td\")\n",
    "        # Remove the first element that is a ranking.\n",
    "        cols = [td.text.strip() for td in cols][1:]\n",
    "    \n",
    "        # row_dict represents the data for an entire row.\n",
    "        row_dict = {}\n",
    "\n",
    "        # Loop over each column in a given row, add the value to row_dict with\n",
    "        # a key that is the column's header name. \n",
    "        for index, value in enumerate(cols):\n",
    "            # Add team name string.\n",
    "            if index == 0:\n",
    "                row_dict[headers[index]] = value\n",
    "                continue\n",
    "            # Add team record information: GP, W, and L as integers.\n",
    "            if index in (1,2,3):\n",
    "                row_dict[headers[index]] = int(value)\n",
    "                continue\n",
    "            # Add the remaining team stats as floats.\n",
    "            if ',' in value:\n",
    "                row_dict[headers[index]] = int(value.replace(',', ''))\n",
    "            else:\n",
    "                row_dict[headers[index]] = float(value)\n",
    "        # Add the row's row_dict to dataframe_data.\n",
    "        dataframe_data.append(row_dict)\n",
    "        \n",
    "    return pd.DataFrame(dataframe_data)"
   ]
  },
  {
   "cell_type": "markdown",
   "id": "f9cab463-7acd-4687-a82f-60e10635ca17",
   "metadata": {},
   "source": [
    "#### Function to Retrieve the DataFrames for All Seasons"
   ]
  },
  {
   "cell_type": "code",
   "execution_count": null,
   "id": "23451e06-eb7b-4f37-834d-94b59b4c1b88",
   "metadata": {
    "tags": []
   },
   "outputs": [],
   "source": [
    "def retrieve_all_seasons(seasons):\n",
    "    \"\"\"Retrieve dataframes for all seasons\"\"\"\n",
    "    dataframes = {}\n",
    "    for season in seasons:\n",
    "        # Select Season --------------------------------------------------------\n",
    "        # Find the select elements. The first select is the \"SEASON\" dropdown \n",
    "        # menu and the value to select is the value that the nba website \n",
    "        # assigned that was collected in the seasons list.\n",
    "        browser.find_by_tag(\"select\")[0].select(value=season[1])\n",
    "        # Delay to allow the page to load.\n",
    "        time.sleep(2)\n",
    "\n",
    "        # Retrieve html --------------------------------------------------------\n",
    "        html = browser.html\n",
    "        stat_table_soup = soup(html, \"html.parser\")\n",
    "\n",
    "        # Retrieve DataFrame ---------------------------------------------------\n",
    "        # Assign the DataFrame to the dataframes dict as the value, and the\n",
    "        # season string as the key.\n",
    "        dataframes[season[0]] = season_stat_table(stat_table_soup)\n",
    "        \n",
    "    return dataframes"
   ]
  },
  {
   "cell_type": "markdown",
   "id": "f2b82e62-0d70-48d4-90f2-5143cb3a0d7e",
   "metadata": {},
   "source": [
    "#### Function to Retrieve All Team Statistics Data"
   ]
  },
  {
   "cell_type": "code",
   "execution_count": null,
   "id": "af7d1686-7d5c-4919-9d9f-20f057697eb0",
   "metadata": {},
   "outputs": [],
   "source": [
    "def retrieve_team_stats(team_stats_urls):\n",
    "    team_stats = {}\n",
    "    for url in team_stats_urls:\n",
    "        # Visit URL ------------------------------------------------------------\n",
    "        # Visit a team stats url.\n",
    "        browser.visit(url)\n",
    "        # Delay to allow the page to load.\n",
    "        time.sleep(4)\n",
    "\n",
    "        # Retrieve Available Seasons and Their <option> Tag Values -------------\n",
    "        html = browser.html\n",
    "        select_soup = soup(html, \"html.parser\")\n",
    "\n",
    "        # Find the option tags from the first select tag (\"SEASON\" dropdown \n",
    "        # menu).\n",
    "        options = select_soup.find('select').find_all('option')\n",
    "        # Store the season and option value strings for each option.\n",
    "        seasons = [(option.text, option['value']) for option in options]\n",
    "\n",
    "        # Retrieve Table Title Using select_soup -------------------------------\n",
    "        # Find the title for the table at the current url.\n",
    "        table_title_nav = select_soup.find(\"nav-dropdown\")\n",
    "        # The title is configured in three parts (3 different attributes on the\n",
    "        # nav tag).\n",
    "        table_title = list(table_title_nav.attrs.values())\n",
    "        # Join the title words and capitalize.\n",
    "        table_title = ' '.join(table_title).title()\n",
    "\n",
    "        # Retrieve the DataFrames for Each Season ------------------------------\n",
    "        team_stats[table_title] = retrieve_all_seasons(seasons)\n",
    "    return team_stats"
   ]
  },
  {
   "cell_type": "markdown",
   "id": "e4e6f8de-6926-496b-9ccc-d151a7aad231",
   "metadata": {},
   "source": [
    "#### Retrieve the Team Statistics Data"
   ]
  },
  {
   "cell_type": "code",
   "execution_count": null,
   "id": "a61c974b-9e1b-4288-97ba-3b6aa76ba15f",
   "metadata": {},
   "outputs": [],
   "source": [
    "team_stats = retrieve_team_stats(team_stats_urls)"
   ]
  },
  {
   "cell_type": "code",
   "execution_count": null,
   "id": "80e47dbf-33f5-445a-acbd-b45ad58c13ed",
   "metadata": {},
   "outputs": [],
   "source": [
    "team_stats.keys()"
   ]
  },
  {
   "cell_type": "code",
   "execution_count": null,
   "id": "26094ae5-add8-4bd0-afe9-c19c6cad9bdd",
   "metadata": {
    "tags": []
   },
   "outputs": [],
   "source": [
    "def retrieve_playoff_teams(url):\n",
    "    # Visit URL ----------------------------------------------------------------\n",
    "    # Visit a team stats url.\n",
    "    browser.visit(url)\n",
    "    # Delay to allow the page to load.\n",
    "    time.sleep(4)\n",
    "\n",
    "    # Retrieve Available Seasons and Their <option> Tag Values -----------------\n",
    "    html = browser.html\n",
    "    playoff_soup = soup(html, \"html.parser\")\n",
    "\n",
    "    # Select Playoffs ----------------------------------------------------------\n",
    "    # Find the options for the \"SEASON TYPE\" dropdown menu\n",
    "    options = playoff_soup.find(attrs={'name':'SeasonType'}).find_all('option')\n",
    "    playoff_option = [option['value'] for option in options if option.text == 'Playoffs']\n",
    "    # Select the \"Playoffs\" option to bring up that season's playoff table.\n",
    "    browser.find_by_tag(\"select\")[1].select(value=playoff_option[0])\n",
    "    # Delay to allow the page to load.\n",
    "    time.sleep(2)    \n",
    "\n",
    "    # Find the option tags from the first select tag (\"SEASON\" dropdown menu).\n",
    "    options = playoff_soup.find(attrs={'name':'Season'}).find_all('option')\n",
    "    # Store the season and option value strings for each option.\n",
    "    seasons = [(option.text, option['value']) for option in options]\n",
    "\n",
    "    # Retrieve the playoff team DataFrame --------------------------------------\n",
    "    playoff_teams = retrieve_all_playoff_seasons(seasons)\n",
    "    return playoff_teams"
   ]
  },
  {
   "cell_type": "code",
   "execution_count": null,
   "id": "3fb24ff8-16d8-404c-bcd2-ca396ba6638b",
   "metadata": {
    "tags": []
   },
   "outputs": [],
   "source": [
    "def retrieve_all_playoff_seasons(seasons):\n",
    "    \"\"\"Retrieve dataframes for all seasons\"\"\"\n",
    "    dataframes = {}\n",
    "    for index, season in enumerate(seasons):\n",
    "        # Skip 2021-22 season, nba site shows no data currently\n",
    "        if index == 0:\n",
    "            continue\n",
    "        # Select Season --------------------------------------------------------\n",
    "        # Find the select elements. The first select is the \"SEASON\" dropdown \n",
    "        # menu and the value to select is the value that the nba website \n",
    "        # assigned that was collected in the seasons list. Select the season to \n",
    "        # bring up that season's table.\n",
    "        browser.find_by_tag(\"select\")[0].select(value=season[1])\n",
    "        time.sleep(2)\n",
    "\n",
    "        # Retrieve html --------------------------------------------------------\n",
    "        html = browser.html\n",
    "        stat_table_soup = soup(html, \"html.parser\")\n",
    "\n",
    "        # Retrieve DataFrame ---------------------------------------------------\n",
    "        # Assign the DataFrame to the dataframes dict as the value, and the\n",
    "        # season string as the key.\n",
    "        dataframes[season[0]] = season_playoff_teams(stat_table_soup)\n",
    "        \n",
    "    return dataframes"
   ]
  },
  {
   "cell_type": "code",
   "execution_count": null,
   "id": "d0fa1fee-0ae3-4deb-bf8e-c3446f7e34e6",
   "metadata": {
    "tags": []
   },
   "outputs": [],
   "source": [
    "def season_playoff_teams(stat_table_soup):\n",
    "    \"\"\"Retrieve the table of data for a season via the stat_table_soup html\"\"\"\n",
    "    table = stat_table_soup.find(\"div\", class_=\"nba-stat-table\").find(\"table\")\n",
    "    # Find the column names in the header of the table.\n",
    "    headers = table.find(\"thead\").find_all(\"th\")\n",
    "    # The conditional is for removing hidden header values that have no meaning\n",
    "    # to us. The first list element is removed since it refers to a ranking that\n",
    "    # we will not need.\n",
    "    headers = [header.decode_contents().replace('<br/>', ' ').replace('\\xa0', ' ').strip().upper()\n",
    "               for header in headers\n",
    "               if 'RANK' not in header.text][1:]\n",
    "    \n",
    "    # Rows that contain the table data.\n",
    "    rows = table.find(\"tbody\").find_all(\"tr\")\n",
    "    \n",
    "    # dataframe_data will contain dict elements for each row of data.\n",
    "    dataframe_data = []\n",
    "    \n",
    "\n",
    "    # Loop over each row in the table.\n",
    "    for row in rows:\n",
    "        # All the table data \"td\" tags for a given row (i.e. all column values).\n",
    "        cols = row.find_all(\"td\")\n",
    "        # Remove the first element that is a ranking.\n",
    "        cols = [td.text.strip() for td in cols][1:]\n",
    "        # Team name is index 0 and team wins (to later determine champions) is\n",
    "        # index 2.\n",
    "        team_name = cols[0]\n",
    "        team_wins = int(cols[2])\n",
    "       \n",
    "        # row_dict represents the data for an entire row.\n",
    "        row_dict = {}      \n",
    "        \n",
    "        row_dict[headers[0]] = team_name\n",
    "        row_dict[headers[2]] = team_wins\n",
    "\n",
    "        dataframe_data.append(row_dict)\n",
    "        \n",
    "    return pd.DataFrame(dataframe_data)"
   ]
  },
  {
   "cell_type": "markdown",
   "id": "1a417563-04e9-4144-8642-63d78afa74ee",
   "metadata": {},
   "source": [
    "#### Retrieve the Playoff Team Data"
   ]
  },
  {
   "cell_type": "code",
   "execution_count": null,
   "id": "463db4f2-fc8c-4f46-959d-26ed3bd7c4ba",
   "metadata": {},
   "outputs": [],
   "source": [
    "playoff_teams = retrieve_playoff_teams(team_stats_urls[0])"
   ]
  },
  {
   "cell_type": "code",
   "execution_count": null,
   "id": "4dc4f66c-1948-40cd-8553-38d7915e544b",
   "metadata": {
    "tags": []
   },
   "outputs": [],
   "source": [
    "for season, playoff_dataframe in playoff_teams.items():\n",
    "    \n",
    "    playoff_dataframe = playoff_dataframe.sort_values(by=['W'], ascending=False)\n",
    "    playoff_dataframe = playoff_dataframe.reset_index(drop=True).drop(columns='W')\n",
    "    playoff_dataframe.columns = [season]\n",
    "    if season == '2020-21':\n",
    "        playoff_teams_df = playoff_dataframe\n",
    "        continue\n",
    "    playoff_teams_df = playoff_teams_df.join(playoff_dataframe)\n",
    "playoff_teams_df"
   ]
  },
  {
   "cell_type": "code",
   "execution_count": null,
   "id": "1bea7ec8-b54c-43b1-b17f-2e49f640486e",
   "metadata": {},
   "outputs": [],
   "source": [
    "champions = playoff_teams_df.iloc[0]\n",
    "champions"
   ]
  },
  {
   "cell_type": "code",
   "execution_count": null,
   "id": "edc0526e-c18d-4a9a-b3b5-3c4d8b7f316a",
   "metadata": {},
   "outputs": [],
   "source": [
    "browser.quit()"
   ]
  },
  {
   "cell_type": "code",
   "execution_count": null,
   "id": "efe35de9-e8ca-4319-b59a-c3e1cfac6e70",
   "metadata": {},
   "outputs": [],
   "source": []
  }
 ],
 "metadata": {
  "kernelspec": {
   "display_name": "PythonData",
   "language": "python",
   "name": "pythondata"
  },
  "language_info": {
   "codemirror_mode": {
    "name": "ipython",
    "version": 3
   },
   "file_extension": ".py",
   "mimetype": "text/x-python",
   "name": "python",
   "nbconvert_exporter": "python",
   "pygments_lexer": "ipython3",
   "version": "3.7.11"
  }
 },
 "nbformat": 4,
 "nbformat_minor": 5
}
