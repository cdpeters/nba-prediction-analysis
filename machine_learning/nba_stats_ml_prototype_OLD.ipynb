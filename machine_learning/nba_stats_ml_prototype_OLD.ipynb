{
 "cells": [
  {
   "cell_type": "markdown",
   "metadata": {
    "cell_id": "7194ffb3-5328-4334-8210-01547f0d0caf",
    "deepnote_cell_height": 69.953125,
    "deepnote_cell_type": "markdown"
   },
   "source": [
    "## 2022 NBA Champion Prediction"
   ]
  },
  {
   "cell_type": "code",
   "execution_count": 1,
   "metadata": {
    "cell_id": "00001-61efdb7a-26f5-4fe2-94c0-7b3e52551b48",
    "colab": {
     "base_uri": "https://localhost:8080/"
    },
    "deepnote_cell_height": 242.953125,
    "deepnote_cell_type": "code",
    "deepnote_to_be_reexecuted": false,
    "execution_millis": 1129,
    "execution_start": 1651350296489,
    "id": "KX3p5U1xxA9d",
    "outputId": "50f0e33a-d377-4306-e433-344a012291f1",
    "output_cleared": true,
    "source_hash": "7d6dc8cc",
    "tags": []
   },
   "outputs": [],
   "source": [
    "import configparser\n",
    "from pathlib import Path\n",
    "\n",
    "import matplotlib.pyplot as plt\n",
    "import numpy as np\n",
    "import pandas as pd\n",
    "from sqlalchemy import create_engine\n",
    "from sqlalchemy.ext.declarative import declarative_base\n",
    "from sqlalchemy.orm import sessionmaker\n",
    "from sqlalchemy.ext.automap import automap_base"
   ]
  },
  {
   "cell_type": "markdown",
   "metadata": {
    "cell_id": "00002-490c6f5c-9575-434b-9d80-e696307549a9",
    "deepnote_cell_height": 101.9375,
    "deepnote_cell_type": "markdown"
   },
   "source": [
    "### Read in Our Data\n",
    "##### Read config.ini File"
   ]
  },
  {
   "cell_type": "code",
   "execution_count": 2,
   "metadata": {
    "cell_id": "00003-1efb0e49-fbbf-47cd-ab1d-61130e81e095",
    "deepnote_cell_height": 136.125,
    "deepnote_cell_type": "code",
    "deepnote_output_heights": [
     21.1875
    ],
    "deepnote_to_be_reexecuted": false,
    "execution_millis": 656,
    "execution_start": 1651350297621,
    "output_cleared": false,
    "source_hash": "1409b72d"
   },
   "outputs": [
    {
     "data": {
      "text/plain": [
       "['..\\\\config.ini']"
      ]
     },
     "execution_count": 2,
     "metadata": {},
     "output_type": "execute_result"
    }
   ],
   "source": [
    "config = configparser.ConfigParser()\n",
    "config.read(Path(\"../config.ini\"))"
   ]
  },
  {
   "cell_type": "markdown",
   "metadata": {
    "cell_id": "00004-97119117-4c09-4bf0-9c17-079e539fbce7",
    "deepnote_cell_height": 53.9375,
    "deepnote_cell_type": "markdown"
   },
   "source": [
    "##### Configure Credentials"
   ]
  },
  {
   "cell_type": "code",
   "execution_count": 3,
   "metadata": {
    "cell_id": "00005-17804c23-d89e-43c6-859f-9cf5098fc547",
    "deepnote_cell_height": 404.953125,
    "deepnote_cell_type": "code",
    "deepnote_to_be_reexecuted": false,
    "execution_millis": 1,
    "execution_start": 1651350297631,
    "output_cleared": true,
    "source_hash": "85be0bd7"
   },
   "outputs": [],
   "source": [
    "# database and root user credentials\n",
    "host = config[\"DATABASE\"][\"HOST\"]\n",
    "port = config[\"DATABASE\"][\"PORT\"]\n",
    "db = config[\"DATABASE\"][\"DB\"]\n",
    "\n",
    "# root user credentials\n",
    "root_user = config[\"ROOT\"][\"USERNAME\"]\n",
    "root_pwd = config[\"ROOT\"][\"USERNAME\"]\n",
    "\n",
    "# root user db uri\n",
    "root_db_uri = f\"postgresql://{root_user}:{root_pwd}@{host}:{port}/{db}\"\n",
    "\n",
    "\n",
    "# user credentials\n",
    "user = config[\"USER\"][\"USERNAME\"]\n",
    "pwd = config[\"USER\"][\"PASSWORD\"]\n",
    "\n",
    "# user db uri\n",
    "user_db_uri = f\"postgresql://{user}:{pwd}@{host}:{port}/{db}\""
   ]
  },
  {
   "cell_type": "markdown",
   "metadata": {
    "cell_id": "00006-f17b963d-e787-407b-88cc-c9f535cf1e43",
    "deepnote_cell_height": 53.9375,
    "deepnote_cell_type": "markdown"
   },
   "source": [
    "##### Setup SQLAlchemy Engine and Reflect Our Database"
   ]
  },
  {
   "cell_type": "code",
   "execution_count": 4,
   "metadata": {
    "cell_id": "00007-10f02473-b407-44fc-81bd-ad9d1a9d2bba",
    "deepnote_cell_height": 398.890625,
    "deepnote_cell_type": "code",
    "deepnote_output_heights": [
     193.953125
    ],
    "deepnote_to_be_reexecuted": false,
    "execution_millis": 640,
    "execution_start": 1651350297637,
    "output_cleared": false,
    "source_hash": "85066bca"
   },
   "outputs": [
    {
     "data": {
      "text/plain": [
       "['teams_traditional',\n",
       " 'teams_advanced',\n",
       " 'teams_misc',\n",
       " 'teams_clutch',\n",
       " 'playoffs_traditional',\n",
       " 'playoffs_advanced',\n",
       " 'playoffs_misc',\n",
       " 'playoffs_clutch',\n",
       " 'playoff_teams_long',\n",
       " 'champions']"
      ]
     },
     "execution_count": 4,
     "metadata": {},
     "output_type": "execute_result"
    }
   ],
   "source": [
    "engine = create_engine(root_db_uri)\n",
    "\n",
    "# Create an automap base class\n",
    "Base = automap_base()\n",
    "# reflect the tables (this creates the mapping between for our tables)\n",
    "Base.prepare(engine=engine, autoload_with=engine)\n",
    "Base.classes.keys()"
   ]
  },
  {
   "cell_type": "code",
   "execution_count": 5,
   "metadata": {
    "cell_id": "00008-e3dd5469-a079-4063-870a-fc0d82aab3f6",
    "deepnote_cell_height": 152.953125,
    "deepnote_cell_type": "code",
    "deepnote_to_be_reexecuted": false,
    "execution_millis": 1,
    "execution_start": 1651350297902,
    "output_cleared": true,
    "source_hash": "f41371d4",
    "tags": []
   },
   "outputs": [],
   "source": [
    "# Save references to each table from the mapping\n",
    "TeamsTraditional = Base.classes.teams_traditional\n",
    "TeamsAdvanced = Base.classes.teams_advanced\n",
    "TeamsMisc = Base.classes.teams_misc\n",
    "TeamsClutch = Base.classes.teams_clutch"
   ]
  },
  {
   "cell_type": "markdown",
   "metadata": {
    "cell_id": "00009-35ba1e2c-3e6b-46d8-ac65-9f33642c9811",
    "deepnote_cell_height": 53.9375,
    "deepnote_cell_type": "markdown"
   },
   "source": [
    "##### Query Our Database and Convert to DataFrames"
   ]
  },
  {
   "cell_type": "code",
   "execution_count": 6,
   "metadata": {
    "cell_id": "00010-debacaca-bbd8-41fc-9f73-2f225cc6bea6",
    "deepnote_cell_height": 1106.953125,
    "deepnote_cell_type": "code",
    "deepnote_to_be_reexecuted": false,
    "execution_millis": 107,
    "execution_start": 1651350297921,
    "output_cleared": true,
    "source_hash": "1cce4c57"
   },
   "outputs": [],
   "source": [
    "# Create the session\n",
    "Session = sessionmaker(engine)  \n",
    "\n",
    "# Create 2 variables, one with references to our tables, and the other an empty\n",
    "# dictionary to collect the resulting DataFrames\n",
    "tables = {\n",
    "    \"traditional\": TeamsTraditional,\n",
    "    \"advanced\": TeamsAdvanced,\n",
    "    \"misc\": TeamsMisc,\n",
    "    \"clutch\": TeamsClutch,\n",
    "}\n",
    "\n",
    "# Dictionaries to hold the dataframes. There are two because we will need to separate the data of\n",
    "# the current season (2022) from all the past seasons (past seasons will serve as our train/test data).\n",
    "dataframes = {}\n",
    "dataframes_22 = {}\n",
    "\n",
    "# Loop through each table reference, query the data from our DB, and convert to\n",
    "# a DataFrame\n",
    "with Session() as session:\n",
    "    for stat_type, table in tables.items():\n",
    "        # Query the table\n",
    "        query = session.query(table)\n",
    "        # Use the query's SQL statement to read into a DataFrame\n",
    "        df = pd.read_sql(sql=query.statement, con=engine)\n",
    "        # Change season column to the year as an integer\n",
    "        df[\"SEASON\"] = df[\"SEASON\"].dt.year\n",
    "        # Filter out the non-playoff teams and drop the PLAYOFFS columns as well as team record info \n",
    "        df = df[df[\"PLAYOFFS\"] == True].drop(columns=[\"GP\", \"W\", \"L\", \"PLAYOFFS\"])\n",
    "        \n",
    "        # Slice the DataFrame to separate the 2022 season (that doesn't have a champion) from all of\n",
    "        # the past seasons\n",
    "        df_22 = df[df[\"SEASON\"] == 2022]\n",
    "        df = df[df[\"SEASON\"] != 2022]\n",
    "\n",
    "        # Create a new team identifier by combining the year and team name\n",
    "        df_22[\"TEAM\"] = df_22[\"SEASON\"].astype(dtype=\"str\") + \" \" + df_22[\"TEAM\"]\n",
    "        df[\"TEAM\"] = df[\"SEASON\"].astype(dtype=\"str\") + \" \" + df[\"TEAM\"]\n",
    "\n",
    "        # Drop the season column\n",
    "        df_22 = df_22.drop(columns=\"SEASON\")\n",
    "        df = df.drop(columns=\"SEASON\")\n",
    "\n",
    "        # Reset the index and assign the transformed DataFrame to the \"output\" dictionaries\n",
    "        dataframes_22[stat_type] = df_22.reset_index(drop=True)\n",
    "        dataframes[stat_type] = df.reset_index(drop=True)\n",
    "\n",
    "# Assign the DataFrames to variables with same names as our tables from our DB\n",
    "teams_traditional = dataframes[\"traditional\"]\n",
    "teams_advanced = dataframes[\"advanced\"]\n",
    "teams_misc = dataframes[\"misc\"]\n",
    "teams_clutch = dataframes[\"clutch\"]\n",
    "\n",
    "# Assign the 2022 DataFrames to variables with same names as our tables from our DB with suffix for 2022\n",
    "teams_traditional_22 = dataframes_22[\"traditional\"]\n",
    "teams_advanced_22 = dataframes_22[\"advanced\"]\n",
    "teams_misc_22 = dataframes_22[\"misc\"]\n",
    "teams_clutch_22 = dataframes_22[\"clutch\"]"
   ]
  },
  {
   "cell_type": "markdown",
   "metadata": {
    "cell_id": "70d4066f0b204486a8da204c9c9a9681",
    "deepnote_cell_height": 53.9375,
    "deepnote_cell_type": "markdown",
    "tags": []
   },
   "source": [
    "##### Check Number of Records for Each DataFrame"
   ]
  },
  {
   "cell_type": "code",
   "execution_count": 7,
   "metadata": {
    "cell_id": "a3f6abf870aa44c4b254017b3012c045",
    "deepnote_cell_height": 395.21875,
    "deepnote_cell_type": "code",
    "deepnote_to_be_reexecuted": false,
    "execution_millis": 244,
    "execution_start": 1651350298033,
    "output_cleared": false,
    "source_hash": "49ec801",
    "tags": []
   },
   "outputs": [
    {
     "name": "stdout",
     "output_type": "stream",
     "text": [
      "traditional count =  400\n",
      "advanced count =  400\n",
      "misc count =  400\n",
      "clutch count =  400\n",
      "2022 traditional count =  16\n",
      "2022 advanced count =  16\n",
      "2022 misc count =  16\n",
      "2022 clutch count =  16\n"
     ]
    }
   ],
   "source": [
    "print(\"traditional count = \", len(teams_traditional))\n",
    "print(\"advanced count = \", len(teams_advanced))\n",
    "print(\"misc count = \", len(teams_misc))\n",
    "print(\"clutch count = \", len(teams_clutch))\n",
    "\n",
    "print(\"2022 traditional count = \", len(teams_traditional_22))\n",
    "print(\"2022 advanced count = \", len(teams_advanced_22))\n",
    "print(\"2022 misc count = \", len(teams_misc_22))\n",
    "print(\"2022 clutch count = \", len(teams_clutch_22))"
   ]
  },
  {
   "cell_type": "code",
   "execution_count": 8,
   "metadata": {
    "cell_id": "97008a3e84cb43a993572b78828b4eb7",
    "deepnote_cell_height": 634.265625,
    "deepnote_cell_type": "code",
    "deepnote_table_loading": false,
    "deepnote_table_state": {
     "filters": [],
     "pageIndex": 0,
     "pageSize": 10,
     "sortBy": []
    },
    "deepnote_to_be_reexecuted": false,
    "execution_millis": 198,
    "execution_start": 1651350298079,
    "output_cleared": false,
    "source_hash": "588f0f3",
    "tags": []
   },
   "outputs": [
    {
     "data": {
      "application/vnd.deepnote.dataframe.v3+json": {
       "column_count": 25,
       "columns": [
        {
         "dtype": "object",
         "name": "TEAM",
         "stats": {
          "categories": [
           {
            "count": 1,
            "name": "2021 Utah Jazz"
           },
           {
            "count": 1,
            "name": "2021 Phoenix Suns"
           },
           {
            "count": 398,
            "name": "398 others"
           }
          ],
          "nan_count": 0,
          "unique_count": 400
         }
        },
        {
         "dtype": "float64",
         "name": "WIN%",
         "stats": {
          "histogram": [
           {
            "bin_end": 0.4841,
            "bin_start": 0.439,
            "count": 12
           },
           {
            "bin_end": 0.5292,
            "bin_start": 0.4841,
            "count": 59
           },
           {
            "bin_end": 0.5743,
            "bin_start": 0.5292,
            "count": 72
           },
           {
            "bin_end": 0.6194,
            "bin_start": 0.5743,
            "count": 77
           },
           {
            "bin_end": 0.6645,
            "bin_start": 0.6194,
            "count": 65
           },
           {
            "bin_end": 0.7096,
            "bin_start": 0.6645,
            "count": 61
           },
           {
            "bin_end": 0.7546999999999999,
            "bin_start": 0.7096,
            "count": 30
           },
           {
            "bin_end": 0.7998000000000001,
            "bin_start": 0.7546999999999999,
            "count": 14
           },
           {
            "bin_end": 0.8449,
            "bin_start": 0.7998000000000001,
            "count": 9
           },
           {
            "bin_end": 0.89,
            "bin_start": 0.8449,
            "count": 1
           }
          ],
          "max": "0.89",
          "min": "0.439",
          "nan_count": 0,
          "unique_count": 74
         }
        },
        {
         "dtype": "float64",
         "name": "MIN",
         "stats": {
          "histogram": [
           {
            "bin_end": 48.1,
            "bin_start": 48,
            "count": 2
           },
           {
            "bin_end": 48.2,
            "bin_start": 48.1,
            "count": 40
           },
           {
            "bin_end": 48.3,
            "bin_start": 48.2,
            "count": 96
           },
           {
            "bin_end": 48.4,
            "bin_start": 48.3,
            "count": 54
           },
           {
            "bin_end": 48.5,
            "bin_start": 48.4,
            "count": 105
           },
           {
            "bin_end": 48.6,
            "bin_start": 48.5,
            "count": 55
           },
           {
            "bin_end": 48.7,
            "bin_start": 48.6,
            "count": 21
           },
           {
            "bin_end": 48.8,
            "bin_start": 48.7,
            "count": 18
           },
           {
            "bin_end": 48.9,
            "bin_start": 48.8,
            "count": 3
           },
           {
            "bin_end": 49,
            "bin_start": 48.9,
            "count": 6
           }
          ],
          "max": "49.0",
          "min": "48.0",
          "nan_count": 0,
          "unique_count": 11
         }
        },
        {
         "dtype": "float64",
         "name": "PTS",
         "stats": {
          "histogram": [
           {
            "bin_end": 89.67999999999999,
            "bin_start": 86.3,
            "count": 6
           },
           {
            "bin_end": 93.06,
            "bin_start": 89.67999999999999,
            "count": 27
           },
           {
            "bin_end": 96.44,
            "bin_start": 93.06,
            "count": 64
           },
           {
            "bin_end": 99.82,
            "bin_start": 96.44,
            "count": 93
           },
           {
            "bin_end": 103.19999999999999,
            "bin_start": 99.82,
            "count": 78
           },
           {
            "bin_end": 106.58,
            "bin_start": 103.19999999999999,
            "count": 50
           },
           {
            "bin_end": 109.96,
            "bin_start": 106.58,
            "count": 26
           },
           {
            "bin_end": 113.34,
            "bin_start": 109.96,
            "count": 27
           },
           {
            "bin_end": 116.72,
            "bin_start": 113.34,
            "count": 22
           },
           {
            "bin_end": 120.1,
            "bin_start": 116.72,
            "count": 7
           }
          ],
          "max": "120.1",
          "min": "86.3",
          "nan_count": 0,
          "unique_count": 202
         }
        },
        {
         "dtype": "float64",
         "name": "FGM",
         "stats": {
          "histogram": [
           {
            "bin_end": 32.19,
            "bin_start": 30.8,
            "count": 1
           },
           {
            "bin_end": 33.58,
            "bin_start": 32.19,
            "count": 12
           },
           {
            "bin_end": 34.97,
            "bin_start": 33.58,
            "count": 33
           },
           {
            "bin_end": 36.36,
            "bin_start": 34.97,
            "count": 74
           },
           {
            "bin_end": 37.75,
            "bin_start": 36.36,
            "count": 100
           },
           {
            "bin_end": 39.14,
            "bin_start": 37.75,
            "count": 83
           },
           {
            "bin_end": 40.53,
            "bin_start": 39.14,
            "count": 44
           },
           {
            "bin_end": 41.92,
            "bin_start": 40.53,
            "count": 31
           },
           {
            "bin_end": 43.31,
            "bin_start": 41.92,
            "count": 19
           },
           {
            "bin_end": 44.7,
            "bin_start": 43.31,
            "count": 3
           }
          ],
          "max": "44.7",
          "min": "30.8",
          "nan_count": 0,
          "unique_count": 107
         }
        },
        {
         "dtype": "float64",
         "name": "FGA",
         "stats": {
          "histogram": [
           {
            "bin_end": 73.57,
            "bin_start": 71.3,
            "count": 2
           },
           {
            "bin_end": 75.84,
            "bin_start": 73.57,
            "count": 15
           },
           {
            "bin_end": 78.11,
            "bin_start": 75.84,
            "count": 50
           },
           {
            "bin_end": 80.38,
            "bin_start": 78.11,
            "count": 78
           },
           {
            "bin_end": 82.65,
            "bin_start": 80.38,
            "count": 88
           },
           {
            "bin_end": 84.92,
            "bin_start": 82.65,
            "count": 72
           },
           {
            "bin_end": 87.19,
            "bin_start": 84.92,
            "count": 45
           },
           {
            "bin_end": 89.46000000000001,
            "bin_start": 87.19,
            "count": 33
           },
           {
            "bin_end": 91.73,
            "bin_start": 89.46000000000001,
            "count": 14
           },
           {
            "bin_end": 94,
            "bin_start": 91.73,
            "count": 3
           }
          ],
          "max": "94.0",
          "min": "71.3",
          "nan_count": 0,
          "unique_count": 143
         }
        },
        {
         "dtype": "float64",
         "name": "FG%",
         "stats": {
          "histogram": [
           {
            "bin_end": 41.85,
            "bin_start": 40.9,
            "count": 2
           },
           {
            "bin_end": 42.8,
            "bin_start": 41.85,
            "count": 5
           },
           {
            "bin_end": 43.75,
            "bin_start": 42.8,
            "count": 26
           },
           {
            "bin_end": 44.699999999999996,
            "bin_start": 43.75,
            "count": 50
           },
           {
            "bin_end": 45.65,
            "bin_start": 44.699999999999996,
            "count": 81
           },
           {
            "bin_end": 46.599999999999994,
            "bin_start": 45.65,
            "count": 101
           },
           {
            "bin_end": 47.55,
            "bin_start": 46.599999999999994,
            "count": 84
           },
           {
            "bin_end": 48.5,
            "bin_start": 47.55,
            "count": 29
           },
           {
            "bin_end": 49.449999999999996,
            "bin_start": 48.5,
            "count": 15
           },
           {
            "bin_end": 50.4,
            "bin_start": 49.449999999999996,
            "count": 7
           }
          ],
          "max": "50.4",
          "min": "40.9",
          "nan_count": 0,
          "unique_count": 77
         }
        },
        {
         "dtype": "float64",
         "name": "3PM",
         "stats": {
          "histogram": [
           {
            "bin_end": 3.4699999999999998,
            "bin_start": 2,
            "count": 12
           },
           {
            "bin_end": 4.9399999999999995,
            "bin_start": 3.4699999999999998,
            "count": 66
           },
           {
            "bin_end": 6.41,
            "bin_start": 4.9399999999999995,
            "count": 95
           },
           {
            "bin_end": 7.88,
            "bin_start": 6.41,
            "count": 79
           },
           {
            "bin_end": 9.35,
            "bin_start": 7.88,
            "count": 52
           },
           {
            "bin_end": 10.82,
            "bin_start": 9.35,
            "count": 41
           },
           {
            "bin_end": 12.29,
            "bin_start": 10.82,
            "count": 24
           },
           {
            "bin_end": 13.76,
            "bin_start": 12.29,
            "count": 18
           },
           {
            "bin_end": 15.23,
            "bin_start": 13.76,
            "count": 8
           },
           {
            "bin_end": 16.7,
            "bin_start": 15.23,
            "count": 5
           }
          ],
          "max": "16.7",
          "min": "2.0",
          "nan_count": 0,
          "unique_count": 113
         }
        },
        {
         "dtype": "float64",
         "name": "3PA",
         "stats": {
          "histogram": [
           {
            "bin_end": 11.2,
            "bin_start": 7.4,
            "count": 24
           },
           {
            "bin_end": 15,
            "bin_start": 11.2,
            "count": 73
           },
           {
            "bin_end": 18.799999999999997,
            "bin_start": 15,
            "count": 101
           },
           {
            "bin_end": 22.6,
            "bin_start": 18.799999999999997,
            "count": 75
           },
           {
            "bin_end": 26.4,
            "bin_start": 22.6,
            "count": 45
           },
           {
            "bin_end": 30.199999999999996,
            "bin_start": 26.4,
            "count": 28
           },
           {
            "bin_end": 34,
            "bin_start": 30.199999999999996,
            "count": 26
           },
           {
            "bin_end": 37.8,
            "bin_start": 34,
            "count": 17
           },
           {
            "bin_end": 41.599999999999994,
            "bin_start": 37.8,
            "count": 7
           },
           {
            "bin_end": 45.4,
            "bin_start": 41.599999999999994,
            "count": 4
           }
          ],
          "max": "45.4",
          "min": "7.4",
          "nan_count": 0,
          "unique_count": 202
         }
        },
        {
         "dtype": "float64",
         "name": "3P%",
         "stats": {
          "histogram": [
           {
            "bin_end": 28.04,
            "bin_start": 26.4,
            "count": 1
           },
           {
            "bin_end": 29.68,
            "bin_start": 28.04,
            "count": 0
           },
           {
            "bin_end": 31.32,
            "bin_start": 29.68,
            "count": 6
           },
           {
            "bin_end": 32.96,
            "bin_start": 31.32,
            "count": 16
           },
           {
            "bin_end": 34.599999999999994,
            "bin_start": 32.96,
            "count": 61
           },
           {
            "bin_end": 36.239999999999995,
            "bin_start": 34.599999999999994,
            "count": 137
           },
           {
            "bin_end": 37.879999999999995,
            "bin_start": 36.239999999999995,
            "count": 114
           },
           {
            "bin_end": 39.519999999999996,
            "bin_start": 37.879999999999995,
            "count": 51
           },
           {
            "bin_end": 41.16,
            "bin_start": 39.519999999999996,
            "count": 11
           },
           {
            "bin_end": 42.8,
            "bin_start": 41.16,
            "count": 3
           }
          ],
          "max": "42.8",
          "min": "26.4",
          "nan_count": 0,
          "unique_count": 90
         }
        },
        {
         "dtype": "float64",
         "name": "FTM",
         "stats": {
          "histogram": [
           {
            "bin_end": 14.64,
            "bin_start": 13.5,
            "count": 3
           },
           {
            "bin_end": 15.78,
            "bin_start": 14.64,
            "count": 23
           },
           {
            "bin_end": 16.92,
            "bin_start": 15.78,
            "count": 59
           },
           {
            "bin_end": 18.06,
            "bin_start": 16.92,
            "count": 89
           },
           {
            "bin_end": 19.2,
            "bin_start": 18.06,
            "count": 87
           },
           {
            "bin_end": 20.34,
            "bin_start": 19.2,
            "count": 76
           },
           {
            "bin_end": 21.48,
            "bin_start": 20.34,
            "count": 35
           },
           {
            "bin_end": 22.619999999999997,
            "bin_start": 21.48,
            "count": 16
           },
           {
            "bin_end": 23.759999999999998,
            "bin_start": 22.619999999999997,
            "count": 9
           },
           {
            "bin_end": 24.9,
            "bin_start": 23.759999999999998,
            "count": 3
           }
          ],
          "max": "24.9",
          "min": "13.5",
          "nan_count": 0,
          "unique_count": 85
         }
        },
        {
         "dtype": "float64",
         "name": "FTA",
         "stats": {
          "histogram": [
           {
            "bin_end": 19.55,
            "bin_start": 18,
            "count": 11
           },
           {
            "bin_end": 21.1,
            "bin_start": 19.55,
            "count": 31
           },
           {
            "bin_end": 22.65,
            "bin_start": 21.1,
            "count": 65
           },
           {
            "bin_end": 24.2,
            "bin_start": 22.65,
            "count": 80
           },
           {
            "bin_end": 25.75,
            "bin_start": 24.2,
            "count": 92
           },
           {
            "bin_end": 27.3,
            "bin_start": 25.75,
            "count": 63
           },
           {
            "bin_end": 28.85,
            "bin_start": 27.3,
            "count": 33
           },
           {
            "bin_end": 30.4,
            "bin_start": 28.85,
            "count": 18
           },
           {
            "bin_end": 31.950000000000003,
            "bin_start": 30.4,
            "count": 5
           },
           {
            "bin_end": 33.5,
            "bin_start": 31.950000000000003,
            "count": 2
           }
          ],
          "max": "33.5",
          "min": "18.0",
          "nan_count": 0,
          "unique_count": 113
         }
        },
        {
         "dtype": "float64",
         "name": "FT%",
         "stats": {
          "histogram": [
           {
            "bin_end": 67.79,
            "bin_start": 66,
            "count": 3
           },
           {
            "bin_end": 69.58,
            "bin_start": 67.79,
            "count": 15
           },
           {
            "bin_end": 71.37,
            "bin_start": 69.58,
            "count": 18
           },
           {
            "bin_end": 73.16,
            "bin_start": 71.37,
            "count": 31
           },
           {
            "bin_end": 74.95,
            "bin_start": 73.16,
            "count": 71
           },
           {
            "bin_end": 76.74000000000001,
            "bin_start": 74.95,
            "count": 93
           },
           {
            "bin_end": 78.53,
            "bin_start": 76.74000000000001,
            "count": 90
           },
           {
            "bin_end": 80.32000000000001,
            "bin_start": 78.53,
            "count": 46
           },
           {
            "bin_end": 82.11,
            "bin_start": 80.32000000000001,
            "count": 27
           },
           {
            "bin_end": 83.9,
            "bin_start": 82.11,
            "count": 6
           }
          ],
          "max": "83.9",
          "min": "66.0",
          "nan_count": 0,
          "unique_count": 132
         }
        },
        {
         "dtype": "float64",
         "name": "OREB",
         "stats": {
          "histogram": [
           {
            "bin_end": 8.48,
            "bin_start": 7.6,
            "count": 11
           },
           {
            "bin_end": 9.36,
            "bin_start": 8.48,
            "count": 34
           },
           {
            "bin_end": 10.239999999999998,
            "bin_start": 9.36,
            "count": 63
           },
           {
            "bin_end": 11.12,
            "bin_start": 10.239999999999998,
            "count": 105
           },
           {
            "bin_end": 12,
            "bin_start": 11.12,
            "count": 76
           },
           {
            "bin_end": 12.879999999999999,
            "bin_start": 12,
            "count": 63
           },
           {
            "bin_end": 13.759999999999998,
            "bin_start": 12.879999999999999,
            "count": 37
           },
           {
            "bin_end": 14.639999999999999,
            "bin_start": 13.759999999999998,
            "count": 7
           },
           {
            "bin_end": 15.52,
            "bin_start": 14.639999999999999,
            "count": 3
           },
           {
            "bin_end": 16.4,
            "bin_start": 15.52,
            "count": 1
           }
          ],
          "max": "16.4",
          "min": "7.6",
          "nan_count": 0,
          "unique_count": 68
         }
        },
        {
         "dtype": "float64",
         "name": "DREB",
         "stats": {
          "histogram": [
           {
            "bin_end": 27.71,
            "bin_start": 26.1,
            "count": 7
           },
           {
            "bin_end": 29.32,
            "bin_start": 27.71,
            "count": 45
           },
           {
            "bin_end": 30.93,
            "bin_start": 29.32,
            "count": 112
           },
           {
            "bin_end": 32.54,
            "bin_start": 30.93,
            "count": 105
           },
           {
            "bin_end": 34.150000000000006,
            "bin_start": 32.54,
            "count": 69
           },
           {
            "bin_end": 35.760000000000005,
            "bin_start": 34.150000000000006,
            "count": 45
           },
           {
            "bin_end": 37.370000000000005,
            "bin_start": 35.760000000000005,
            "count": 13
           },
           {
            "bin_end": 38.980000000000004,
            "bin_start": 37.370000000000005,
            "count": 2
           },
           {
            "bin_end": 40.59,
            "bin_start": 38.980000000000004,
            "count": 1
           },
           {
            "bin_end": 42.2,
            "bin_start": 40.59,
            "count": 1
           }
          ],
          "max": "42.2",
          "min": "26.1",
          "nan_count": 0,
          "unique_count": 92
         }
        },
        {
         "dtype": "float64",
         "name": "REB",
         "stats": {
          "histogram": [
           {
            "bin_end": 38.379999999999995,
            "bin_start": 36.9,
            "count": 2
           },
           {
            "bin_end": 39.86,
            "bin_start": 38.379999999999995,
            "count": 23
           },
           {
            "bin_end": 41.34,
            "bin_start": 39.86,
            "count": 69
           },
           {
            "bin_end": 42.82,
            "bin_start": 41.34,
            "count": 114
           },
           {
            "bin_end": 44.3,
            "bin_start": 42.82,
            "count": 102
           },
           {
            "bin_end": 45.78,
            "bin_start": 44.3,
            "count": 62
           },
           {
            "bin_end": 47.260000000000005,
            "bin_start": 45.78,
            "count": 17
           },
           {
            "bin_end": 48.74,
            "bin_start": 47.260000000000005,
            "count": 9
           },
           {
            "bin_end": 50.22,
            "bin_start": 48.74,
            "count": 1
           },
           {
            "bin_end": 51.7,
            "bin_start": 50.22,
            "count": 1
           }
          ],
          "max": "51.7",
          "min": "36.9",
          "nan_count": 0,
          "unique_count": 93
         }
        },
        {
         "dtype": "float64",
         "name": "AST",
         "stats": {
          "histogram": [
           {
            "bin_end": 17.08,
            "bin_start": 15.6,
            "count": 1
           },
           {
            "bin_end": 18.56,
            "bin_start": 17.08,
            "count": 6
           },
           {
            "bin_end": 20.04,
            "bin_start": 18.56,
            "count": 40
           },
           {
            "bin_end": 21.52,
            "bin_start": 20.04,
            "count": 92
           },
           {
            "bin_end": 23,
            "bin_start": 21.52,
            "count": 98
           },
           {
            "bin_end": 24.479999999999997,
            "bin_start": 23,
            "count": 87
           },
           {
            "bin_end": 25.96,
            "bin_start": 24.479999999999997,
            "count": 49
           },
           {
            "bin_end": 27.439999999999998,
            "bin_start": 25.96,
            "count": 23
           },
           {
            "bin_end": 28.92,
            "bin_start": 27.439999999999998,
            "count": 1
           },
           {
            "bin_end": 30.4,
            "bin_start": 28.92,
            "count": 3
           }
          ],
          "max": "30.4",
          "min": "15.6",
          "nan_count": 0,
          "unique_count": 92
         }
        },
        {
         "dtype": "float64",
         "name": "TOV",
         "stats": {
          "histogram": [
           {
            "bin_end": 11.77,
            "bin_start": 11.1,
            "count": 7
           },
           {
            "bin_end": 12.44,
            "bin_start": 11.77,
            "count": 12
           },
           {
            "bin_end": 13.11,
            "bin_start": 12.44,
            "count": 38
           },
           {
            "bin_end": 13.780000000000001,
            "bin_start": 13.11,
            "count": 65
           },
           {
            "bin_end": 14.45,
            "bin_start": 13.780000000000001,
            "count": 102
           },
           {
            "bin_end": 15.120000000000001,
            "bin_start": 14.45,
            "count": 91
           },
           {
            "bin_end": 15.790000000000001,
            "bin_start": 15.120000000000001,
            "count": 44
           },
           {
            "bin_end": 16.46,
            "bin_start": 15.790000000000001,
            "count": 25
           },
           {
            "bin_end": 17.130000000000003,
            "bin_start": 16.46,
            "count": 14
           },
           {
            "bin_end": 17.8,
            "bin_start": 17.130000000000003,
            "count": 2
           }
          ],
          "max": "17.8",
          "min": "11.1",
          "nan_count": 0,
          "unique_count": 58
         }
        },
        {
         "dtype": "float64",
         "name": "STL",
         "stats": {
          "histogram": [
           {
            "bin_end": 6.05,
            "bin_start": 5.5,
            "count": 6
           },
           {
            "bin_end": 6.6,
            "bin_start": 6.05,
            "count": 27
           },
           {
            "bin_end": 7.15,
            "bin_start": 6.6,
            "count": 74
           },
           {
            "bin_end": 7.7,
            "bin_start": 7.15,
            "count": 69
           },
           {
            "bin_end": 8.25,
            "bin_start": 7.7,
            "count": 95
           },
           {
            "bin_end": 8.8,
            "bin_start": 8.25,
            "count": 67
           },
           {
            "bin_end": 9.350000000000001,
            "bin_start": 8.8,
            "count": 40
           },
           {
            "bin_end": 9.9,
            "bin_start": 9.350000000000001,
            "count": 16
           },
           {
            "bin_end": 10.45,
            "bin_start": 9.9,
            "count": 4
           },
           {
            "bin_end": 11,
            "bin_start": 10.45,
            "count": 2
           }
          ],
          "max": "11.0",
          "min": "5.5",
          "nan_count": 0,
          "unique_count": 47
         }
        },
        {
         "dtype": "float64",
         "name": "BLK",
         "stats": {
          "histogram": [
           {
            "bin_end": 3.7899999999999996,
            "bin_start": 3.3,
            "count": 17
           },
           {
            "bin_end": 4.279999999999999,
            "bin_start": 3.7899999999999996,
            "count": 60
           },
           {
            "bin_end": 4.77,
            "bin_start": 4.279999999999999,
            "count": 77
           },
           {
            "bin_end": 5.26,
            "bin_start": 4.77,
            "count": 93
           },
           {
            "bin_end": 5.75,
            "bin_start": 5.26,
            "count": 79
           },
           {
            "bin_end": 6.239999999999999,
            "bin_start": 5.75,
            "count": 42
           },
           {
            "bin_end": 6.7299999999999995,
            "bin_start": 6.239999999999999,
            "count": 19
           },
           {
            "bin_end": 7.219999999999999,
            "bin_start": 6.7299999999999995,
            "count": 10
           },
           {
            "bin_end": 7.709999999999999,
            "bin_start": 7.219999999999999,
            "count": 2
           },
           {
            "bin_end": 8.2,
            "bin_start": 7.709999999999999,
            "count": 1
           }
          ],
          "max": "8.2",
          "min": "3.3",
          "nan_count": 0,
          "unique_count": 41
         }
        },
        {
         "dtype": "float64",
         "name": "BLKA",
         "stats": {
          "histogram": [
           {
            "bin_end": 3.38,
            "bin_start": 3,
            "count": 7
           },
           {
            "bin_end": 3.76,
            "bin_start": 3.38,
            "count": 23
           },
           {
            "bin_end": 4.140000000000001,
            "bin_start": 3.76,
            "count": 64
           },
           {
            "bin_end": 4.52,
            "bin_start": 4.140000000000001,
            "count": 81
           },
           {
            "bin_end": 4.9,
            "bin_start": 4.52,
            "count": 64
           },
           {
            "bin_end": 5.28,
            "bin_start": 4.9,
            "count": 90
           },
           {
            "bin_end": 5.66,
            "bin_start": 5.28,
            "count": 44
           },
           {
            "bin_end": 6.04,
            "bin_start": 5.66,
            "count": 15
           },
           {
            "bin_end": 6.42,
            "bin_start": 6.04,
            "count": 8
           },
           {
            "bin_end": 6.8,
            "bin_start": 6.42,
            "count": 4
           }
          ],
          "max": "6.8",
          "min": "3.0",
          "nan_count": 0,
          "unique_count": 36
         }
        },
        {
         "dtype": "float64",
         "name": "PF",
         "stats": {
          "histogram": [
           {
            "bin_end": 17.69,
            "bin_start": 16.8,
            "count": 8
           },
           {
            "bin_end": 18.580000000000002,
            "bin_start": 17.69,
            "count": 22
           },
           {
            "bin_end": 19.47,
            "bin_start": 18.580000000000002,
            "count": 54
           },
           {
            "bin_end": 20.36,
            "bin_start": 19.47,
            "count": 71
           },
           {
            "bin_end": 21.25,
            "bin_start": 20.36,
            "count": 83
           },
           {
            "bin_end": 22.14,
            "bin_start": 21.25,
            "count": 66
           },
           {
            "bin_end": 23.03,
            "bin_start": 22.14,
            "count": 50
           },
           {
            "bin_end": 23.92,
            "bin_start": 23.03,
            "count": 26
           },
           {
            "bin_end": 24.810000000000002,
            "bin_start": 23.92,
            "count": 16
           },
           {
            "bin_end": 25.7,
            "bin_start": 24.810000000000002,
            "count": 4
           }
          ],
          "max": "25.7",
          "min": "16.8",
          "nan_count": 0,
          "unique_count": 80
         }
        },
        {
         "dtype": "float64",
         "name": "PFD",
         "stats": {
          "histogram": [
           {
            "bin_end": 2.5,
            "bin_start": 0,
            "count": 137
           },
           {
            "bin_end": 5,
            "bin_start": 2.5,
            "count": 7
           },
           {
            "bin_end": 7.5,
            "bin_start": 5,
            "count": 0
           },
           {
            "bin_end": 10,
            "bin_start": 7.5,
            "count": 0
           },
           {
            "bin_end": 12.5,
            "bin_start": 10,
            "count": 0
           },
           {
            "bin_end": 15,
            "bin_start": 12.5,
            "count": 0
           },
           {
            "bin_end": 17.5,
            "bin_start": 15,
            "count": 1
           },
           {
            "bin_end": 20,
            "bin_start": 17.5,
            "count": 77
           },
           {
            "bin_end": 22.5,
            "bin_start": 20,
            "count": 143
           },
           {
            "bin_end": 25,
            "bin_start": 22.5,
            "count": 35
           }
          ],
          "max": "25.0",
          "min": "0.0",
          "nan_count": 0,
          "unique_count": 78
         }
        },
        {
         "dtype": "float64",
         "name": "+/-",
         "stats": {
          "histogram": [
           {
            "bin_end": -1.45,
            "bin_start": -2.9,
            "count": 11
           },
           {
            "bin_end": 0,
            "bin_start": -1.45,
            "count": 37
           },
           {
            "bin_end": 1.4499999999999997,
            "bin_start": 0,
            "count": 61
           },
           {
            "bin_end": 2.9,
            "bin_start": 1.4499999999999997,
            "count": 81
           },
           {
            "bin_end": 4.35,
            "bin_start": 2.9,
            "count": 76
           },
           {
            "bin_end": 5.799999999999999,
            "bin_start": 4.35,
            "count": 52
           },
           {
            "bin_end": 7.25,
            "bin_start": 5.799999999999999,
            "count": 47
           },
           {
            "bin_end": 8.7,
            "bin_start": 7.25,
            "count": 23
           },
           {
            "bin_end": 10.149999999999999,
            "bin_start": 8.7,
            "count": 7
           },
           {
            "bin_end": 11.6,
            "bin_start": 10.149999999999999,
            "count": 5
           }
          ],
          "max": "11.6",
          "min": "-2.9",
          "nan_count": 0,
          "unique_count": 110
         }
        },
        {
         "dtype": "bool",
         "name": "CHAMPION",
         "stats": {
          "categories": [
           {
            "count": 375,
            "name": "False"
           },
           {
            "count": 25,
            "name": "True"
           }
          ],
          "nan_count": 0,
          "unique_count": 2
         }
        },
        {
         "dtype": "int64",
         "name": "_deepnote_index_column"
        }
       ],
       "row_count": 400,
       "rows": [
        {
         "+/-": 9.3,
         "3P%": 38.9,
         "3PA": 43,
         "3PM": 16.7,
         "AST": 23.7,
         "BLK": 5.2,
         "BLKA": 3.9,
         "CHAMPION": false,
         "DREB": 37.6,
         "FG%": 46.8,
         "FGA": 88.1,
         "FGM": 41.3,
         "FT%": 79.9,
         "FTA": 21.5,
         "FTM": 17.2,
         "MIN": 48.2,
         "OREB": 10.6,
         "PF": 18.5,
         "PFD": 19,
         "PTS": 116.4,
         "REB": 48.3,
         "STL": 6.6,
         "TEAM": "2021 Utah Jazz",
         "TOV": 14.2,
         "WIN%": 0.722,
         "_deepnote_index_column": 0
        },
        {
         "+/-": 5.8,
         "3P%": 37.8,
         "3PA": 34.6,
         "3PM": 13.1,
         "AST": 26.9,
         "BLK": 4.3,
         "BLKA": 3.6,
         "CHAMPION": false,
         "DREB": 34.2,
         "FG%": 49,
         "FGA": 88.3,
         "FGM": 43.3,
         "FT%": 83.4,
         "FTA": 18.7,
         "FTM": 15.6,
         "MIN": 48.6,
         "OREB": 8.8,
         "PF": 19.1,
         "PFD": 18,
         "PTS": 115.3,
         "REB": 42.9,
         "STL": 7.2,
         "TEAM": "2021 Phoenix Suns",
         "TOV": 12.5,
         "WIN%": 0.708,
         "_deepnote_index_column": 1
        },
        {
         "+/-": 5.6,
         "3P%": 37.4,
         "3PA": 30.1,
         "3PM": 11.3,
         "AST": 23.7,
         "BLK": 6.2,
         "BLKA": 4.7,
         "CHAMPION": false,
         "DREB": 35,
         "FG%": 47.6,
         "FGA": 86.9,
         "FGM": 41.4,
         "FT%": 76.7,
         "FTA": 25.5,
         "FTM": 19.6,
         "MIN": 48.4,
         "OREB": 10,
         "PF": 20.2,
         "PFD": 21,
         "PTS": 113.6,
         "REB": 45.1,
         "STL": 9.1,
         "TEAM": "2021 Philadelphia 76ers",
         "TOV": 14.4,
         "WIN%": 0.681,
         "_deepnote_index_column": 2
        },
        {
         "+/-": 4.5,
         "3P%": 39.2,
         "3PA": 36.1,
         "3PM": 14.2,
         "AST": 26.8,
         "BLK": 5.3,
         "BLKA": 4.6,
         "CHAMPION": false,
         "DREB": 35.5,
         "FG%": 49.4,
         "FGA": 87.3,
         "FGM": 43.1,
         "FT%": 80.4,
         "FTA": 22.5,
         "FTM": 18.1,
         "MIN": 48.3,
         "OREB": 8.9,
         "PF": 19,
         "PFD": 18.9,
         "PTS": 118.6,
         "REB": 44.4,
         "STL": 6.7,
         "TEAM": "2021 Brooklyn Nets",
         "TOV": 13.5,
         "WIN%": 0.667,
         "_deepnote_index_column": 3
        },
        {
         "+/-": 4.9,
         "3P%": 37.7,
         "3PA": 34.2,
         "3PM": 12.9,
         "AST": 26.8,
         "BLK": 4.5,
         "BLKA": 4.5,
         "CHAMPION": false,
         "DREB": 33.9,
         "FG%": 48.5,
         "FGA": 89.2,
         "FGM": 43.3,
         "FT%": 80.3,
         "FTA": 19.5,
         "FTM": 15.7,
         "MIN": 48.6,
         "OREB": 10.5,
         "PF": 19.1,
         "PFD": 19.2,
         "PTS": 115.1,
         "REB": 44.4,
         "STL": 8.1,
         "TEAM": "2021 Denver Nuggets",
         "TOV": 13.5,
         "WIN%": 0.653,
         "_deepnote_index_column": 4
        },
        {
         "+/-": 6.2,
         "3P%": 41.1,
         "3PA": 34.7,
         "3PM": 14.3,
         "AST": 24.4,
         "BLK": 4.1,
         "BLKA": 4.2,
         "CHAMPION": false,
         "DREB": 34.7,
         "FG%": 48.2,
         "FGA": 86.7,
         "FGM": 41.8,
         "FT%": 83.9,
         "FTA": 19.3,
         "FTM": 16.2,
         "MIN": 48,
         "OREB": 9.4,
         "PF": 19.2,
         "PFD": 18.1,
         "PTS": 114,
         "REB": 44.2,
         "STL": 7.1,
         "TEAM": "2021 LA Clippers",
         "TOV": 13.2,
         "WIN%": 0.653,
         "_deepnote_index_column": 5
        },
        {
         "+/-": 5.9,
         "3P%": 38.9,
         "3PA": 37.1,
         "3PM": 14.4,
         "AST": 25.5,
         "BLK": 4.6,
         "BLKA": 4.8,
         "CHAMPION": true,
         "DREB": 37.8,
         "FG%": 48.7,
         "FGA": 91.8,
         "FGM": 44.7,
         "FT%": 76,
         "FTA": 21.4,
         "FTM": 16.2,
         "MIN": 48.1,
         "OREB": 10.3,
         "PF": 17.3,
         "PFD": 18.3,
         "PTS": 120.1,
         "REB": 48.1,
         "STL": 8.1,
         "TEAM": "2021 Milwaukee Bucks",
         "TOV": 13.8,
         "WIN%": 0.639,
         "_deepnote_index_column": 6
        },
        {
         "+/-": 2.3,
         "3P%": 36.2,
         "3PA": 38.1,
         "3PM": 13.8,
         "AST": 22.9,
         "BLK": 4.3,
         "BLKA": 3.7,
         "CHAMPION": false,
         "DREB": 34.2,
         "FG%": 47,
         "FGA": 87.3,
         "FGM": 41.1,
         "FT%": 77.8,
         "FTA": 21.2,
         "FTM": 16.5,
         "MIN": 48.1,
         "OREB": 9.1,
         "PF": 19.4,
         "PFD": 20.1,
         "PTS": 112.4,
         "REB": 43.3,
         "STL": 6.3,
         "TEAM": "2021 Dallas Mavericks",
         "TOV": 12.1,
         "WIN%": 0.583,
         "_deepnote_index_column": 7
        },
        {
         "+/-": 2.8,
         "3P%": 35.4,
         "3PA": 31.2,
         "3PM": 11.1,
         "AST": 24.7,
         "BLK": 5.4,
         "BLKA": 4.5,
         "CHAMPION": false,
         "DREB": 34.6,
         "FG%": 47.2,
         "FGA": 86.1,
         "FGM": 40.6,
         "FT%": 73.9,
         "FTA": 23.3,
         "FTM": 17.2,
         "MIN": 48.5,
         "OREB": 9.7,
         "PF": 19.1,
         "PFD": 21.3,
         "PTS": 109.5,
         "REB": 44.2,
         "STL": 7.8,
         "TEAM": "2021 Los Angeles Lakers",
         "TOV": 15.2,
         "WIN%": 0.583,
         "_deepnote_index_column": 8
        },
        {
         "+/-": 1.8,
         "3P%": 38.5,
         "3PA": 40.8,
         "3PM": 15.7,
         "AST": 21.3,
         "BLK": 5,
         "BLKA": 4.6,
         "CHAMPION": false,
         "DREB": 33.9,
         "FG%": 45.3,
         "FGA": 91.1,
         "FGM": 41.3,
         "FT%": 82.3,
         "FTA": 21.6,
         "FTM": 17.8,
         "MIN": 48.1,
         "OREB": 10.6,
         "PF": 18.9,
         "PFD": 19.1,
         "PTS": 116.1,
         "REB": 44.5,
         "STL": 6.9,
         "TEAM": "2021 Portland Trail Blazers",
         "TOV": 11.1,
         "WIN%": 0.583,
         "_deepnote_index_column": 9
        }
       ]
      },
      "text/html": [
       "<div>\n",
       "<style scoped>\n",
       "    .dataframe tbody tr th:only-of-type {\n",
       "        vertical-align: middle;\n",
       "    }\n",
       "\n",
       "    .dataframe tbody tr th {\n",
       "        vertical-align: top;\n",
       "    }\n",
       "\n",
       "    .dataframe thead th {\n",
       "        text-align: right;\n",
       "    }\n",
       "</style>\n",
       "<table border=\"1\" class=\"dataframe\">\n",
       "  <thead>\n",
       "    <tr style=\"text-align: right;\">\n",
       "      <th></th>\n",
       "      <th>TEAM</th>\n",
       "      <th>WIN%</th>\n",
       "      <th>MIN</th>\n",
       "      <th>PTS</th>\n",
       "      <th>FGM</th>\n",
       "      <th>FGA</th>\n",
       "      <th>FG%</th>\n",
       "      <th>3PM</th>\n",
       "      <th>3PA</th>\n",
       "      <th>3P%</th>\n",
       "      <th>...</th>\n",
       "      <th>REB</th>\n",
       "      <th>AST</th>\n",
       "      <th>TOV</th>\n",
       "      <th>STL</th>\n",
       "      <th>BLK</th>\n",
       "      <th>BLKA</th>\n",
       "      <th>PF</th>\n",
       "      <th>PFD</th>\n",
       "      <th>+/-</th>\n",
       "      <th>CHAMPION</th>\n",
       "    </tr>\n",
       "  </thead>\n",
       "  <tbody>\n",
       "    <tr>\n",
       "      <th>0</th>\n",
       "      <td>2021 Utah Jazz</td>\n",
       "      <td>0.722</td>\n",
       "      <td>48.2</td>\n",
       "      <td>116.4</td>\n",
       "      <td>41.3</td>\n",
       "      <td>88.1</td>\n",
       "      <td>46.8</td>\n",
       "      <td>16.7</td>\n",
       "      <td>43.0</td>\n",
       "      <td>38.9</td>\n",
       "      <td>...</td>\n",
       "      <td>48.3</td>\n",
       "      <td>23.7</td>\n",
       "      <td>14.2</td>\n",
       "      <td>6.6</td>\n",
       "      <td>5.2</td>\n",
       "      <td>3.9</td>\n",
       "      <td>18.5</td>\n",
       "      <td>19.0</td>\n",
       "      <td>9.3</td>\n",
       "      <td>False</td>\n",
       "    </tr>\n",
       "    <tr>\n",
       "      <th>1</th>\n",
       "      <td>2021 Phoenix Suns</td>\n",
       "      <td>0.708</td>\n",
       "      <td>48.6</td>\n",
       "      <td>115.3</td>\n",
       "      <td>43.3</td>\n",
       "      <td>88.3</td>\n",
       "      <td>49.0</td>\n",
       "      <td>13.1</td>\n",
       "      <td>34.6</td>\n",
       "      <td>37.8</td>\n",
       "      <td>...</td>\n",
       "      <td>42.9</td>\n",
       "      <td>26.9</td>\n",
       "      <td>12.5</td>\n",
       "      <td>7.2</td>\n",
       "      <td>4.3</td>\n",
       "      <td>3.6</td>\n",
       "      <td>19.1</td>\n",
       "      <td>18.0</td>\n",
       "      <td>5.8</td>\n",
       "      <td>False</td>\n",
       "    </tr>\n",
       "    <tr>\n",
       "      <th>2</th>\n",
       "      <td>2021 Philadelphia 76ers</td>\n",
       "      <td>0.681</td>\n",
       "      <td>48.4</td>\n",
       "      <td>113.6</td>\n",
       "      <td>41.4</td>\n",
       "      <td>86.9</td>\n",
       "      <td>47.6</td>\n",
       "      <td>11.3</td>\n",
       "      <td>30.1</td>\n",
       "      <td>37.4</td>\n",
       "      <td>...</td>\n",
       "      <td>45.1</td>\n",
       "      <td>23.7</td>\n",
       "      <td>14.4</td>\n",
       "      <td>9.1</td>\n",
       "      <td>6.2</td>\n",
       "      <td>4.7</td>\n",
       "      <td>20.2</td>\n",
       "      <td>21.0</td>\n",
       "      <td>5.6</td>\n",
       "      <td>False</td>\n",
       "    </tr>\n",
       "    <tr>\n",
       "      <th>3</th>\n",
       "      <td>2021 Brooklyn Nets</td>\n",
       "      <td>0.667</td>\n",
       "      <td>48.3</td>\n",
       "      <td>118.6</td>\n",
       "      <td>43.1</td>\n",
       "      <td>87.3</td>\n",
       "      <td>49.4</td>\n",
       "      <td>14.2</td>\n",
       "      <td>36.1</td>\n",
       "      <td>39.2</td>\n",
       "      <td>...</td>\n",
       "      <td>44.4</td>\n",
       "      <td>26.8</td>\n",
       "      <td>13.5</td>\n",
       "      <td>6.7</td>\n",
       "      <td>5.3</td>\n",
       "      <td>4.6</td>\n",
       "      <td>19.0</td>\n",
       "      <td>18.9</td>\n",
       "      <td>4.5</td>\n",
       "      <td>False</td>\n",
       "    </tr>\n",
       "    <tr>\n",
       "      <th>4</th>\n",
       "      <td>2021 Denver Nuggets</td>\n",
       "      <td>0.653</td>\n",
       "      <td>48.6</td>\n",
       "      <td>115.1</td>\n",
       "      <td>43.3</td>\n",
       "      <td>89.2</td>\n",
       "      <td>48.5</td>\n",
       "      <td>12.9</td>\n",
       "      <td>34.2</td>\n",
       "      <td>37.7</td>\n",
       "      <td>...</td>\n",
       "      <td>44.4</td>\n",
       "      <td>26.8</td>\n",
       "      <td>13.5</td>\n",
       "      <td>8.1</td>\n",
       "      <td>4.5</td>\n",
       "      <td>4.5</td>\n",
       "      <td>19.1</td>\n",
       "      <td>19.2</td>\n",
       "      <td>4.9</td>\n",
       "      <td>False</td>\n",
       "    </tr>\n",
       "    <tr>\n",
       "      <th>...</th>\n",
       "      <td>...</td>\n",
       "      <td>...</td>\n",
       "      <td>...</td>\n",
       "      <td>...</td>\n",
       "      <td>...</td>\n",
       "      <td>...</td>\n",
       "      <td>...</td>\n",
       "      <td>...</td>\n",
       "      <td>...</td>\n",
       "      <td>...</td>\n",
       "      <td>...</td>\n",
       "      <td>...</td>\n",
       "      <td>...</td>\n",
       "      <td>...</td>\n",
       "      <td>...</td>\n",
       "      <td>...</td>\n",
       "      <td>...</td>\n",
       "      <td>...</td>\n",
       "      <td>...</td>\n",
       "      <td>...</td>\n",
       "      <td>...</td>\n",
       "    </tr>\n",
       "    <tr>\n",
       "      <th>395</th>\n",
       "      <td>1997 Orlando Magic</td>\n",
       "      <td>0.549</td>\n",
       "      <td>48.4</td>\n",
       "      <td>94.1</td>\n",
       "      <td>34.6</td>\n",
       "      <td>79.2</td>\n",
       "      <td>43.7</td>\n",
       "      <td>6.9</td>\n",
       "      <td>20.3</td>\n",
       "      <td>34.1</td>\n",
       "      <td>...</td>\n",
       "      <td>40.1</td>\n",
       "      <td>20.6</td>\n",
       "      <td>15.2</td>\n",
       "      <td>8.5</td>\n",
       "      <td>4.4</td>\n",
       "      <td>5.1</td>\n",
       "      <td>20.0</td>\n",
       "      <td>0.1</td>\n",
       "      <td>-0.4</td>\n",
       "      <td>False</td>\n",
       "    </tr>\n",
       "    <tr>\n",
       "      <th>396</th>\n",
       "      <td>1997 Washington Bullets</td>\n",
       "      <td>0.537</td>\n",
       "      <td>48.4</td>\n",
       "      <td>99.4</td>\n",
       "      <td>39.1</td>\n",
       "      <td>81.4</td>\n",
       "      <td>48.0</td>\n",
       "      <td>4.0</td>\n",
       "      <td>12.2</td>\n",
       "      <td>33.1</td>\n",
       "      <td>...</td>\n",
       "      <td>41.8</td>\n",
       "      <td>23.4</td>\n",
       "      <td>15.7</td>\n",
       "      <td>8.7</td>\n",
       "      <td>4.9</td>\n",
       "      <td>4.1</td>\n",
       "      <td>22.1</td>\n",
       "      <td>0.2</td>\n",
       "      <td>1.6</td>\n",
       "      <td>False</td>\n",
       "    </tr>\n",
       "    <tr>\n",
       "      <th>397</th>\n",
       "      <td>1997 Minnesota Timberwolves</td>\n",
       "      <td>0.488</td>\n",
       "      <td>48.2</td>\n",
       "      <td>96.1</td>\n",
       "      <td>35.8</td>\n",
       "      <td>78.5</td>\n",
       "      <td>45.6</td>\n",
       "      <td>4.5</td>\n",
       "      <td>13.3</td>\n",
       "      <td>33.9</td>\n",
       "      <td>...</td>\n",
       "      <td>39.7</td>\n",
       "      <td>22.9</td>\n",
       "      <td>15.2</td>\n",
       "      <td>7.5</td>\n",
       "      <td>6.8</td>\n",
       "      <td>5.4</td>\n",
       "      <td>22.2</td>\n",
       "      <td>0.2</td>\n",
       "      <td>-1.5</td>\n",
       "      <td>False</td>\n",
       "    </tr>\n",
       "    <tr>\n",
       "      <th>398</th>\n",
       "      <td>1997 Phoenix Suns</td>\n",
       "      <td>0.488</td>\n",
       "      <td>48.4</td>\n",
       "      <td>102.8</td>\n",
       "      <td>38.3</td>\n",
       "      <td>81.8</td>\n",
       "      <td>46.9</td>\n",
       "      <td>6.4</td>\n",
       "      <td>17.4</td>\n",
       "      <td>36.9</td>\n",
       "      <td>...</td>\n",
       "      <td>40.1</td>\n",
       "      <td>25.2</td>\n",
       "      <td>14.4</td>\n",
       "      <td>8.1</td>\n",
       "      <td>3.9</td>\n",
       "      <td>4.5</td>\n",
       "      <td>21.1</td>\n",
       "      <td>0.1</td>\n",
       "      <td>0.7</td>\n",
       "      <td>False</td>\n",
       "    </tr>\n",
       "    <tr>\n",
       "      <th>399</th>\n",
       "      <td>1997 Los Angeles Clippers</td>\n",
       "      <td>0.439</td>\n",
       "      <td>48.6</td>\n",
       "      <td>97.2</td>\n",
       "      <td>36.5</td>\n",
       "      <td>81.7</td>\n",
       "      <td>44.6</td>\n",
       "      <td>5.8</td>\n",
       "      <td>16.3</td>\n",
       "      <td>35.4</td>\n",
       "      <td>...</td>\n",
       "      <td>40.7</td>\n",
       "      <td>20.3</td>\n",
       "      <td>16.0</td>\n",
       "      <td>8.9</td>\n",
       "      <td>5.4</td>\n",
       "      <td>5.1</td>\n",
       "      <td>24.0</td>\n",
       "      <td>0.1</td>\n",
       "      <td>-2.4</td>\n",
       "      <td>False</td>\n",
       "    </tr>\n",
       "  </tbody>\n",
       "</table>\n",
       "<p>400 rows × 25 columns</p>\n",
       "</div>"
      ],
      "text/plain": [
       "                            TEAM   WIN%   MIN    PTS   FGM   FGA   FG%   3PM  \\\n",
       "0                 2021 Utah Jazz  0.722  48.2  116.4  41.3  88.1  46.8  16.7   \n",
       "1              2021 Phoenix Suns  0.708  48.6  115.3  43.3  88.3  49.0  13.1   \n",
       "2        2021 Philadelphia 76ers  0.681  48.4  113.6  41.4  86.9  47.6  11.3   \n",
       "3             2021 Brooklyn Nets  0.667  48.3  118.6  43.1  87.3  49.4  14.2   \n",
       "4            2021 Denver Nuggets  0.653  48.6  115.1  43.3  89.2  48.5  12.9   \n",
       "..                           ...    ...   ...    ...   ...   ...   ...   ...   \n",
       "395           1997 Orlando Magic  0.549  48.4   94.1  34.6  79.2  43.7   6.9   \n",
       "396      1997 Washington Bullets  0.537  48.4   99.4  39.1  81.4  48.0   4.0   \n",
       "397  1997 Minnesota Timberwolves  0.488  48.2   96.1  35.8  78.5  45.6   4.5   \n",
       "398            1997 Phoenix Suns  0.488  48.4  102.8  38.3  81.8  46.9   6.4   \n",
       "399    1997 Los Angeles Clippers  0.439  48.6   97.2  36.5  81.7  44.6   5.8   \n",
       "\n",
       "      3PA   3P%  ...   REB   AST   TOV  STL  BLK  BLKA    PF   PFD  +/-  \\\n",
       "0    43.0  38.9  ...  48.3  23.7  14.2  6.6  5.2   3.9  18.5  19.0  9.3   \n",
       "1    34.6  37.8  ...  42.9  26.9  12.5  7.2  4.3   3.6  19.1  18.0  5.8   \n",
       "2    30.1  37.4  ...  45.1  23.7  14.4  9.1  6.2   4.7  20.2  21.0  5.6   \n",
       "3    36.1  39.2  ...  44.4  26.8  13.5  6.7  5.3   4.6  19.0  18.9  4.5   \n",
       "4    34.2  37.7  ...  44.4  26.8  13.5  8.1  4.5   4.5  19.1  19.2  4.9   \n",
       "..    ...   ...  ...   ...   ...   ...  ...  ...   ...   ...   ...  ...   \n",
       "395  20.3  34.1  ...  40.1  20.6  15.2  8.5  4.4   5.1  20.0   0.1 -0.4   \n",
       "396  12.2  33.1  ...  41.8  23.4  15.7  8.7  4.9   4.1  22.1   0.2  1.6   \n",
       "397  13.3  33.9  ...  39.7  22.9  15.2  7.5  6.8   5.4  22.2   0.2 -1.5   \n",
       "398  17.4  36.9  ...  40.1  25.2  14.4  8.1  3.9   4.5  21.1   0.1  0.7   \n",
       "399  16.3  35.4  ...  40.7  20.3  16.0  8.9  5.4   5.1  24.0   0.1 -2.4   \n",
       "\n",
       "     CHAMPION  \n",
       "0       False  \n",
       "1       False  \n",
       "2       False  \n",
       "3       False  \n",
       "4       False  \n",
       "..        ...  \n",
       "395     False  \n",
       "396     False  \n",
       "397     False  \n",
       "398     False  \n",
       "399     False  \n",
       "\n",
       "[400 rows x 25 columns]"
      ]
     },
     "execution_count": 8,
     "metadata": {},
     "output_type": "execute_result"
    }
   ],
   "source": [
    "# Test that the data loaded correctly\n",
    "teams_traditional"
   ]
  },
  {
   "cell_type": "markdown",
   "metadata": {
    "cell_id": "16e773d88c804e1aacc48f81408c4285",
    "deepnote_cell_height": 53.9375,
    "deepnote_cell_type": "markdown",
    "tags": []
   },
   "source": [
    "##### Merge All Stats Into One Table for Past and Current Seasons Each"
   ]
  },
  {
   "cell_type": "code",
   "execution_count": 9,
   "metadata": {
    "cell_id": "bd6b2527951745e7b1bc5c8aaeec1f0c",
    "deepnote_cell_height": 278.9375,
    "deepnote_cell_type": "code",
    "deepnote_to_be_reexecuted": false,
    "execution_millis": 14,
    "execution_start": 1651350298135,
    "output_cleared": true,
    "source_hash": "20d30298",
    "tags": []
   },
   "outputs": [],
   "source": [
    "team_stats = (teams_traditional.merge(teams_advanced, on=\"TEAM\", suffixes=[\"_t\", \"_a\"])\n",
    "                               .merge(teams_misc, on=\"TEAM\", suffixes=[\"_t\", \"_a\"]))\n",
    "\n",
    "# Use this line to drop the columns you don't want to use\n",
    "# team_stats = team_stats.drop(columns=[\"MIN_t\", \"CHAMPION_t\", \"MIN_a\", \"CHAMPION_a\"])\n",
    "\n",
    "\n",
    "team_stats_22 = (teams_traditional_22.merge(teams_advanced_22, on=\"TEAM\", suffixes=[\"_t\", \"_a\"])\n",
    "                                     .merge(teams_misc_22, on=\"TEAM\", suffixes=[\"_t\", \"_a\"]))\n",
    "\n",
    "# Use this line to drop the columns you don't want to use\n",
    "# team_stats_22 = team_stats_22.drop(columns=[\"WIN%\", \"MIN_t\", \"CHAMPION_t\", \"MIN_a\", \"CHAMPION_a\"])"
   ]
  },
  {
   "cell_type": "code",
   "execution_count": 10,
   "metadata": {
    "cell_id": "6b0336b13bf74e04ab0e4cc9e6db1ccc",
    "deepnote_cell_height": 252.5,
    "deepnote_cell_type": "code",
    "deepnote_output_heights": [
     155.5625
    ],
    "deepnote_table_loading": false,
    "deepnote_table_state": {
     "filters": [],
     "pageIndex": 0,
     "pageSize": 25,
     "sortBy": []
    },
    "deepnote_to_be_reexecuted": false,
    "execution_millis": 14,
    "execution_start": 1651350305403,
    "output_cleared": false,
    "source_hash": "37c214a",
    "tags": []
   },
   "outputs": [
    {
     "data": {
      "text/plain": [
       "Index(['TEAM', 'WIN%', 'MIN_t', 'PTS', 'FGM', 'FGA', 'FG%', '3PM', '3PA',\n",
       "       '3P%', 'FTM', 'FTA', 'FT%', 'OREB', 'DREB', 'REB', 'AST', 'TOV', 'STL',\n",
       "       'BLK', 'BLKA', 'PF', 'PFD', '+/-', 'CHAMPION_t', 'MIN_a', 'OFFRTG',\n",
       "       'DEFRTG', 'NETRTG', 'AST%', 'AST/TO', 'AST RATIO', 'OREB%', 'DREB%',\n",
       "       'REB%', 'TOV%', 'EFG%', 'TS%', 'PACE', 'PIE', 'POSS', 'CHAMPION_a',\n",
       "       'MIN', 'PTS OFF TO', '2ND PTS', 'FBPS', 'PITP', 'OPP PTS OFF TO',\n",
       "       'OPP 2ND PTS', 'OPP FBPS', 'OPP PITP', 'CHAMPION'],\n",
       "      dtype='object')"
      ]
     },
     "execution_count": 10,
     "metadata": {},
     "output_type": "execute_result"
    }
   ],
   "source": [
    "team_stats.columns"
   ]
  },
  {
   "cell_type": "markdown",
   "metadata": {
    "cell_id": "00012-5234f193-fb3f-49da-bb8a-1c8902a4247a",
    "deepnote_cell_height": 226.453125,
    "deepnote_cell_type": "markdown",
    "id": "dzP_lzN32IIb",
    "tags": []
   },
   "source": [
    "### Machine Learning\n",
    "#### Create a model with LogisticRegression().\n",
    "1.  Create a model with LogisticRegression().\n",
    "2.  Train the model with model.fit().\n",
    "3. Make predictions with model.predict().\n",
    "4. Validate the model with accuracy_score()."
   ]
  },
  {
   "cell_type": "markdown",
   "metadata": {
    "cell_id": "ad48b668bb8b46aeb2a16f4c79dcc437",
    "deepnote_cell_height": 53.328125,
    "deepnote_cell_type": "markdown"
   },
   "source": [
    "<br>\n",
    "<hr>"
   ]
  },
  {
   "cell_type": "markdown",
   "metadata": {
    "cell_id": "00013-92ca64d6-c748-453b-b01b-3067fc420a4a",
    "deepnote_cell_height": 89.9375,
    "deepnote_cell_type": "markdown"
   },
   "source": [
    "#### Example from the Module\n",
    "##### Generate Some Data"
   ]
  },
  {
   "cell_type": "code",
   "execution_count": null,
   "metadata": {
    "cell_id": "00014-1318efe4-7470-4483-a27c-79909c9c56b2",
    "colab": {
     "base_uri": "https://localhost:8080/"
    },
    "deepnote_cell_height": 224.953125,
    "deepnote_cell_type": "code",
    "deepnote_to_be_reexecuted": false,
    "execution_millis": 2,
    "execution_start": 1651323575763,
    "id": "KX3p5U1xxA9d",
    "outputId": "50f0e33a-d377-4306-e433-344a012291f1",
    "output_cleared": true,
    "source_hash": "5f2df287",
    "tags": []
   },
   "outputs": [],
   "source": [
    "# Make practice dataset\n",
    "from sklearn.datasets import make_blobs\n",
    "\n",
    "X, y = make_blobs(centers=2, random_state=42)\n",
    "\n",
    "print(f\"Labels: {y[:10]}\")\n",
    "print(f\"Data: {X[:10]}\")\n",
    "print(\"type of X:\", type(X), \"| size of X:\", X.shape)\n",
    "print(\"type of y:\", type(y), \"| size of y:\", y.shape)"
   ]
  },
  {
   "cell_type": "code",
   "execution_count": null,
   "metadata": {
    "cell_id": "00015-06237090-cc26-4def-9361-43ecbdc38586",
    "colab": {
     "base_uri": "https://localhost:8080/",
     "height": 282
    },
    "deepnote_cell_height": 116.953125,
    "deepnote_cell_type": "code",
    "deepnote_to_be_reexecuted": false,
    "execution_millis": 526,
    "execution_start": 1651321544529,
    "id": "p2zrkyJ-xRX5",
    "outputId": "ef47b039-3eae-4626-d8c3-ed6da2f0ceec",
    "output_cleared": true,
    "source_hash": "538c442f"
   },
   "outputs": [],
   "source": [
    "# Visualizing both classes\n",
    "plt.scatter(X[:, 0], X[:, 1], c=y)\n",
    "plt.show()"
   ]
  },
  {
   "cell_type": "markdown",
   "metadata": {
    "cell_id": "a2875ae353064e3e8fbe9890d0d34ad9",
    "deepnote_cell_height": 53.9375,
    "deepnote_cell_type": "markdown",
    "tags": []
   },
   "source": [
    "##### Split our data into training and testing"
   ]
  },
  {
   "cell_type": "code",
   "execution_count": null,
   "metadata": {
    "cell_id": "00016-ad21f0d2-94d6-44b7-b1e3-717e611655f4",
    "deepnote_cell_height": 134.953125,
    "deepnote_cell_type": "code",
    "deepnote_to_be_reexecuted": false,
    "execution_millis": 101,
    "execution_start": 1651321545051,
    "id": "Z1EhZyAVxiiF",
    "output_cleared": true,
    "source_hash": "66a688e6"
   },
   "outputs": [],
   "source": [
    "# Dataset is split into training and testing sets\n",
    "from sklearn.model_selection import train_test_split\n",
    "\n",
    "X_train, X_test, y_train, y_test = train_test_split(X, y, random_state=1, stratify=y)"
   ]
  },
  {
   "cell_type": "markdown",
   "metadata": {
    "cell_id": "8e32bc6d6d4845e2ad2191ef3e4b532c",
    "deepnote_cell_height": 53.9375,
    "deepnote_cell_type": "markdown",
    "tags": []
   },
   "source": [
    "##### Create a Logistic Regression Model"
   ]
  },
  {
   "cell_type": "code",
   "execution_count": null,
   "metadata": {
    "cell_id": "00017-ae512af4-673f-4076-9b26-70797f4f049f",
    "colab": {
     "base_uri": "https://localhost:8080/"
    },
    "deepnote_cell_height": 152.953125,
    "deepnote_cell_type": "code",
    "deepnote_to_be_reexecuted": false,
    "execution_millis": 124,
    "execution_start": 1651321545163,
    "id": "pgI1R-yDxy6s",
    "outputId": "8de50300-a7b2-40bb-ae8a-74a67d43f33c",
    "output_cleared": true,
    "source_hash": "4b900962"
   },
   "outputs": [],
   "source": [
    "# Create logistic regression model \n",
    "from sklearn.linear_model import LogisticRegression\n",
    "\n",
    "classifier = LogisticRegression(solver=\"lbfgs\", random_state=1)\n",
    "classifier"
   ]
  },
  {
   "cell_type": "markdown",
   "metadata": {
    "cell_id": "aac77cd962694cc28fe6dd1ff74e8c3d",
    "deepnote_cell_height": 53.9375,
    "deepnote_cell_type": "markdown",
    "tags": []
   },
   "source": [
    "##### Fit (train) or model using the training data"
   ]
  },
  {
   "cell_type": "code",
   "execution_count": null,
   "metadata": {
    "cell_id": "00019-2f4fd860-c79e-4b5f-83f3-8510ea8f9d33",
    "colab": {
     "base_uri": "https://localhost:8080/"
    },
    "deepnote_cell_height": 98.9375,
    "deepnote_cell_type": "code",
    "deepnote_to_be_reexecuted": false,
    "execution_millis": 47,
    "execution_start": 1651321545283,
    "id": "nb_XV7Q-z77g",
    "outputId": "42581290-e3d9-4f86-c90f-a5da8aa9a835",
    "output_cleared": true,
    "source_hash": "5e074011"
   },
   "outputs": [],
   "source": [
    "# Train the Logistic Regression Model\n",
    "classifier.fit(X_train, y_train)"
   ]
  },
  {
   "cell_type": "markdown",
   "metadata": {
    "cell_id": "f90090abe695464d898c997d1be19fc4",
    "deepnote_cell_height": 53.9375,
    "deepnote_cell_type": "markdown",
    "tags": []
   },
   "source": [
    "##### Make predictions"
   ]
  },
  {
   "cell_type": "code",
   "execution_count": null,
   "metadata": {
    "cell_id": "00020-25979d78-a699-4421-a48a-fe46dcbd5de1",
    "colab": {
     "base_uri": "https://localhost:8080/",
     "height": 833
    },
    "deepnote_cell_height": 134.953125,
    "deepnote_cell_type": "code",
    "deepnote_to_be_reexecuted": false,
    "execution_millis": 35,
    "execution_start": 1651321545326,
    "id": "tmHNR1u31GQ7",
    "outputId": "34cce3fa-3098-444d-e4f7-bfbc8ebb7630",
    "output_cleared": true,
    "source_hash": "6a7bb581",
    "tags": []
   },
   "outputs": [],
   "source": [
    "# Validate Logistic Regression Model\n",
    "# Create predictions\n",
    "predictions = classifier.predict(X_test)\n",
    "pd.DataFrame({\"Prediction\": predictions, \"Actual\": y_test})"
   ]
  },
  {
   "cell_type": "markdown",
   "metadata": {
    "cell_id": "8d7dd30611ef49789edecbb7a22dcd3c",
    "deepnote_cell_height": 53.9375,
    "deepnote_cell_type": "markdown",
    "tags": []
   },
   "source": [
    "##### Validate the model using the test data"
   ]
  },
  {
   "cell_type": "code",
   "execution_count": null,
   "metadata": {
    "cell_id": "00021-217094d5-81e9-41f5-aa50-ac46acaeb2da",
    "colab": {
     "base_uri": "https://localhost:8080/"
    },
    "deepnote_cell_height": 134.953125,
    "deepnote_cell_type": "code",
    "deepnote_to_be_reexecuted": false,
    "execution_millis": 19,
    "execution_start": 1651321545361,
    "id": "oXBa2dIE1PPu",
    "outputId": "d803599c-b286-45b8-d527-9ddf580dd404",
    "output_cleared": true,
    "source_hash": "25f0c11e",
    "tags": []
   },
   "outputs": [],
   "source": [
    "# Evaluate or Asses model performance\n",
    "from sklearn.metrics import accuracy_score\n",
    "\n",
    "accuracy_score(y_test, predictions)"
   ]
  },
  {
   "cell_type": "code",
   "execution_count": null,
   "metadata": {
    "cell_id": "00022-9868562b-59eb-4484-8334-da5f457e6105",
    "colab": {
     "base_uri": "https://localhost:8080/",
     "height": 265
    },
    "deepnote_cell_height": 152.953125,
    "deepnote_cell_type": "code",
    "deepnote_to_be_reexecuted": false,
    "execution_millis": 421,
    "execution_start": 1651321545411,
    "id": "BzXeSUOd1agI",
    "outputId": "9d101101-779e-412c-d94c-663e571444bd",
    "output_cleared": true,
    "source_hash": "7fb44730",
    "tags": []
   },
   "outputs": [],
   "source": [
    "# Create new data point (where does the red dot lie)\n",
    "new_data = np.array([[-2, 6]])\n",
    "plt.scatter(X[:, 0], X[:, 1], c=y)\n",
    "plt.scatter(new_data[0, 0], new_data[0, 1], c=\"r\", marker=\"o\", s=100)\n",
    "plt.show()"
   ]
  },
  {
   "cell_type": "code",
   "execution_count": null,
   "metadata": {
    "cell_id": "00023-14cb17ce-cd76-479a-96f1-d727799615ff",
    "colab": {
     "base_uri": "https://localhost:8080/"
    },
    "deepnote_cell_height": 116.953125,
    "deepnote_cell_type": "code",
    "deepnote_to_be_reexecuted": false,
    "execution_millis": 2,
    "execution_start": 1651321551407,
    "id": "jY6F1OwK11pF",
    "outputId": "af1813c1-cbe3-4d87-f981-31517157038f",
    "output_cleared": true,
    "source_hash": "2b9e6241",
    "tags": []
   },
   "outputs": [],
   "source": [
    "predictions = classifier.predict(new_data)\n",
    "print(\"Classes are either 0 (purple) or 1 (yellow)\")\n",
    "print(f\"The new point was classified as: {predictions}\")"
   ]
  },
  {
   "cell_type": "markdown",
   "metadata": {
    "cell_id": "249ac50d03924426aff12728ae7e78e2",
    "deepnote_cell_height": 53.328125,
    "deepnote_cell_type": "markdown"
   },
   "source": [
    "<br>\n",
    "<hr>"
   ]
  },
  {
   "cell_type": "markdown",
   "metadata": {
    "cell_id": "00024-54619f59-1efb-4637-adda-f90561383506",
    "deepnote_cell_height": 89.9375,
    "deepnote_cell_type": "markdown",
    "id": "9mIfU2-750TG"
   },
   "source": [
    "#### Logistic Regression w NBA Stats Data\n",
    "##### Preprocess Our Data"
   ]
  },
  {
   "cell_type": "code",
   "execution_count": null,
   "metadata": {
    "cell_id": "00025-ecda9483-25ee-4660-9cb1-1c4525af32b6",
    "deepnote_cell_height": 101.953125,
    "deepnote_cell_type": "code",
    "id": "vZi4GQ9g56FN",
    "output_cleared": true
   },
   "outputs": [],
   "source": [
    "# Categorize features from the target\n",
    "y = df[\"champions\"]\n",
    "X = df.drop(columns=\"champions\")"
   ]
  },
  {
   "cell_type": "markdown",
   "metadata": {
    "cell_id": "e88a32d4542344a7ae9868f2485b7d79",
    "deepnote_cell_height": 53.9375,
    "deepnote_cell_type": "markdown",
    "tags": []
   },
   "source": [
    "##### Split our data into training and testing"
   ]
  },
  {
   "cell_type": "code",
   "execution_count": null,
   "metadata": {
    "cell_id": "00026-746b923a-a955-4812-8415-1b3a96fbddfc",
    "deepnote_cell_height": 119.953125,
    "deepnote_cell_type": "code",
    "id": "Xt0p9bfJ6UlB",
    "output_cleared": true,
    "tags": []
   },
   "outputs": [],
   "source": [
    "# Split the dataset into training and testing sets\n",
    "from sklearn.model_selection import train_test_split\n",
    "\n",
    "X_train, X_test, y_train, y_test = train_test_split(X, y, random_state=1, stratify=y)"
   ]
  },
  {
   "cell_type": "markdown",
   "metadata": {
    "cell_id": "99691f7982ff471db9b3c28905a8a8ba",
    "deepnote_cell_height": 53.9375,
    "deepnote_cell_type": "markdown",
    "tags": []
   },
   "source": [
    "##### Create a Logistic Regression Model"
   ]
  },
  {
   "cell_type": "code",
   "execution_count": null,
   "metadata": {
    "cell_id": "00027-c33b559b-a298-4a2c-b5dc-c260731757ae",
    "deepnote_cell_height": 119.953125,
    "deepnote_cell_type": "code",
    "id": "Bua8pG8F6U2x",
    "output_cleared": true,
    "tags": []
   },
   "outputs": [],
   "source": [
    "# Create a logistic regression model with the specified arguments\n",
    "from sklearn.linear_model import LogisticRegression\n",
    "\n",
    "classifier = LogisticRegression(solver=\"lbfgs\", max_iter=200, random_state=1)"
   ]
  },
  {
   "cell_type": "markdown",
   "metadata": {
    "cell_id": "197ae78461e54046bffd94b3e4f5a248",
    "deepnote_cell_height": 53.9375,
    "deepnote_cell_type": "markdown",
    "tags": []
   },
   "source": [
    "##### Fit (train) or model using the training data"
   ]
  },
  {
   "cell_type": "code",
   "execution_count": null,
   "metadata": {
    "cell_id": "00028-18a78d17-5e36-4b3b-9041-b1df7d389b4d",
    "deepnote_cell_height": 83.9375,
    "deepnote_cell_type": "code",
    "id": "Osoz-f9y6U71",
    "output_cleared": true
   },
   "outputs": [],
   "source": [
    "# Train the model with the training data\n",
    "classifier.fit(X_train, y_train)"
   ]
  },
  {
   "cell_type": "markdown",
   "metadata": {
    "cell_id": "860aa8f359a2429f9787ba7aa71a4302",
    "deepnote_cell_height": 53.9375,
    "deepnote_cell_type": "markdown",
    "tags": []
   },
   "source": [
    "##### Make predictions"
   ]
  },
  {
   "cell_type": "code",
   "execution_count": null,
   "metadata": {
    "cell_id": "00029-52b79280-296a-40f9-9592-0d36082002f7",
    "deepnote_cell_height": 83.9375,
    "deepnote_cell_type": "code",
    "id": "RDDMEar98R4O",
    "output_cleared": true
   },
   "outputs": [],
   "source": [
    "# Create predictions for y-values\n",
    "y_pred = classifier.predict(X_test)"
   ]
  },
  {
   "cell_type": "markdown",
   "metadata": {
    "cell_id": "fd3fc5bd064f4455b2f61636af8486b7",
    "deepnote_cell_height": 53.9375,
    "deepnote_cell_type": "markdown",
    "tags": []
   },
   "source": [
    "##### Validate the model using the test data"
   ]
  },
  {
   "cell_type": "code",
   "execution_count": null,
   "metadata": {
    "cell_id": "00030-db219521-6ef2-44c5-b9e7-315b8ea97f79",
    "deepnote_cell_height": 119.953125,
    "deepnote_cell_type": "code",
    "id": "JfXvrTtR8Vp2",
    "output_cleared": true
   },
   "outputs": [],
   "source": [
    "# Accuracy score\n",
    "from sklearn.metrics import accuracy_score\n",
    "\n",
    "print(accuracy_score(y_test, y_pred))"
   ]
  },
  {
   "cell_type": "markdown",
   "metadata": {
    "created_in_deepnote_cell": true,
    "deepnote_cell_type": "markdown",
    "tags": []
   },
   "source": [
    "<a style='text-decoration:none;line-height:16px;display:flex;color:#5B5B62;padding:10px;justify-content:end;' href='https://deepnote.com?utm_source=created-in-deepnote-cell&projectId=001650fd-d063-41db-b9e3-866741d4a685' target=\"_blank\">\n",
    "<img alt='Created in deepnote.com' style='display:inline;max-height:16px;margin:0px;margin-right:7.5px;' src='data:image/svg+xml;base64,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' > </img>\n",
    "Created in <span style='font-weight:600;margin-left:4px;'>Deepnote</span></a>"
   ]
  }
 ],
 "metadata": {
  "colab": {
   "collapsed_sections": [],
   "name": "Untitled2.ipynb",
   "provenance": []
  },
  "deepnote": {},
  "deepnote_execution_queue": [],
  "deepnote_notebook_id": "57047adb-3ab1-47e0-bb83-e9921c1d4579",
  "kernelspec": {
   "display_name": "PythonData",
   "language": "python",
   "name": "pythondata"
  },
  "language_info": {
   "codemirror_mode": {
    "name": "ipython",
    "version": 3
   },
   "file_extension": ".py",
   "mimetype": "text/x-python",
   "name": "python",
   "nbconvert_exporter": "python",
   "pygments_lexer": "ipython3",
   "version": "3.7.11"
  }
 },
 "nbformat": 4,
 "nbformat_minor": 4
}
