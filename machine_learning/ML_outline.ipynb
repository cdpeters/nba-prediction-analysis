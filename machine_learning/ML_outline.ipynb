{
 "cells": [
  {
   "cell_type": "code",
   "execution_count": null,
   "id": "a1fc615a-0eee-4ffd-9206-f3f49d103e70",
   "metadata": {},
   "outputs": [],
   "source": [
    "import pandas as pd\n",
    "from sklearn.compose import ColumnTransformer\n",
    "from sklearn.ensemble import RandomForestClassifier\n",
    "from sklearn.impute import SimpleImputer\n",
    "from sklearn.model_selection import train_test_split\n",
    "from sklearn.pipeline import Pipeline\n",
    "from sklearn.preprocessing import OneHotEncoder, StandardScaler"
   ]
  },
  {
   "cell_type": "markdown",
   "id": "db7fd51d-6b06-4400-8d9a-6da614b6faab",
   "metadata": {},
   "source": [
    "### Dataset"
   ]
  },
  {
   "cell_type": "code",
   "execution_count": null,
   "id": "9adb8524-db48-4f2b-880b-34c35ab5981b",
   "metadata": {},
   "outputs": [],
   "source": [
    "# Sample data (replace this with your dataset)\n",
    "data = {\n",
    "    \"numeric_feature\": [1, 2, None, 4, 5],\n",
    "    \"categorical_feature\": [\"A\", \"B\", \"A\", \"B\", \"A\"],\n",
    "    \"label\": [0, 1, 1, 0, 1],\n",
    "}\n",
    "df = pd.DataFrame(data)"
   ]
  },
  {
   "cell_type": "markdown",
   "id": "6b03c6ed-60b6-4625-9a02-32a6b76e0bdc",
   "metadata": {},
   "source": [
    "### Separate Labels"
   ]
  },
  {
   "cell_type": "code",
   "execution_count": null,
   "id": "e92c20fa-522b-459f-bae2-007a80d2206f",
   "metadata": {},
   "outputs": [],
   "source": [
    "# Separate features and labels\n",
    "X = df.drop(\"label\", axis=1)\n",
    "y = df[\"label\"]"
   ]
  },
  {
   "cell_type": "markdown",
   "id": "287233f6-3524-4c5c-ac8f-8451416b70be",
   "metadata": {},
   "source": [
    "### Test Train Split"
   ]
  },
  {
   "cell_type": "code",
   "execution_count": null,
   "id": "03e2be69-3182-45d7-a43b-c430cf5298ae",
   "metadata": {},
   "outputs": [],
   "source": [
    "# Split the data into training and testing sets\n",
    "X_train, X_test, y_train, y_test = train_test_split(\n",
    "    X, y, test_size=0.2, random_state=42\n",
    ")"
   ]
  },
  {
   "cell_type": "markdown",
   "id": "2e9f4db2-2211-4f4b-b94b-27a38740dd75",
   "metadata": {},
   "source": [
    "### Preprocessing Steps\n",
    "#### Define the Steps"
   ]
  },
  {
   "cell_type": "code",
   "execution_count": null,
   "id": "8bf5d613-360a-4fba-be5f-4ca5eb5beea5",
   "metadata": {},
   "outputs": [],
   "source": [
    "# Define preprocessing steps\n",
    "numeric_features = [\"numeric_feature\"]\n",
    "numeric_transformer = Pipeline(\n",
    "    steps=[(\"imputer\", SimpleImputer(strategy=\"mean\")), (\"scaler\", StandardScaler())]\n",
    ")\n",
    "\n",
    "categorical_features = [\"categorical_feature\"]\n",
    "categorical_transformer = Pipeline(\n",
    "    steps=[\n",
    "        (\"imputer\", SimpleImputer(strategy=\"most_frequent\")),\n",
    "        (\"onehot\", OneHotEncoder()),\n",
    "    ]\n",
    ")"
   ]
  },
  {
   "cell_type": "markdown",
   "id": "6c5e5f1c-2626-4d87-83ee-bec59c8f3f6b",
   "metadata": {},
   "source": [
    "#### Gather All Steps"
   ]
  },
  {
   "cell_type": "code",
   "execution_count": null,
   "id": "00dbe9b6-b834-4b61-b4e2-251502272c94",
   "metadata": {},
   "outputs": [],
   "source": [
    "# Create a preprocessor using ColumnTransformer\n",
    "preprocessor = ColumnTransformer(\n",
    "    transformers=[\n",
    "        (\"num\", numeric_transformer, numeric_features),\n",
    "        (\"cat\", categorical_transformer, categorical_features),\n",
    "    ]\n",
    ")"
   ]
  },
  {
   "cell_type": "markdown",
   "id": "d3b08d49-bdaf-45b0-ac72-94182858ecc7",
   "metadata": {},
   "source": [
    "### Create ML Pipeline\n",
    "1. Preprocessing Steps\n",
    "2. ML Model to Apply"
   ]
  },
  {
   "cell_type": "code",
   "execution_count": null,
   "id": "a384d1d3-6157-49ff-ba15-fd10181169f9",
   "metadata": {},
   "outputs": [],
   "source": [
    "# Create a pipeline with preprocessing and a classifier (replace 'classifier' with your\n",
    "# model)\n",
    "pipeline = Pipeline(\n",
    "    steps=[(\"preprocessor\", preprocessor), (\"classifier\", RandomForestClassifier())]\n",
    ")"
   ]
  },
  {
   "cell_type": "markdown",
   "id": "6922cf05-4abc-44e7-a916-e9dcc51edad3",
   "metadata": {},
   "source": [
    "### Fit the Model"
   ]
  },
  {
   "cell_type": "code",
   "execution_count": null,
   "id": "03645cff-7dcc-41c8-a071-cc6707eceb89",
   "metadata": {},
   "outputs": [],
   "source": [
    "# Fit the model\n",
    "pipeline.fit(X_train, y_train)"
   ]
  },
  {
   "cell_type": "markdown",
   "id": "5d90196b-b67f-48d4-97ae-7953c7fbdca2",
   "metadata": {},
   "source": [
    "### Evaluate the Model"
   ]
  },
  {
   "cell_type": "code",
   "execution_count": null,
   "id": "76a14b96-3233-4bb1-801c-c234326f122b",
   "metadata": {},
   "outputs": [],
   "source": [
    "# Evaluate the model\n",
    "accuracy = pipeline.score(X_test, y_test)\n",
    "print(f\"Model Accuracy: {accuracy}\")"
   ]
  }
 ],
 "metadata": {
  "kernelspec": {
   "display_name": "nba_predict",
   "language": "python",
   "name": "nba_predict"
  },
  "language_info": {
   "codemirror_mode": {
    "name": "ipython",
    "version": 3
   },
   "file_extension": ".py",
   "mimetype": "text/x-python",
   "name": "python",
   "nbconvert_exporter": "python",
   "pygments_lexer": "ipython3",
   "version": "3.11.5"
  }
 },
 "nbformat": 4,
 "nbformat_minor": 5
}
