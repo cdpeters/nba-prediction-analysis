{
 "cells": [
  {
   "cell_type": "markdown",
   "source": "## 2022 NBA Champion Prediction",
   "metadata": {
    "cell_id": "0fcfb227-1dad-43ea-972b-3ec91601e9c6",
    "deepnote_cell_type": "markdown",
    "deepnote_cell_height": 69.9375
   }
  },
  {
   "cell_type": "code",
   "metadata": {
    "colab": {
     "base_uri": "https://localhost:8080/"
    },
    "id": "KX3p5U1xxA9d",
    "outputId": "50f0e33a-d377-4306-e433-344a012291f1",
    "tags": [],
    "deepnote_to_be_reexecuted": false,
    "source_hash": "7692ade0",
    "execution_start": 1651704442131,
    "execution_millis": 1743,
    "output_cleared": false,
    "cell_id": "00001-6ff23194-d712-4b39-aa68-0be855ddf48e",
    "deepnote_cell_type": "code",
    "deepnote_cell_height": 278.9375
   },
   "source": "import configparser\nfrom pathlib import Path\n\nfrom matplotlib import pyplot as plt\nimport numpy as np\nimport pandas as pd\nimport seaborn as sns\nfrom sqlalchemy import create_engine\nfrom sqlalchemy.ext.declarative import declarative_base\nfrom sqlalchemy.orm import sessionmaker\nfrom sqlalchemy.ext.automap import automap_base\nimport xgboost",
   "execution_count": 1,
   "outputs": []
  },
  {
   "cell_type": "markdown",
   "source": "### Read in Our Data\n##### Read config.ini File",
   "metadata": {
    "cell_id": "00002-23c584f9-7fb4-4883-96ff-4aa8fe902950",
    "deepnote_cell_type": "markdown",
    "deepnote_cell_height": 101.9375
   }
  },
  {
   "cell_type": "code",
   "metadata": {
    "deepnote_to_be_reexecuted": false,
    "source_hash": "1409b72d",
    "execution_start": 1651704443881,
    "execution_millis": 4,
    "output_cleared": false,
    "cell_id": "00003-9e9559f1-6c24-4c64-a454-b2fc8558e93b",
    "deepnote_cell_type": "code",
    "deepnote_cell_height": 136.109375,
    "deepnote_output_heights": [
     21.1875
    ]
   },
   "source": "config = configparser.ConfigParser()\nconfig.read(Path(\"config.ini\"))",
   "execution_count": 2,
   "outputs": [
    {
     "output_type": "execute_result",
     "execution_count": 2,
     "data": {
      "text/plain": "['config.ini']"
     },
     "metadata": {}
    }
   ]
  },
  {
   "cell_type": "markdown",
   "source": "##### Configure Credentials",
   "metadata": {
    "cell_id": "00004-70b03337-4d56-4435-92c4-3bb22c816cd2",
    "deepnote_cell_type": "markdown",
    "deepnote_cell_height": 53.953125
   }
  },
  {
   "cell_type": "code",
   "metadata": {
    "deepnote_to_be_reexecuted": false,
    "source_hash": "85be0bd7",
    "execution_start": 1651704443887,
    "execution_millis": 3,
    "output_cleared": true,
    "cell_id": "00005-e2fc4b8e-0897-4e6c-8ef9-538c298f9fe7",
    "deepnote_cell_type": "code",
    "deepnote_cell_height": 404.9375
   },
   "source": "# database and root user credentials\nhost = config[\"DATABASE\"][\"HOST\"]\nport = config[\"DATABASE\"][\"PORT\"]\ndb = config[\"DATABASE\"][\"DB\"]\n\n# root user credentials\nroot_user = config[\"ROOT\"][\"USERNAME\"]\nroot_pwd = config[\"ROOT\"][\"USERNAME\"]\n\n# root user db uri\nroot_db_uri = f\"postgresql://{root_user}:{root_pwd}@{host}:{port}/{db}\"\n\n\n# user credentials\nuser = config[\"USER\"][\"USERNAME\"]\npwd = config[\"USER\"][\"PASSWORD\"]\n\n# user db uri\nuser_db_uri = f\"postgresql://{user}:{pwd}@{host}:{port}/{db}\"",
   "execution_count": 3,
   "outputs": []
  },
  {
   "cell_type": "markdown",
   "source": "##### Setup SQLAlchemy Engine and Reflect Our Database",
   "metadata": {
    "cell_id": "00006-571a98ce-0cba-404a-94ad-031d6419409d",
    "deepnote_cell_type": "markdown",
    "deepnote_cell_height": 53.953125
   }
  },
  {
   "cell_type": "code",
   "metadata": {
    "deepnote_to_be_reexecuted": false,
    "source_hash": "85066bca",
    "execution_start": 1651704443892,
    "execution_millis": 250,
    "output_cleared": false,
    "cell_id": "00007-135295c7-064c-49eb-872d-c47220c13249",
    "deepnote_cell_type": "code",
    "deepnote_cell_height": 398.859375,
    "deepnote_output_heights": [
     193.953125
    ]
   },
   "source": "engine = create_engine(root_db_uri)\n\n# Create an automap base class\nBase = automap_base()\n# reflect the tables (this creates the mapping between for our tables)\nBase.prepare(engine=engine, autoload_with=engine)\nBase.classes.keys()",
   "execution_count": 4,
   "outputs": [
    {
     "output_type": "execute_result",
     "execution_count": 4,
     "data": {
      "text/plain": "['teams_traditional',\n 'teams_advanced',\n 'teams_misc',\n 'teams_clutch',\n 'playoffs_traditional',\n 'playoffs_advanced',\n 'playoffs_misc',\n 'playoffs_clutch',\n 'playoff_teams_long',\n 'champions']"
     },
     "metadata": {}
    }
   ]
  },
  {
   "cell_type": "code",
   "metadata": {
    "tags": [],
    "deepnote_to_be_reexecuted": false,
    "source_hash": "f41371d4",
    "execution_start": 1651704444142,
    "execution_millis": 3,
    "output_cleared": true,
    "cell_id": "00008-5a332500-6b9f-413d-bd76-ccf67be449d0",
    "deepnote_cell_type": "code",
    "deepnote_cell_height": 152.9375
   },
   "source": "# Save references to each table from the mapping\nTeamsTraditional = Base.classes.teams_traditional\nTeamsAdvanced = Base.classes.teams_advanced\nTeamsMisc = Base.classes.teams_misc\nTeamsClutch = Base.classes.teams_clutch",
   "execution_count": 5,
   "outputs": []
  },
  {
   "cell_type": "markdown",
   "source": "##### Query Our Database and Convert to DataFrames",
   "metadata": {
    "cell_id": "00009-5717905c-befa-4d44-9870-652f8d8fc6c2",
    "deepnote_cell_type": "markdown",
    "deepnote_cell_height": 53.953125
   }
  },
  {
   "cell_type": "code",
   "metadata": {
    "deepnote_to_be_reexecuted": false,
    "source_hash": "2d8ff79f",
    "execution_start": 1651704444164,
    "execution_millis": 123,
    "output_cleared": true,
    "cell_id": "00010-ce76a1b2-18f1-4cfd-9a7e-d858557d8780",
    "deepnote_cell_type": "code",
    "deepnote_cell_height": 1160.9375
   },
   "source": "# Create the session\nSession = sessionmaker(engine)  \n\n# Create 2 variables, one with references to our tables, and the other an empty\n# dictionary to collect the resulting DataFrames\ntables = {\n    \"traditional\": TeamsTraditional,\n    \"advanced\": TeamsAdvanced,\n    \"misc\": TeamsMisc,\n    \"clutch\": TeamsClutch,\n}\n\n# Dictionaries to hold the dataframes. There are two because we will need to separate the data of\n# the current season (2022) from all the past seasons (past seasons will serve as our train/test data).\ndataframes = {}\ndataframes_22 = {}\n\n# Loop through each table reference, query the data from our DB, and convert to\n# a DataFrame\nseason_current = 2022\nseason_start = 2016\n\nwith Session() as session:\n    for stat_type, table in tables.items():\n        # Query the table\n        query = session.query(table)\n        # Use the query's SQL statement to read into a DataFrame\n        df = pd.read_sql(sql=query.statement, con=engine)\n        # Change season column to the year as an integer\n        df[\"SEASON\"] = df[\"SEASON\"].dt.year\n        # Filter out the non-playoff teams and drop the PLAYOFFS columns as well as team record info \n        df = df[df[\"PLAYOFFS\"] == True].drop(columns=[\"GP\", \"W\", \"L\", \"PLAYOFFS\"])\n        \n        # Slice the DataFrame to separate the 2022 season (that doesn't have a champion) from all of\n        # the past seasons\n        df_22 = df[df[\"SEASON\"] == season_current]\n        df = df[(df[\"SEASON\"] >= season_start) & (df[\"SEASON\"] < season_current)]\n\n        # Create a new team identifier by combining the year and team name\n        df_22[\"TEAM\"] = df_22[\"SEASON\"].astype(dtype=\"str\") + \" \" + df_22[\"TEAM\"]\n        df[\"TEAM\"] = df[\"SEASON\"].astype(dtype=\"str\") + \" \" + df[\"TEAM\"]\n\n        # Drop the season column\n        df_22 = df_22.drop(columns=\"SEASON\")\n        df = df.drop(columns=\"SEASON\")\n\n        # Reset the index and assign the transformed DataFrame to the \"output\" dictionaries\n        dataframes_22[stat_type] = df_22.reset_index(drop=True)\n        dataframes[stat_type] = df.reset_index(drop=True)\n\n# Assign the DataFrames to variables with same names as our tables from our DB\nteams_traditional = dataframes[\"traditional\"]\nteams_advanced = dataframes[\"advanced\"]\nteams_misc = dataframes[\"misc\"]\nteams_clutch = dataframes[\"clutch\"]\n\n# Assign the 2022 DataFrames to variables with same names as our tables from our DB with suffix for 2022\nteams_traditional_22 = dataframes_22[\"traditional\"]\nteams_advanced_22 = dataframes_22[\"advanced\"]\nteams_misc_22 = dataframes_22[\"misc\"]\nteams_clutch_22 = dataframes_22[\"clutch\"]",
   "execution_count": 6,
   "outputs": []
  },
  {
   "cell_type": "markdown",
   "source": "##### Check Number of Records for Each DataFrame",
   "metadata": {
    "tags": [],
    "cell_id": "00011-f8d7c855-4a02-4f5d-b262-9b9a1c40acb3",
    "deepnote_cell_type": "markdown",
    "deepnote_cell_height": 53.953125
   }
  },
  {
   "cell_type": "code",
   "metadata": {
    "tags": [],
    "deepnote_to_be_reexecuted": false,
    "source_hash": "ecf7ebfa",
    "execution_start": 1651704444291,
    "execution_millis": 525,
    "cell_id": "00012-8583fd77-a272-4492-8ea0-b6030a9d732a",
    "deepnote_cell_type": "code",
    "deepnote_cell_height": 175.671875,
    "deepnote_output_heights": [
     78.765625
    ]
   },
   "source": "teams_traditional.columns",
   "execution_count": 7,
   "outputs": [
    {
     "output_type": "execute_result",
     "execution_count": 7,
     "data": {
      "text/plain": "Index(['TEAM', 'WIN%', 'MIN', 'PTS', 'FGM', 'FGA', 'FG%', '3PM', '3PA', '3P%',\n       'FTM', 'FTA', 'FT%', 'OREB', 'DREB', 'REB', 'AST', 'TOV', 'STL', 'BLK',\n       'BLKA', 'PF', 'PFD', '+/-', 'CHAMPION'],\n      dtype='object')"
     },
     "metadata": {}
    }
   ]
  },
  {
   "cell_type": "code",
   "metadata": {
    "tags": [],
    "deepnote_to_be_reexecuted": false,
    "source_hash": "49ec801",
    "execution_start": 1651704444299,
    "execution_millis": 518,
    "output_cleared": false,
    "cell_id": "00013-ceff9ae8-7433-4b53-a349-46a2606816d3",
    "deepnote_cell_type": "code",
    "deepnote_cell_height": 395.828125
   },
   "source": "print(\"traditional count = \", len(teams_traditional))\nprint(\"advanced count = \", len(teams_advanced))\nprint(\"misc count = \", len(teams_misc))\nprint(\"clutch count = \", len(teams_clutch))\n\nprint(\"2022 traditional count = \", len(teams_traditional_22))\nprint(\"2022 advanced count = \", len(teams_advanced_22))\nprint(\"2022 misc count = \", len(teams_misc_22))\nprint(\"2022 clutch count = \", len(teams_clutch_22))",
   "execution_count": 8,
   "outputs": [
    {
     "name": "stdout",
     "text": "traditional count =  96\nadvanced count =  96\nmisc count =  96\nclutch count =  96\n2022 traditional count =  16\n2022 advanced count =  16\n2022 misc count =  16\n2022 clutch count =  16\n",
     "output_type": "stream"
    }
   ]
  },
  {
   "cell_type": "markdown",
   "source": "##### Merge All Stats Into One Table for Past and Current Seasons Each\nSelect Features",
   "metadata": {
    "tags": [],
    "cell_id": "00014-3b824e36-3efc-46f1-ae2e-5f1a134744dc",
    "deepnote_cell_type": "markdown",
    "deepnote_cell_height": 88.328125
   }
  },
  {
   "cell_type": "code",
   "metadata": {
    "tags": [],
    "deepnote_to_be_reexecuted": false,
    "source_hash": "8746120c",
    "execution_start": 1651704444322,
    "execution_millis": 1,
    "cell_id": "00015-4b893595-2579-4130-a03a-886e776704a5",
    "deepnote_cell_type": "code",
    "deepnote_cell_height": 908.9375
   },
   "source": "features = [\n    # 'WIN%',\n    # 'PTS',\n    # 'FGM',\n    # 'FGA',\n    # 'FG%',\n    # '3PM',\n    # '3PA',\n    '3P%',\n    # 'FTM',\n    # 'FTA',\n    # 'FT%',\n    # 'OREB',\n    'DREB',\n    # 'REB',\n    # 'AST',\n    # 'TOV',\n    'STL',\n    'BLK',\n    # 'BLKA',\n    # 'PF',\n    # 'PFD',\n    # '+/-',\n    'OFFRTG',\n    'DEFRTG',\n    # 'NETRTG',\n    # 'AST%',\n    'AST/TO',\n    # 'AST RATIO',\n    # 'OREB%',\n    # 'DREB%',\n    # 'REB%',\n    # 'TOV%',\n    # 'EFG%',\n    # 'TS%',\n    # 'PACE',\n    # 'PIE',\n    # 'POSS',\n    # 'PTS OFF TO',\n    # '2ND PTS',\n    # 'FBPS',\n    # 'PITP',\n    # 'OPP PTS OFF TO',\n    # 'OPP 2ND PTS',\n    # 'OPP FBPS',\n    # 'OPP PITP'\n]",
   "execution_count": 9,
   "outputs": []
  },
  {
   "cell_type": "code",
   "metadata": {
    "tags": [],
    "output_cleared": true,
    "deepnote_to_be_reexecuted": false,
    "source_hash": "c5a890e0",
    "execution_start": 1651704444323,
    "execution_millis": 0,
    "cell_id": "00016-8902f350-aa76-4934-a28b-1930a1f0342d",
    "deepnote_cell_type": "code",
    "deepnote_cell_height": 908.9375
   },
   "source": "features_all = [\n    'WIN%',\n    'PTS',\n    'FGM',\n    'FGA',\n    'FG%',\n    '3PM',\n    '3PA',\n    '3P%',\n    'FTM',\n    'FTA',\n    'FT%',\n    'OREB',\n    'DREB',\n    'REB',\n    'AST',\n    'TOV',\n    'STL',\n    'BLK',\n    'BLKA',\n    'PF',\n    'PFD',\n    '+/-',\n    'OFFRTG',\n    'DEFRTG',\n    'NETRTG',\n    'AST%',\n    'AST/TO',\n    'AST RATIO',\n    'OREB%',\n    'DREB%',\n    'REB%',\n    'TOV%',\n    'EFG%',\n    'TS%',\n    'PACE',\n    'PIE',\n    'POSS',\n    'PTS OFF TO',\n    '2ND PTS',\n    'FBPS',\n    'PITP',\n    'OPP PTS OFF TO',\n    'OPP 2ND PTS',\n    'OPP FBPS',\n    'OPP PITP'\n]",
   "execution_count": 10,
   "outputs": []
  },
  {
   "cell_type": "code",
   "metadata": {
    "tags": [],
    "deepnote_to_be_reexecuted": false,
    "source_hash": "fc42a7ba",
    "execution_start": 1651704444324,
    "execution_millis": 494,
    "cell_id": "00017-a584d243-c5cb-4d1a-9e82-c2f0fed00796",
    "deepnote_cell_type": "code",
    "deepnote_cell_height": 118.09375,
    "deepnote_output_heights": [
     21.1875
    ]
   },
   "source": "len(features)",
   "execution_count": 11,
   "outputs": [
    {
     "output_type": "execute_result",
     "execution_count": 11,
     "data": {
      "text/plain": "7"
     },
     "metadata": {}
    }
   ]
  },
  {
   "cell_type": "markdown",
   "source": "Merge and Select Columns Based on Features Variable",
   "metadata": {
    "tags": [],
    "cell_id": "00018-e1470ca1-9dfa-4b7c-a1bc-55516dfa943b",
    "deepnote_cell_type": "markdown",
    "deepnote_cell_height": 52.34375
   }
  },
  {
   "cell_type": "code",
   "metadata": {
    "tags": [],
    "output_cleared": true,
    "deepnote_to_be_reexecuted": false,
    "source_hash": "34cf696",
    "allow_embed": false,
    "execution_start": 1651704444327,
    "execution_millis": 14,
    "cell_id": "00019-b725bde0-18c1-4fe9-b615-4e787504df61",
    "deepnote_cell_type": "code",
    "deepnote_cell_height": 296.921875
   },
   "source": "# Merge traditional, advanced, and misc tables together\nteam_stats = (teams_traditional.merge(teams_advanced, on=\"TEAM\", suffixes=[\"_t\", \"_a\"])\n                               .merge(teams_misc, on=\"TEAM\", suffixes=[\"_t\", \"_a\"]))\n\nteam_stats_22 = (teams_traditional_22.merge(teams_advanced_22, on=\"TEAM\", suffixes=[\"_t\", \"_a\"])\n                                     .merge(teams_misc_22, on=\"TEAM\", suffixes=[\"_t\", \"_a\"]))\n\n# Select the features columns into a new DataFrame\nstats = team_stats[features]\nstats_22 = team_stats_22[features]\n\n# Assign the target labels\nlabels = team_stats[\"CHAMPION\"]",
   "execution_count": 12,
   "outputs": []
  },
  {
   "cell_type": "markdown",
   "source": "#### Confusion Matrix (Correlation Between Stats)",
   "metadata": {
    "tags": [],
    "cell_id": "00020-1d198ab5-9fc1-487f-b77f-75a579654e49",
    "deepnote_cell_type": "markdown",
    "deepnote_cell_height": 53.953125
   }
  },
  {
   "cell_type": "code",
   "metadata": {
    "tags": [],
    "deepnote_to_be_reexecuted": false,
    "source_hash": "c1657a1b",
    "execution_start": 1651704444349,
    "execution_millis": 732,
    "cell_id": "00021-f86d3191-02bb-428d-8843-d54095345bbc",
    "deepnote_cell_type": "code",
    "deepnote_cell_height": 1846.21875,
    "deepnote_output_heights": [
     null,
     279.984375,
     null,
     388.984375
    ]
   },
   "source": "# Create a correlation matrix of the stats\ncorr = team_stats[features_all].corr()\ncorr = corr.round(4)\n\nmax_correlations = {}\navg_correlations = {}\n\nquantile_val = 0.80\nmax_corr_cutoff = 0.8\navg_corr_cutoff = 0.35\n\nfor col_name, correlations in corr.items():\n    abs_sorted_correlations = correlations.abs().sort_values(ascending=False)\n    max_corr = abs_sorted_correlations.iloc[1]\n    max_correlations[col_name] = max_corr\n    avg_corr = abs_sorted_correlations.iloc[1:].quantile(q=quantile_val)\n    avg_correlations[col_name] = avg_corr\n\n# Max Correlation Data\nmax_correlations = pd.DataFrame(max_correlations.values(), index=pd.Index(max_correlations.keys()), columns=[\"Max Correlation\"])\nmax_correlations = max_correlations.sort_values(by=\"Max Correlation\", ascending=False)\nmax_correlations = max_correlations[max_correlations[\"Max Correlation\"] < max_corr_cutoff]\n\nprint(f\"Number of stats with max r-value < {max_corr_cutoff}: \", len(max_correlations), \"\\n\")\nprint(f\"Stats with max r-value < {max_corr_cutoff}:\", list(max_correlations.index), \"\\n\")\n\n# Max Correlation Plot\nplt.barh(max_correlations.index, max_correlations[\"Max Correlation\"])\nplt.title(f\"Stats With Maximum Correlation Coefficient < {max_corr_cutoff}\")\nplt.xlabel(\"Maximum Correlation Coefficient\")\nplt.show()\n\n# --------------------------------------------------------------------------------------\n# Avg Correlation Data\navg_correlations = pd.DataFrame(avg_correlations.values(), index=pd.Index(avg_correlations.keys()), columns=[\"Avg Correlation\"])\navg_correlations = avg_correlations.sort_values(by=\"Avg Correlation\", ascending=False)\navg_correlations = avg_correlations[avg_correlations[\"Avg Correlation\"] < avg_corr_cutoff]\n\nprint(f\"Number of stats with avg r-value < {avg_corr_cutoff}: \", len(avg_correlations), \"\\n\")\nprint(f\"Stats with avg r-value < {avg_corr_cutoff}:\", list(avg_correlations.index), \"\\n\")\n\n# Avg Correlation Plot\nplt.figure(figsize=(7,6))\nplt.barh(avg_correlations.index, avg_correlations[\"Avg Correlation\"])\nplt.title(f\"Stats With {int(round(100*quantile_val))}% Of Their Correlation Coefficients < {avg_corr_cutoff}\")\nplt.xlabel(\"Average Correlation Coefficient\")\nplt.show()",
   "execution_count": 13,
   "outputs": [
    {
     "name": "stdout",
     "text": "Number of stats with max r-value < 0.8:  16 \n\nStats with max r-value < 0.8: ['AST/TO', 'FGA', 'REB%', 'DREB%', 'OPP 2ND PTS', '3P%', 'PITP', 'OPP PITP', 'DEFRTG', 'BLK', 'FBPS', 'BLKA', 'FT%', 'PF', 'OPP FBPS', 'POSS'] \n\n",
     "output_type": "stream"
    },
    {
     "data": {
      "text/plain": "<Figure size 432x288 with 1 Axes>",
      "image/png": "[encoded data removed]"
     },
     "metadata": {
      "needs_background": "light",
      "image/png": {
       "width": 422,
       "height": 278
      }
     },
     "output_type": "display_data"
    },
    {
     "name": "stdout",
     "text": "Number of stats with avg r-value < 0.35:  20 \n\nStats with avg r-value < 0.35: ['REB%', 'BLKA', 'TOV', 'OPP PTS OFF TO', 'AST%', 'FT%', 'FTA', 'OREB%', 'BLK', 'OPP 2ND PTS', 'TOV%', 'PF', 'DREB%', 'OPP FBPS', 'PFD', 'FTM', 'STL', '2ND PTS', 'PTS OFF TO', 'POSS'] \n\n",
     "output_type": "stream"
    },
    {
     "data": {
      "text/plain": "<Figure size 504x432 with 1 Axes>",
      "image/png": "[encoded data removed]"
     },
     "metadata": {
      "needs_background": "light",
      "image/png": {
       "width": 494,
       "height": 387
      }
     },
     "output_type": "display_data"
    }
   ]
  },
  {
   "cell_type": "code",
   "metadata": {
    "tags": [],
    "deepnote_to_be_reexecuted": false,
    "source_hash": "a4464fdb",
    "execution_start": 1651704445048,
    "execution_millis": 1132,
    "deepnote_table_state": {
     "pageSize": 25,
     "pageIndex": 0,
     "filters": [],
     "sortBy": []
    },
    "deepnote_table_loading": false,
    "output_cleared": false,
    "cell_id": "00022-f5e68607-5cc1-42a1-b808-c3af215bfdb9",
    "deepnote_cell_type": "code",
    "deepnote_cell_height": 831.9375,
    "deepnote_output_heights": [
     608.984375
    ]
   },
   "source": "# Plot a heatmap of the correlations\nf, ax = plt.subplots(figsize=(12, 9))\nmask = np.triu(np.ones_like(corr, dtype=bool))\n# cmap = sns.color_palette(\"vlag\", as_cmap=True)\ncmap = sns.diverging_palette(150, 150, s=80, l=55, as_cmap=True)\nsns.heatmap(corr, cmap=cmap, vmin=-1, vmax=1)\nplt.title(\"Correlation Coefficient Heatmap\")\nplt.show()",
   "execution_count": 14,
   "outputs": [
    {
     "data": {
      "text/plain": "<Figure size 864x648 with 2 Axes>",
      "image/png": "[encoded data removed]"
     },
     "metadata": {
      "needs_background": "light",
      "image/png": {
       "width": 733,
       "height": 607
      }
     },
     "output_type": "display_data"
    }
   ]
  },
  {
   "cell_type": "code",
   "metadata": {
    "tags": [],
    "deepnote_to_be_reexecuted": false,
    "source_hash": "9c8eb1f7",
    "deepnote_table_state": {
     "pageSize": 25,
     "pageIndex": 0,
     "filters": [],
     "sortBy": []
    },
    "deepnote_table_loading": false,
    "output_cleared": false,
    "allow_embed": false,
    "execution_start": 1651704446232,
    "execution_millis": 268,
    "cell_id": "00023-ed9c23cd-99cb-4902-8be0-8b8ec7c42263",
    "deepnote_cell_type": "code",
    "deepnote_cell_height": 814.890625,
    "deepnote_output_heights": [
     537.984375
    ]
   },
   "source": "corr = stats.corr()\ncorr = corr.round(4)\n\n# Plot a heatmap of the correlations\nf, ax = plt.subplots(figsize=(12, 9))\nmask = np.triu(np.ones_like(corr, dtype=bool))\n# cmap = sns.color_palette(\"vlag\", as_cmap=True)\ncmap = sns.diverging_palette(150, 150, s=80, l=55, as_cmap=True)\nsns.heatmap(corr, cmap=cmap, vmin=-1, vmax=1)\nplt.title(\"Correlation Coefficient Heatmap\")\nplt.show()",
   "execution_count": 15,
   "outputs": [
    {
     "data": {
      "text/plain": "<Figure size 864x648 with 2 Axes>",
      "image/png": "[encoded data removed]"
     },
     "metadata": {
      "needs_background": "light",
      "image/png": {
       "width": 662,
       "height": 536
      }
     },
     "output_type": "display_data"
    }
   ]
  },
  {
   "cell_type": "code",
   "metadata": {
    "tags": [],
    "output_cleared": false,
    "deepnote_to_be_reexecuted": false,
    "source_hash": "37c214a",
    "execution_start": 1651704446506,
    "execution_millis": 11,
    "deepnote_table_state": {
     "pageSize": 25,
     "pageIndex": 0,
     "filters": [],
     "sortBy": []
    },
    "deepnote_table_loading": false,
    "cell_id": "00024-bbd063f3-42e7-472b-9a58-bfbcb4ce6b27",
    "deepnote_cell_type": "code",
    "deepnote_cell_height": 252.46875,
    "deepnote_output_heights": [
     155.5625
    ]
   },
   "source": "team_stats.columns",
   "execution_count": 16,
   "outputs": [
    {
     "output_type": "execute_result",
     "execution_count": 16,
     "data": {
      "text/plain": "Index(['TEAM', 'WIN%', 'MIN_t', 'PTS', 'FGM', 'FGA', 'FG%', '3PM', '3PA',\n       '3P%', 'FTM', 'FTA', 'FT%', 'OREB', 'DREB', 'REB', 'AST', 'TOV', 'STL',\n       'BLK', 'BLKA', 'PF', 'PFD', '+/-', 'CHAMPION_t', 'MIN_a', 'OFFRTG',\n       'DEFRTG', 'NETRTG', 'AST%', 'AST/TO', 'AST RATIO', 'OREB%', 'DREB%',\n       'REB%', 'TOV%', 'EFG%', 'TS%', 'PACE', 'PIE', 'POSS', 'CHAMPION_a',\n       'MIN', 'PTS OFF TO', '2ND PTS', 'FBPS', 'PITP', 'OPP PTS OFF TO',\n       'OPP 2ND PTS', 'OPP FBPS', 'OPP PITP', 'CHAMPION'],\n      dtype='object')"
     },
     "metadata": {}
    }
   ]
  },
  {
   "cell_type": "markdown",
   "source": "### Machine Learning\n#### Create a model with LogisticRegression().\n1.  Create a model with LogisticRegression().\n2.  Train the model with model.fit().\n3. Make predictions with model.predict().\n4. Validate the model with accuracy_score().",
   "metadata": {
    "id": "dzP_lzN32IIb",
    "tags": [],
    "cell_id": "00025-3cc49696-8922-4304-84c8-b111c0f06102",
    "deepnote_cell_type": "markdown",
    "deepnote_cell_height": 226.46875
   }
  },
  {
   "cell_type": "markdown",
   "source": "<br>\n<hr>",
   "metadata": {
    "cell_id": "00026-8f530af0-0cf4-4fcf-9cf5-e620a6b20796",
    "deepnote_cell_type": "markdown",
    "deepnote_cell_height": 53.34375
   }
  },
  {
   "cell_type": "markdown",
   "source": "#### Logistic Regression\n##### Preprocess Our Data",
   "metadata": {
    "id": "9mIfU2-750TG",
    "cell_id": "00027-d34bd433-58f0-4c7e-b782-eb2d196c294c",
    "deepnote_cell_type": "markdown",
    "deepnote_cell_height": 89.9375
   }
  },
  {
   "cell_type": "markdown",
   "source": "One-Hot-Encode the Labels",
   "metadata": {
    "tags": [],
    "cell_id": "00028-868be7da-3432-4af3-9096-1ca986f0193b",
    "deepnote_cell_type": "markdown",
    "deepnote_cell_height": 52.34375
   }
  },
  {
   "cell_type": "code",
   "metadata": {
    "tags": [],
    "deepnote_to_be_reexecuted": false,
    "source_hash": "2ed65773",
    "execution_start": 1651704446516,
    "execution_millis": 4,
    "output_cleared": false,
    "cell_id": "00029-2747d56d-7ad7-44aa-aa1c-82546c9a4e0c",
    "deepnote_cell_type": "code",
    "deepnote_cell_height": 266.875,
    "deepnote_output_heights": [
     97.96875
    ]
   },
   "source": "from sklearn.preprocessing import LabelEncoder\n\nle = LabelEncoder()\nlabels = le.fit_transform(labels)\nlabels",
   "execution_count": 17,
   "outputs": [
    {
     "output_type": "execute_result",
     "execution_count": 17,
     "data": {
      "text/plain": "array([0, 0, 0, 0, 0, 0, 1, 0, 0, 0, 0, 0, 0, 0, 0, 0, 0, 0, 1, 0, 0, 0,\n       0, 0, 0, 0, 0, 0, 0, 0, 0, 0, 0, 1, 0, 0, 0, 0, 0, 0, 0, 0, 0, 0,\n       0, 0, 0, 0, 0, 0, 1, 0, 0, 0, 0, 0, 0, 0, 0, 0, 0, 0, 0, 0, 1, 0,\n       0, 0, 0, 0, 0, 0, 0, 0, 0, 0, 0, 0, 0, 0, 0, 0, 1, 0, 0, 0, 0, 0,\n       0, 0, 0, 0, 0, 0, 0, 0])"
     },
     "metadata": {}
    }
   ]
  },
  {
   "cell_type": "markdown",
   "source": "Scale",
   "metadata": {
    "tags": [],
    "cell_id": "00030-affe70c5-2b6c-4f38-8129-40710cee9735",
    "deepnote_cell_type": "markdown",
    "deepnote_cell_height": 52.34375
   }
  },
  {
   "cell_type": "code",
   "metadata": {
    "tags": [],
    "deepnote_to_be_reexecuted": false,
    "source_hash": "beb93142",
    "execution_start": 1651704446516,
    "execution_millis": 16,
    "output_cleared": false,
    "cell_id": "00031-5c1e4555-10fc-4864-91e5-57864bf33a23",
    "deepnote_cell_type": "code",
    "deepnote_cell_height": 328.59375
   },
   "source": "from sklearn.preprocessing import StandardScaler, Normalizer, QuantileTransformer\ndata_scaler = StandardScaler()\nstats_transformed = data_scaler.fit_transform(stats)\nstats_22_transformed = data_scaler.fit_transform(stats_22)\n# pd.DataFrame(stats_transformed, columns=stats.columns)",
   "execution_count": 18,
   "outputs": [
    {
     "name": "stderr",
     "text": "/shared-libs/python3.7/py/lib/python3.7/site-packages/sklearn/utils/validation.py:1692: FutureWarning: Feature names only support names that are all strings. Got feature names with dtypes: ['quoted_name']. An error will be raised in 1.2.\n  FutureWarning,\n/shared-libs/python3.7/py/lib/python3.7/site-packages/sklearn/utils/validation.py:1692: FutureWarning: Feature names only support names that are all strings. Got feature names with dtypes: ['quoted_name']. An error will be raised in 1.2.\n  FutureWarning,\n/shared-libs/python3.7/py/lib/python3.7/site-packages/sklearn/utils/validation.py:1692: FutureWarning: Feature names only support names that are all strings. Got feature names with dtypes: ['quoted_name']. An error will be raised in 1.2.\n  FutureWarning,\n/shared-libs/python3.7/py/lib/python3.7/site-packages/sklearn/utils/validation.py:1692: FutureWarning: Feature names only support names that are all strings. Got feature names with dtypes: ['quoted_name']. An error will be raised in 1.2.\n  FutureWarning,\n",
     "output_type": "stream"
    }
   ]
  },
  {
   "cell_type": "markdown",
   "source": "PCA Dimensionality Reduction",
   "metadata": {
    "tags": [],
    "cell_id": "00032-bdd6b92e-5119-4a90-aba9-1d55d27c9e17",
    "deepnote_cell_type": "markdown",
    "deepnote_cell_height": 52.34375
   }
  },
  {
   "cell_type": "code",
   "metadata": {
    "tags": [],
    "deepnote_to_be_reexecuted": false,
    "source_hash": "2f38c5b9",
    "execution_start": 1651704446528,
    "execution_millis": 223,
    "cell_id": "00033-1a0f4c3e-195d-4b07-96d0-7cb01ba85026",
    "deepnote_cell_type": "code",
    "deepnote_cell_height": 538.9375,
    "deepnote_output_heights": [
     279.984375
    ]
   },
   "source": "from sklearn.decomposition import PCA\npca = PCA(svd_solver='full').fit(stats_transformed)\nplt.plot(np.cumsum(pca.explained_variance_ratio_))\nplt.title(\"Cumulative Explained Variance\")\nplt.xlabel('No. of Components')\nplt.ylabel('Cumulative Variance')\nplt.show()\n# pca = PCA(n_components=17, svd_solver='full')\n# stats_transformed = pd.DataFrame(pca.fit_transform(stats))\n# stats_transformed.shape",
   "execution_count": 19,
   "outputs": [
    {
     "data": {
      "text/plain": "<Figure size 432x288 with 1 Axes>",
      "image/png": "[encoded data removed]"
     },
     "metadata": {
      "needs_background": "light",
      "image/png": {
       "width": 386,
       "height": 278
      }
     },
     "output_type": "display_data"
    }
   ]
  },
  {
   "cell_type": "markdown",
   "source": "Assign to ML Input Variables",
   "metadata": {
    "tags": [],
    "cell_id": "00034-6da84652-7182-48bb-9901-85df2a7c4b35",
    "deepnote_cell_type": "markdown",
    "deepnote_cell_height": 52.34375
   }
  },
  {
   "cell_type": "code",
   "metadata": {
    "id": "vZi4GQ9g56FN",
    "output_cleared": true,
    "deepnote_to_be_reexecuted": false,
    "source_hash": "8d06759d",
    "execution_start": 1651704446753,
    "execution_millis": 2,
    "cell_id": "00035-80470783-5ded-49da-9a1a-2ec7e29446a9",
    "deepnote_cell_type": "code",
    "deepnote_cell_height": 152.9375
   },
   "source": "# Categorize features from the target\ny = labels\n# X = stats\nX = stats_transformed\ntarget = stats_22_transformed",
   "execution_count": 20,
   "outputs": []
  },
  {
   "cell_type": "markdown",
   "source": "##### Split our data into training and testing",
   "metadata": {
    "tags": [],
    "cell_id": "00036-92edf6a8-b54c-42a3-869c-9e6860257dfe",
    "deepnote_cell_type": "markdown",
    "deepnote_cell_height": 53.953125
   }
  },
  {
   "cell_type": "code",
   "metadata": {
    "id": "Xt0p9bfJ6UlB",
    "tags": [],
    "output_cleared": true,
    "deepnote_to_be_reexecuted": false,
    "source_hash": "f94e921a",
    "execution_start": 1651704446757,
    "execution_millis": 4,
    "cell_id": "00037-9ba40492-6284-4f7a-b9de-73e837a01235",
    "deepnote_cell_type": "code",
    "deepnote_cell_height": 152.9375
   },
   "source": "# Split the dataset into training and testing sets\nfrom sklearn.model_selection import train_test_split\n# Stratifying the data is important since we have 25 champions and 375 non-champions (a strong\n# imbalance across the two groups)\nX_train, X_test, y_train, y_test = train_test_split(X, y, test_size=0.25, random_state=1, stratify=y)",
   "execution_count": 21,
   "outputs": []
  },
  {
   "cell_type": "markdown",
   "source": "##### Create a Logistic Regression Model",
   "metadata": {
    "tags": [],
    "cell_id": "00038-fdc8f57c-c882-4d32-9bdf-c031bd80a9a1",
    "deepnote_cell_type": "markdown",
    "deepnote_cell_height": 53.953125
   }
  },
  {
   "cell_type": "code",
   "metadata": {
    "id": "Bua8pG8F6U2x",
    "tags": [],
    "output_cleared": true,
    "deepnote_to_be_reexecuted": false,
    "source_hash": "3068fc0e",
    "execution_start": 1651704446764,
    "execution_millis": 1,
    "cell_id": "00039-0c259c06-6b70-4579-87de-23f16ce88f20",
    "deepnote_cell_type": "code",
    "deepnote_cell_height": 134.9375
   },
   "source": "# Create a logistic regression model with the specified arguments\nfrom sklearn.linear_model import LogisticRegression\n\nclassifier = LogisticRegression(solver=\"liblinear\", max_iter=2000, random_state=1)",
   "execution_count": 22,
   "outputs": []
  },
  {
   "cell_type": "markdown",
   "source": "##### Fit (train) or model using the training data",
   "metadata": {
    "tags": [],
    "cell_id": "00040-30bc4021-e2c9-46a5-85be-ca1d14be79e0",
    "deepnote_cell_type": "markdown",
    "deepnote_cell_height": 53.953125
   }
  },
  {
   "cell_type": "code",
   "metadata": {
    "id": "Osoz-f9y6U71",
    "output_cleared": false,
    "deepnote_to_be_reexecuted": false,
    "source_hash": "eac1da16",
    "execution_start": 1651704446772,
    "execution_millis": 3,
    "cell_id": "00041-cb8c9217-8a8e-4e31-85a4-14ee50388b10",
    "deepnote_cell_type": "code",
    "deepnote_cell_height": 136.109375,
    "deepnote_output_heights": [
     21.1875
    ]
   },
   "source": "# Train the model with the training data\nclassifier.fit(X_train, y_train)",
   "execution_count": 23,
   "outputs": [
    {
     "output_type": "execute_result",
     "execution_count": 23,
     "data": {
      "text/plain": "LogisticRegression(max_iter=2000, random_state=1, solver='liblinear')"
     },
     "metadata": {}
    }
   ]
  },
  {
   "cell_type": "markdown",
   "source": "##### Test the Model Against X_test",
   "metadata": {
    "tags": [],
    "cell_id": "00042-cde118ae-bfb7-43f2-afa9-83297e2a51b0",
    "deepnote_cell_type": "markdown",
    "deepnote_cell_height": 53.953125
   }
  },
  {
   "cell_type": "code",
   "metadata": {
    "id": "RDDMEar98R4O",
    "output_cleared": false,
    "deepnote_to_be_reexecuted": false,
    "source_hash": "a5d5f8b4",
    "execution_start": 1651704446778,
    "execution_millis": 2,
    "deepnote_table_state": {
     "pageSize": 10,
     "pageIndex": 2,
     "filters": [],
     "sortBy": []
    },
    "deepnote_table_loading": false,
    "deepnote_table_invalid": false,
    "cell_id": "00043-76cb91c0-ccf4-432a-8414-1a534300a7b1",
    "deepnote_cell_type": "code",
    "deepnote_cell_height": 116.9375
   },
   "source": "# Create predictions for y-values\ny_pred = classifier.predict(X_test)\nresults = pd.DataFrame({\"Prediction\": y_pred, \"Actual\": y_test})",
   "execution_count": 24,
   "outputs": []
  },
  {
   "cell_type": "markdown",
   "source": "##### Validate the model using the test data",
   "metadata": {
    "tags": [],
    "cell_id": "00044-76d7f20f-618d-4fca-a093-71b59df36794",
    "deepnote_cell_type": "markdown",
    "deepnote_cell_height": 53.953125
   }
  },
  {
   "cell_type": "code",
   "metadata": {
    "id": "JfXvrTtR8Vp2",
    "output_cleared": false,
    "deepnote_to_be_reexecuted": false,
    "source_hash": "ef83475f",
    "execution_start": 1651704446783,
    "execution_millis": 3,
    "cell_id": "00045-a0b2c3b9-bec2-4d92-9a00-c6141a31ddc9",
    "deepnote_cell_type": "code",
    "deepnote_cell_height": 165.90625
   },
   "source": "# Accuracy score\nfrom sklearn.metrics import accuracy_score\n\nprint(accuracy_score(y_test, y_pred))",
   "execution_count": 25,
   "outputs": [
    {
     "name": "stdout",
     "text": "0.9166666666666666\n",
     "output_type": "stream"
    }
   ]
  },
  {
   "cell_type": "markdown",
   "source": "##### Confusion Matrix",
   "metadata": {
    "tags": [],
    "cell_id": "00046-4facb1f2-411e-408b-99fc-06367e344c64",
    "deepnote_cell_type": "markdown",
    "deepnote_cell_height": 53.953125
   }
  },
  {
   "cell_type": "code",
   "metadata": {
    "tags": [],
    "deepnote_to_be_reexecuted": false,
    "source_hash": "bad8efaa",
    "execution_start": 1651704446790,
    "execution_millis": 665,
    "cell_id": "00047-484a15c9-501a-45f5-bb03-29f85408f1a9",
    "deepnote_cell_type": "code",
    "deepnote_cell_height": 679.828125,
    "deepnote_output_heights": [
     null,
     282.96875
    ]
   },
   "source": "from sklearn.metrics import confusion_matrix\nprint(y_test.shape)\nc_matrix = confusion_matrix(y_test, y_pred)\nc = c_matrix\nprint(\"tn, fp, fn, tp: \", c.ravel())\nsns.heatmap(c_matrix,\n            xticklabels=[\"Non-Champion\", \"Champion\"],\n            yticklabels=[\"Non-Champion\", \"Champion\"],\n            annot=True,\n            cmap='Blues')\nplt.title(\"Confusion Matrix\")\nplt.xlabel('Predicted', fontsize=12)\nplt.ylabel('Actual', fontsize=12)\nplt.show()",
   "execution_count": 26,
   "outputs": [
    {
     "name": "stdout",
     "text": "(24,)\ntn, fp, fn, tp:  [21  1  1  1]\n",
     "output_type": "stream"
    },
    {
     "data": {
      "text/plain": "<Figure size 432x288 with 2 Axes>",
      "image/png": "[encoded data removed]"
     },
     "metadata": {
      "needs_background": "light",
      "image/png": {
       "width": 373,
       "height": 281
      }
     },
     "output_type": "display_data"
    }
   ]
  },
  {
   "cell_type": "markdown",
   "source": "##### Make the Prediction",
   "metadata": {
    "tags": [],
    "cell_id": "00048-15d40cdd-05e9-4fc9-b231-7d083024d20a",
    "deepnote_cell_type": "markdown",
    "deepnote_cell_height": 53.953125
   }
  },
  {
   "cell_type": "code",
   "metadata": {
    "tags": [],
    "deepnote_to_be_reexecuted": false,
    "source_hash": "eeb24d03",
    "execution_start": 1651704447054,
    "execution_millis": 407,
    "deepnote_table_state": {
     "pageSize": 25,
     "pageIndex": 0,
     "filters": [],
     "sortBy": []
    },
    "deepnote_table_loading": false,
    "output_cleared": false,
    "cell_id": "00049-0fb5af20-9253-4b42-8bf8-54a46663e7c8",
    "deepnote_cell_type": "code",
    "deepnote_cell_height": 255.890625
   },
   "source": "y_pred_22 = classifier.predict(stats_22_transformed)\nchampion_pred = pd.DataFrame({\"Prediction\": y_pred_22})\n\n# Print out the predicted champion\npredicted_champion = pd.DataFrame({\"TEAM\" : team_stats_22[\"TEAM\"], \"Prediction\": champion_pred[\"Prediction\"]})\n\npc = [team for team in predicted_champion[predicted_champion[\"Prediction\"] == 1][\"TEAM\"]]\nfor champ in pc:\n    print(f\"Champion: {champ}\")",
   "execution_count": 27,
   "outputs": [
    {
     "name": "stdout",
     "text": "Champion: 2022 Memphis Grizzlies\n",
     "output_type": "stream"
    }
   ]
  },
  {
   "cell_type": "code",
   "metadata": {
    "tags": [],
    "deepnote_to_be_reexecuted": false,
    "source_hash": "158f4add",
    "execution_start": 1651705478023,
    "execution_millis": 7,
    "output_cleared": false,
    "deepnote_table_state": {
     "pageSize": 25,
     "pageIndex": 0,
     "filters": [],
     "sortBy": []
    },
    "deepnote_table_loading": false,
    "cell_id": "00050-f7b2eadf-f066-4a49-b76f-69efa537b8a7",
    "deepnote_cell_type": "code",
    "deepnote_cell_height": 881.859375
   },
   "source": "y_pred_22 = classifier.predict_proba(stats_22_transformed)\npredicted_champion = pd.DataFrame({\"TEAM\" : team_stats_22[\"TEAM\"], \"Not-Champion\": y_pred_22[:,0], \"Champion\": y_pred_22[:,1]})\npredicted_champion.round(decimals=2)",
   "execution_count": 33,
   "outputs": [
    {
     "output_type": "execute_result",
     "execution_count": 33,
     "data": {
      "application/vnd.deepnote.dataframe.v3+json": {
       "column_count": 3,
       "row_count": 16,
       "columns": [
        {
         "name": "TEAM",
         "dtype": "object",
         "stats": {
          "unique_count": 16,
          "nan_count": 0,
          "categories": [
           {
            "name": "2022 Phoenix Suns",
            "count": 1
           },
           {
            "name": "2022 Memphis Grizzlies",
            "count": 1
           },
           {
            "name": "14 others",
            "count": 14
           }
          ]
         }
        },
        {
         "name": "Not-Champion",
         "dtype": "float64",
         "stats": {
          "unique_count": 11,
          "nan_count": 0,
          "min": "0.44",
          "max": "0.99",
          "histogram": [
           {
            "bin_start": 0.44,
            "bin_end": 0.495,
            "count": 1
           },
           {
            "bin_start": 0.495,
            "bin_end": 0.55,
            "count": 0
           },
           {
            "bin_start": 0.55,
            "bin_end": 0.605,
            "count": 0
           },
           {
            "bin_start": 0.605,
            "bin_end": 0.66,
            "count": 0
           },
           {
            "bin_start": 0.66,
            "bin_end": 0.7150000000000001,
            "count": 0
           },
           {
            "bin_start": 0.7150000000000001,
            "bin_end": 0.77,
            "count": 0
           },
           {
            "bin_start": 0.77,
            "bin_end": 0.8250000000000001,
            "count": 1
           },
           {
            "bin_start": 0.8250000000000001,
            "bin_end": 0.8800000000000001,
            "count": 1
           },
           {
            "bin_start": 0.8800000000000001,
            "bin_end": 0.935,
            "count": 6
           },
           {
            "bin_start": 0.935,
            "bin_end": 0.99,
            "count": 7
           }
          ]
         }
        },
        {
         "name": "Champion",
         "dtype": "float64",
         "stats": {
          "unique_count": 11,
          "nan_count": 0,
          "min": "0.01",
          "max": "0.56",
          "histogram": [
           {
            "bin_start": 0.01,
            "bin_end": 0.065,
            "count": 7
           },
           {
            "bin_start": 0.065,
            "bin_end": 0.12000000000000001,
            "count": 6
           },
           {
            "bin_start": 0.12000000000000001,
            "bin_end": 0.17500000000000004,
            "count": 1
           },
           {
            "bin_start": 0.17500000000000004,
            "bin_end": 0.23000000000000004,
            "count": 1
           },
           {
            "bin_start": 0.23000000000000004,
            "bin_end": 0.28500000000000003,
            "count": 0
           },
           {
            "bin_start": 0.28500000000000003,
            "bin_end": 0.3400000000000001,
            "count": 0
           },
           {
            "bin_start": 0.3400000000000001,
            "bin_end": 0.3950000000000001,
            "count": 0
           },
           {
            "bin_start": 0.3950000000000001,
            "bin_end": 0.45000000000000007,
            "count": 0
           },
           {
            "bin_start": 0.45000000000000007,
            "bin_end": 0.505,
            "count": 0
           },
           {
            "bin_start": 0.505,
            "bin_end": 0.56,
            "count": 1
           }
          ]
         }
        },
        {
         "name": "_deepnote_index_column",
         "dtype": "int64"
        }
       ],
       "rows": [
        {
         "TEAM": "2022 Phoenix Suns",
         "Not-Champion": 0.82,
         "Champion": 0.18,
         "_deepnote_index_column": 0
        },
        {
         "TEAM": "2022 Memphis Grizzlies",
         "Not-Champion": 0.44,
         "Champion": 0.56,
         "_deepnote_index_column": 1
        },
        {
         "TEAM": "2022 Golden State Warriors",
         "Not-Champion": 0.9,
         "Champion": 0.1,
         "_deepnote_index_column": 2
        },
        {
         "TEAM": "2022 Miami Heat",
         "Not-Champion": 0.98,
         "Champion": 0.02,
         "_deepnote_index_column": 3
        },
        {
         "TEAM": "2022 Dallas Mavericks",
         "Not-Champion": 0.99,
         "Champion": 0.01,
         "_deepnote_index_column": 4
        },
        {
         "TEAM": "2022 Boston Celtics",
         "Not-Champion": 0.92,
         "Champion": 0.08,
         "_deepnote_index_column": 5
        },
        {
         "TEAM": "2022 Milwaukee Bucks",
         "Not-Champion": 0.92,
         "Champion": 0.08,
         "_deepnote_index_column": 6
        },
        {
         "TEAM": "2022 Philadelphia 76ers",
         "Not-Champion": 0.92,
         "Champion": 0.08,
         "_deepnote_index_column": 7
        },
        {
         "TEAM": "2022 Utah Jazz",
         "Not-Champion": 0.91,
         "Champion": 0.09,
         "_deepnote_index_column": 8
        },
        {
         "TEAM": "2022 Denver Nuggets",
         "Not-Champion": 0.97,
         "Champion": 0.03,
         "_deepnote_index_column": 9
        },
        {
         "TEAM": "2022 Toronto Raptors",
         "Not-Champion": 0.96,
         "Champion": 0.04,
         "_deepnote_index_column": 10
        },
        {
         "TEAM": "2022 Chicago Bulls",
         "Not-Champion": 0.97,
         "Champion": 0.03,
         "_deepnote_index_column": 11
        },
        {
         "TEAM": "2022 Minnesota Timberwolves",
         "Not-Champion": 0.84,
         "Champion": 0.16,
         "_deepnote_index_column": 12
        },
        {
         "TEAM": "2022 Brooklyn Nets",
         "Not-Champion": 0.94,
         "Champion": 0.06,
         "_deepnote_index_column": 13
        },
        {
         "TEAM": "2022 Atlanta Hawks",
         "Not-Champion": 0.9,
         "Champion": 0.1,
         "_deepnote_index_column": 14
        },
        {
         "TEAM": "2022 New Orleans Pelicans",
         "Not-Champion": 0.99,
         "Champion": 0.01,
         "_deepnote_index_column": 15
        }
       ]
      },
      "text/plain": "                           TEAM  Not-Champion  Champion\n0             2022 Phoenix Suns          0.82      0.18\n1        2022 Memphis Grizzlies          0.44      0.56\n2    2022 Golden State Warriors          0.90      0.10\n3               2022 Miami Heat          0.98      0.02\n4         2022 Dallas Mavericks          0.99      0.01\n5           2022 Boston Celtics          0.92      0.08\n6          2022 Milwaukee Bucks          0.92      0.08\n7       2022 Philadelphia 76ers          0.92      0.08\n8                2022 Utah Jazz          0.91      0.09\n9           2022 Denver Nuggets          0.97      0.03\n10         2022 Toronto Raptors          0.96      0.04\n11           2022 Chicago Bulls          0.97      0.03\n12  2022 Minnesota Timberwolves          0.84      0.16\n13           2022 Brooklyn Nets          0.94      0.06\n14           2022 Atlanta Hawks          0.90      0.10\n15    2022 New Orleans Pelicans          0.99      0.01",
      "text/html": "<div>\n<style scoped>\n    .dataframe tbody tr th:only-of-type {\n        vertical-align: middle;\n    }\n\n    .dataframe tbody tr th {\n        vertical-align: top;\n    }\n\n    .dataframe thead th {\n        text-align: right;\n    }\n</style>\n<table border=\"1\" class=\"dataframe\">\n  <thead>\n    <tr style=\"text-align: right;\">\n      <th></th>\n      <th>TEAM</th>\n      <th>Not-Champion</th>\n      <th>Champion</th>\n    </tr>\n  </thead>\n  <tbody>\n    <tr>\n      <th>0</th>\n      <td>2022 Phoenix Suns</td>\n      <td>0.82</td>\n      <td>0.18</td>\n    </tr>\n    <tr>\n      <th>1</th>\n      <td>2022 Memphis Grizzlies</td>\n      <td>0.44</td>\n      <td>0.56</td>\n    </tr>\n    <tr>\n      <th>2</th>\n      <td>2022 Golden State Warriors</td>\n      <td>0.90</td>\n      <td>0.10</td>\n    </tr>\n    <tr>\n      <th>3</th>\n      <td>2022 Miami Heat</td>\n      <td>0.98</td>\n      <td>0.02</td>\n    </tr>\n    <tr>\n      <th>4</th>\n      <td>2022 Dallas Mavericks</td>\n      <td>0.99</td>\n      <td>0.01</td>\n    </tr>\n    <tr>\n      <th>5</th>\n      <td>2022 Boston Celtics</td>\n      <td>0.92</td>\n      <td>0.08</td>\n    </tr>\n    <tr>\n      <th>6</th>\n      <td>2022 Milwaukee Bucks</td>\n      <td>0.92</td>\n      <td>0.08</td>\n    </tr>\n    <tr>\n      <th>7</th>\n      <td>2022 Philadelphia 76ers</td>\n      <td>0.92</td>\n      <td>0.08</td>\n    </tr>\n    <tr>\n      <th>8</th>\n      <td>2022 Utah Jazz</td>\n      <td>0.91</td>\n      <td>0.09</td>\n    </tr>\n    <tr>\n      <th>9</th>\n      <td>2022 Denver Nuggets</td>\n      <td>0.97</td>\n      <td>0.03</td>\n    </tr>\n    <tr>\n      <th>10</th>\n      <td>2022 Toronto Raptors</td>\n      <td>0.96</td>\n      <td>0.04</td>\n    </tr>\n    <tr>\n      <th>11</th>\n      <td>2022 Chicago Bulls</td>\n      <td>0.97</td>\n      <td>0.03</td>\n    </tr>\n    <tr>\n      <th>12</th>\n      <td>2022 Minnesota Timberwolves</td>\n      <td>0.84</td>\n      <td>0.16</td>\n    </tr>\n    <tr>\n      <th>13</th>\n      <td>2022 Brooklyn Nets</td>\n      <td>0.94</td>\n      <td>0.06</td>\n    </tr>\n    <tr>\n      <th>14</th>\n      <td>2022 Atlanta Hawks</td>\n      <td>0.90</td>\n      <td>0.10</td>\n    </tr>\n    <tr>\n      <th>15</th>\n      <td>2022 New Orleans Pelicans</td>\n      <td>0.99</td>\n      <td>0.01</td>\n    </tr>\n  </tbody>\n</table>\n</div>"
     },
     "metadata": {}
    }
   ]
  },
  {
   "cell_type": "code",
   "metadata": {
    "tags": [],
    "deepnote_to_be_reexecuted": false,
    "source_hash": "6cf518e8",
    "execution_start": 1651704447091,
    "execution_millis": 3,
    "output_cleared": true,
    "cell_id": "00051-8f13f411-ac51-4a70-9c6c-4535797cea6f",
    "deepnote_cell_type": "code",
    "deepnote_cell_height": 80.9375
   },
   "source": "f_importance = classifier.coef_[0]",
   "execution_count": 29,
   "outputs": []
  },
  {
   "cell_type": "code",
   "metadata": {
    "tags": [],
    "deepnote_to_be_reexecuted": false,
    "source_hash": "711910e1",
    "execution_start": 1651704447097,
    "execution_millis": 3,
    "output_cleared": true,
    "cell_id": "00052-b0d41bbb-8186-4015-9d2f-912ea317386c",
    "deepnote_cell_type": "code",
    "deepnote_cell_height": 80.9375
   },
   "source": "feature_importance = 100*(f_importance/f_importance.max())",
   "execution_count": 30,
   "outputs": []
  },
  {
   "cell_type": "code",
   "metadata": {
    "tags": [],
    "deepnote_to_be_reexecuted": false,
    "source_hash": "e27ee77",
    "execution_start": 1651706229003,
    "execution_millis": 6,
    "cell_id": "00053-37081602-297a-4713-abac-a7ad5fb04b58",
    "deepnote_cell_type": "code",
    "deepnote_cell_height": 80.9375,
    "deepnote_output_heights": [
     40.375
    ]
   },
   "source": "f = zip(stats.columns, feature_importance)\ndict(f)",
   "execution_count": 41,
   "outputs": [
    {
     "output_type": "execute_result",
     "execution_count": 41,
     "data": {
      "text/plain": "{'3P%': 15.504004759380324,\n 'DREB': 23.403382922998333,\n 'STL': 39.2035333691118,\n 'BLK': 45.91080524152934,\n 'OFFRTG': 50.121450121292035,\n 'DEFRTG': 86.02294417667588,\n 'AST/TO': 100.0}"
     },
     "metadata": {}
    }
   ]
  },
  {
   "cell_type": "code",
   "metadata": {
    "tags": [],
    "deepnote_to_be_reexecuted": false,
    "source_hash": "8fdb24ef",
    "execution_start": 1651706085107,
    "execution_millis": 273,
    "output_cleared": false,
    "owner_user_id": "7a269c9e-bc82-457d-acfa-01c784ecc0b4",
    "cell_id": "00054-ed9d3935-735e-43fe-a72b-1cc542774a44",
    "deepnote_cell_type": "code",
    "deepnote_cell_height": 434.875,
    "deepnote_output_heights": [
     265.96875,
     249.96875
    ]
   },
   "source": "\nplt.barh(stats.columns,np.sort(feature_importance))\nplt.title(\"Relative Feature Importance\")\nplt.ylabel(\"Relative Importance\")\nplt.show()",
   "execution_count": 39,
   "outputs": [
    {
     "data": {
      "text/plain": "<Figure size 432x288 with 1 Axes>",
      "image/png": "[encoded data removed]"
     },
     "metadata": {
      "needs_background": "light",
      "image/png": {
       "width": 409,
       "height": 264
      }
     },
     "output_type": "display_data"
    }
   ]
  },
  {
   "cell_type": "code",
   "metadata": {
    "tags": [],
    "deepnote_to_be_reexecuted": false,
    "source_hash": "60ac0670",
    "execution_start": 1651704447314,
    "execution_millis": 151,
    "output_cleared": false,
    "deepnote_table_state": {
     "pageSize": 25,
     "pageIndex": 0,
     "filters": [],
     "sortBy": []
    },
    "deepnote_table_loading": false,
    "cell_id": "00055-d19b8501-62a6-4d03-ab7f-f60b72eefffb",
    "deepnote_cell_type": "code",
    "deepnote_cell_height": 530.890625
   },
   "source": "# plt.figure(figsize=(20,8))\npd.DataFrame(feature_importance, index=stats.columns, columns=[\"Relative Importance\"]).sort_values(by=\"Relative Importance\", ascending=False).round(3).head(20)#[:10].plot(kind='barh')\n# plt.tight_layout()\n# plt.show()",
   "execution_count": 32,
   "outputs": [
    {
     "output_type": "execute_result",
     "execution_count": 32,
     "data": {
      "application/vnd.deepnote.dataframe.v3+json": {
       "column_count": 1,
       "row_count": 7,
       "columns": [
        {
         "name": "Relative Importance",
         "dtype": "float64",
         "stats": {
          "unique_count": 7,
          "nan_count": 0,
          "min": "15.504",
          "max": "100.0",
          "histogram": [
           {
            "bin_start": 15.504,
            "bin_end": 23.9536,
            "count": 2
           },
           {
            "bin_start": 23.9536,
            "bin_end": 32.4032,
            "count": 0
           },
           {
            "bin_start": 32.4032,
            "bin_end": 40.8528,
            "count": 1
           },
           {
            "bin_start": 40.8528,
            "bin_end": 49.3024,
            "count": 1
           },
           {
            "bin_start": 49.3024,
            "bin_end": 57.752,
            "count": 1
           },
           {
            "bin_start": 57.752,
            "bin_end": 66.2016,
            "count": 0
           },
           {
            "bin_start": 66.2016,
            "bin_end": 74.6512,
            "count": 0
           },
           {
            "bin_start": 74.6512,
            "bin_end": 83.1008,
            "count": 0
           },
           {
            "bin_start": 83.1008,
            "bin_end": 91.55040000000001,
            "count": 1
           },
           {
            "bin_start": 91.55040000000001,
            "bin_end": 100,
            "count": 1
           }
          ]
         }
        },
        {
         "name": "_deepnote_index_column",
         "dtype": "object"
        }
       ],
       "rows": [
        {
         "Relative Importance": 100,
         "_deepnote_index_column": "STL"
        },
        {
         "Relative Importance": 86.023,
         "_deepnote_index_column": "BLK"
        },
        {
         "Relative Importance": 50.121,
         "_deepnote_index_column": "OFFRTG"
        },
        {
         "Relative Importance": 45.911,
         "_deepnote_index_column": "3P%"
        },
        {
         "Relative Importance": 39.204,
         "_deepnote_index_column": "DREB"
        },
        {
         "Relative Importance": 23.403,
         "_deepnote_index_column": "AST/TO"
        },
        {
         "Relative Importance": 15.504,
         "_deepnote_index_column": "DEFRTG"
        }
       ]
      },
      "text/plain": "        Relative Importance\nSTL                 100.000\nBLK                  86.023\nOFFRTG               50.121\n3P%                  45.911\nDREB                 39.204\nAST/TO               23.403\nDEFRTG               15.504",
      "text/html": "<div>\n<style scoped>\n    .dataframe tbody tr th:only-of-type {\n        vertical-align: middle;\n    }\n\n    .dataframe tbody tr th {\n        vertical-align: top;\n    }\n\n    .dataframe thead th {\n        text-align: right;\n    }\n</style>\n<table border=\"1\" class=\"dataframe\">\n  <thead>\n    <tr style=\"text-align: right;\">\n      <th></th>\n      <th>Relative Importance</th>\n    </tr>\n  </thead>\n  <tbody>\n    <tr>\n      <th>STL</th>\n      <td>100.000</td>\n    </tr>\n    <tr>\n      <th>BLK</th>\n      <td>86.023</td>\n    </tr>\n    <tr>\n      <th>OFFRTG</th>\n      <td>50.121</td>\n    </tr>\n    <tr>\n      <th>3P%</th>\n      <td>45.911</td>\n    </tr>\n    <tr>\n      <th>DREB</th>\n      <td>39.204</td>\n    </tr>\n    <tr>\n      <th>AST/TO</th>\n      <td>23.403</td>\n    </tr>\n    <tr>\n      <th>DEFRTG</th>\n      <td>15.504</td>\n    </tr>\n  </tbody>\n</table>\n</div>"
     },
     "metadata": {}
    }
   ]
  },
  {
   "cell_type": "code",
   "metadata": {
    "tags": [],
    "deepnote_to_be_reexecuted": false,
    "source_hash": "b623e53d",
    "execution_start": 1651704447319,
    "execution_millis": 6,
    "cell_id": "00056-b7ae45f7-66e7-4313-b584-d324f77779cc",
    "deepnote_cell_type": "code",
    "deepnote_cell_height": 80.9375
   },
   "source": "",
   "execution_count": 32,
   "outputs": []
  },
  {
   "cell_type": "markdown",
   "source": "<a style='text-decoration:none;line-height:16px;display:flex;color:#5B5B62;padding:10px;justify-content:end;' href='https://deepnote.com?utm_source=created-in-deepnote-cell&projectId=8ec055ed-5f7e-442c-8e37-dd2a6068a4e8' target=\"_blank\">\n<img alt='Created in deepnote.com' style='display:inline;max-height:16px;margin:0px;margin-right:7.5px;' src='data:image/svg+xml;base64,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' > </img>\nCreated in <span style='font-weight:600;margin-left:4px;'>Deepnote</span></a>",
   "metadata": {
    "tags": [],
    "created_in_deepnote_cell": true,
    "deepnote_cell_type": "markdown"
   }
  }
 ],
 "nbformat": 4,
 "nbformat_minor": 4,
 "metadata": {
  "colab": {
   "collapsed_sections": [],
   "name": "Untitled2.ipynb",
   "provenance": []
  },
  "kernelspec": {
   "display_name": "Python 3 (ipykernel)",
   "language": "python",
   "name": "python3"
  },
  "language_info": {
   "codemirror_mode": {
    "name": "ipython",
    "version": 3
   },
   "file_extension": ".py",
   "mimetype": "text/x-python",
   "name": "python",
   "nbconvert_exporter": "python",
   "pygments_lexer": "ipython3",
   "version": "3.7.11"
  },
  "deepnote_notebook_id": "f8c9c4aa-7271-4570-a418-894cbacc59fc",
  "deepnote": {},
  "deepnote_execution_queue": []
 }
}