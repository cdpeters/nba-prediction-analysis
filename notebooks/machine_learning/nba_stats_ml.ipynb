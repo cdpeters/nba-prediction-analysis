{
 "cells": [
  {
   "cell_type": "markdown",
   "metadata": {
    "cell_id": "0fcfb227-1dad-43ea-972b-3ec91601e9c6",
    "deepnote_cell_height": 69.9375,
    "deepnote_cell_type": "markdown"
   },
   "source": [
    "# 2022 NBA Champion Prediction"
   ]
  },
  {
   "cell_type": "code",
   "execution_count": 1,
   "metadata": {
    "cell_id": "00001-6ff23194-d712-4b39-aa68-0be855ddf48e",
    "colab": {
     "base_uri": "https://localhost:8080/"
    },
    "deepnote_cell_height": 278.9375,
    "deepnote_cell_type": "code",
    "deepnote_to_be_reexecuted": false,
    "execution_millis": 1743,
    "execution_start": 1651704442131,
    "id": "KX3p5U1xxA9d",
    "outputId": "50f0e33a-d377-4306-e433-344a012291f1",
    "output_cleared": false,
    "source_hash": "7692ade0",
    "tags": []
   },
   "outputs": [],
   "source": [
    "import os\n",
    "import time\n",
    "from decimal import ROUND_HALF_UP, Decimal\n",
    "from pathlib import Path\n",
    "\n",
    "import numpy as np\n",
    "import pandas as pd\n",
    "import seaborn as sns\n",
    "from dotenv import load_dotenv\n",
    "from matplotlib import pyplot as plt\n",
    "from matplotlib.ticker import StrMethodFormatter\n",
    "from numpy import ndarray\n",
    "from pandas import Series\n",
    "from sklearn.decomposition import PCA\n",
    "from sklearn.linear_model import LogisticRegression\n",
    "from sklearn.metrics import accuracy_score, confusion_matrix\n",
    "from sklearn.model_selection import train_test_split\n",
    "from sklearn.preprocessing import LabelEncoder, StandardScaler\n",
    "from sqlalchemy import MetaData, and_, create_engine, select\n",
    "from sqlalchemy.orm import DeclarativeBase, Session, aliased"
   ]
  },
  {
   "cell_type": "markdown",
   "metadata": {},
   "source": [
    "### Plot Style"
   ]
  },
  {
   "cell_type": "code",
   "execution_count": 2,
   "metadata": {},
   "outputs": [],
   "source": [
    "sns.set_style(\"darkgrid\")"
   ]
  },
  {
   "cell_type": "markdown",
   "metadata": {},
   "source": [
    "### Notebook Constants"
   ]
  },
  {
   "cell_type": "code",
   "execution_count": 3,
   "metadata": {},
   "outputs": [],
   "source": [
    "# Directories.\n",
    "PROJECT_DIR = Path.cwd().parents[1]\n",
    "IMAGES_DIR = PROJECT_DIR / \"src\" / \"static\" / \"images\" / \"machine_learning\"\n",
    "DATA_DIR = PROJECT_DIR / \"src\" / \"data\"\n",
    "\n",
    "# Season to predict the champion for.\n",
    "SEASON_CURRENT = 2022\n",
    "\n",
    "# Seasons for the machine learning (ml) model.\n",
    "SEASON_ML_START = 2016\n",
    "SEASON_ML_END = SEASON_CURRENT - 1\n",
    "\n",
    "# Colormap.\n",
    "CMAP = sns.diverging_palette(150, 150, s=80, l=55, as_cmap=True)\n",
    "\n",
    "# Image resolution.\n",
    "IMAGE_DPI = 240.0"
   ]
  },
  {
   "cell_type": "markdown",
   "metadata": {},
   "source": [
    "### Helper Function: Conventinal Rounding"
   ]
  },
  {
   "cell_type": "code",
   "execution_count": 4,
   "metadata": {},
   "outputs": [],
   "source": [
    "def round_half_up(n, decimals=0):\n",
    "    \"\"\"Round `n` using a conventional round half up approach.\"\"\"\n",
    "    multiplier = Decimal(\"10\") ** (-decimals)\n",
    "    # `n` is converted to a string to ensure accurate representation of floats.\n",
    "    result = Decimal(str(n)).quantize(multiplier, rounding=ROUND_HALF_UP)\n",
    "    return float(result)"
   ]
  },
  {
   "cell_type": "markdown",
   "metadata": {
    "cell_id": "00002-23c584f9-7fb4-4883-96ff-4aa8fe902950",
    "deepnote_cell_height": 101.9375,
    "deepnote_cell_type": "markdown"
   },
   "source": [
    "## Retrieve Stats\n",
    "### Setup Database Connection and ORM Mapped Classes\n",
    "#### Construct Database URI"
   ]
  },
  {
   "cell_type": "code",
   "execution_count": 5,
   "metadata": {},
   "outputs": [],
   "source": [
    "# Load database credentials as environment variables from .env file.\n",
    "load_dotenv(dotenv_path=PROJECT_DIR / \"src\" / \".env\")\n",
    "\n",
    "# Host, port, and database values.\n",
    "db = os.environ.get(\"PGDATABASE\")\n",
    "host = os.environ.get(\"PGHOST\")\n",
    "port = os.environ.get(\"PGPORT\")\n",
    "\n",
    "# User credentials.\n",
    "user = os.environ.get(\"PGUSER\")\n",
    "pwd = os.environ.get(\"PGPASSWORD\")\n",
    "\n",
    "# Build database URI.\n",
    "db_uri = f\"postgresql://{user}:{pwd}@{host}:{port}/{db}\""
   ]
  },
  {
   "cell_type": "markdown",
   "metadata": {
    "cell_id": "00006-571a98ce-0cba-404a-94ad-031d6419409d",
    "deepnote_cell_height": 53.953125,
    "deepnote_cell_type": "markdown"
   },
   "source": [
    "#### Create SQLAlchemy Engine and the Database Metadata Object\n",
    "- The metadata object contains the properties for each database table such as column names and data types, primary and foreign keys, constraints, etc."
   ]
  },
  {
   "cell_type": "code",
   "execution_count": 6,
   "metadata": {
    "cell_id": "00007-135295c7-064c-49eb-872d-c47220c13249",
    "deepnote_cell_height": 398.859375,
    "deepnote_cell_type": "code",
    "deepnote_output_heights": [
     193.953125
    ],
    "deepnote_to_be_reexecuted": false,
    "execution_millis": 250,
    "execution_start": 1651704443892,
    "output_cleared": false,
    "source_hash": "85066bca"
   },
   "outputs": [],
   "source": [
    "# `engine` allows for communication with the database.\n",
    "engine = create_engine(db_uri)\n",
    "# The metadata object holds database table information.\n",
    "metadata_obj = MetaData()\n",
    "# Collect table information via database reflection.\n",
    "metadata_obj.reflect(bind=engine)"
   ]
  },
  {
   "cell_type": "markdown",
   "metadata": {},
   "source": [
    "#### ORM Mapped Classes\n",
    "- A subclass of the SQLAlchemy `DeclarativeBase` class is required. This subclass, called `Base`, is then subclassed by each mapped class that will represent a table in the database.\n",
    "- The mapped classes are \"mapped\" via the table metadata information (`metadata_obj`). See SQLAlchemy documentation for more info."
   ]
  },
  {
   "cell_type": "code",
   "execution_count": 7,
   "metadata": {
    "cell_id": "00007-135295c7-064c-49eb-872d-c47220c13249",
    "deepnote_cell_height": 398.859375,
    "deepnote_cell_type": "code",
    "deepnote_output_heights": [
     193.953125
    ],
    "deepnote_to_be_reexecuted": false,
    "execution_millis": 250,
    "execution_start": 1651704443892,
    "output_cleared": false,
    "source_hash": "85066bca"
   },
   "outputs": [],
   "source": [
    "class Base(DeclarativeBase):\n",
    "    pass\n",
    "\n",
    "\n",
    "class Teams(Base):\n",
    "    __table__ = metadata_obj.tables[\"teams\"]\n",
    "\n",
    "\n",
    "class Seasons(Base):\n",
    "    __table__ = metadata_obj.tables[\"seasons\"]\n",
    "\n",
    "\n",
    "class SeasonRecords(Base):\n",
    "    __table__ = metadata_obj.tables[\"season_records\"]\n",
    "\n",
    "\n",
    "class PlayoffRecords(Base):\n",
    "    __table__ = metadata_obj.tables[\"playoff_records\"]\n",
    "\n",
    "\n",
    "class TeamsTraditional(Base):\n",
    "    __table__ = metadata_obj.tables[\"teams_traditional\"]\n",
    "\n",
    "\n",
    "class TeamsAdvanced(Base):\n",
    "    __table__ = metadata_obj.tables[\"teams_advanced\"]\n",
    "\n",
    "\n",
    "class TeamsMisc(Base):\n",
    "    __table__ = metadata_obj.tables[\"teams_misc\"]\n",
    "\n",
    "\n",
    "class TeamsClutch(Base):\n",
    "    __table__ = metadata_obj.tables[\"teams_clutch\"]\n",
    "\n",
    "\n",
    "class PlayoffsTraditional(Base):\n",
    "    __table__ = metadata_obj.tables[\"playoffs_traditional\"]\n",
    "\n",
    "\n",
    "class PlayoffsAdvanced(Base):\n",
    "    __table__ = metadata_obj.tables[\"playoffs_advanced\"]\n",
    "\n",
    "\n",
    "class PlayoffsMisc(Base):\n",
    "    __table__ = metadata_obj.tables[\"playoffs_misc\"]\n",
    "\n",
    "\n",
    "class PlayoffsClutch(Base):\n",
    "    __table__ = metadata_obj.tables[\"playoffs_clutch\"]\n",
    "\n",
    "\n",
    "class PlayoffTeamsLong(Base):\n",
    "    __table__ = metadata_obj.tables[\"playoff_teams_long\"]\n",
    "\n",
    "\n",
    "class Champions(Base):\n",
    "    __table__ = metadata_obj.tables[\"champions\"]"
   ]
  },
  {
   "cell_type": "markdown",
   "metadata": {},
   "source": [
    "### Retrieve and Verify\n",
    "#### Build Query and Retrieve Tables Using `sqlalchemy`\n",
    "- The query is a join of the traditional, advanced, and misc tables with season record information (the `PLAYOFFS` and `CHAMPION` columns are used). Seasons not representative of the modern era are filtered out. Non-playoff teams are also filtered out."
   ]
  },
  {
   "cell_type": "code",
   "execution_count": 8,
   "metadata": {},
   "outputs": [
    {
     "name": "stdout",
     "output_type": "stream",
     "text": [
      "\n",
      "database query execution time: 0.51s\n"
     ]
    }
   ],
   "source": [
    "with Session(engine) as session:\n",
    "    # Create aliases for each table to simplify the query below.\n",
    "    tt = aliased(TeamsTraditional)\n",
    "    ta = aliased(TeamsAdvanced)\n",
    "    tm = aliased(TeamsMisc)\n",
    "    sr = aliased(SeasonRecords)\n",
    "\n",
    "    # Build a SQL query statement using SQLAlchemy methods (the query is not executed at\n",
    "    # this point). In the `join` method, the `target` parameter refers to the right\n",
    "    # table in the join. The left table in the join is inferred using the first table in\n",
    "    # the `select` method.\n",
    "    query = (\n",
    "        select(tt, ta, tm, sr.CHAMPION)\n",
    "        .join(target=ta, onclause=and_(tt.SEASON == ta.SEASON, tt.TEAM == ta.TEAM))\n",
    "        .join(target=tm, onclause=and_(tt.SEASON == tm.SEASON, tt.TEAM == tm.TEAM))\n",
    "        .join(target=sr, onclause=and_(tt.SEASON == sr.SEASON, tt.TEAM == sr.TEAM))\n",
    "        .where(tt.SEASON.between(SEASON_ML_START, SEASON_CURRENT), sr.PLAYOFFS == True)\n",
    "    )\n",
    "\n",
    "    # Use `read_sql` to execute the query on the database and return a DataFrame.\n",
    "    start_time = time.perf_counter()\n",
    "    stats = pd.read_sql(sql=query, con=engine)\n",
    "    print(f\"\\ndatabase query execution time: {time.perf_counter() - start_time:.2f}s\")\n",
    "\n",
    "    # Drop redundant columns.\n",
    "    stats = stats.drop(columns=[\"SEASON_1\", \"TEAM_1\", \"SEASON_2\", \"TEAM_2\"])\n",
    "\n",
    "    # Split the `stats` table into two tables, one containing the current season and one\n",
    "    # containing the ml model seasons.\n",
    "    current_stats = stats[stats[\"SEASON\"] == SEASON_CURRENT]\n",
    "    model_stats = stats[stats[\"SEASON\"].between(SEASON_ML_START, SEASON_ML_END)]\n",
    "\n",
    "    # The current season does not have a champion so the column is dropped.\n",
    "    current_stats = current_stats.drop(columns=\"CHAMPION\")\n",
    "\n",
    "    current_stats = current_stats.reset_index(drop=True)\n",
    "    model_stats = model_stats.reset_index(drop=True)"
   ]
  },
  {
   "cell_type": "markdown",
   "metadata": {},
   "source": [
    "#### Check Results"
   ]
  },
  {
   "cell_type": "code",
   "execution_count": 9,
   "metadata": {},
   "outputs": [
    {
     "data": {
      "text/plain": [
       "Index(['SEASON', 'TEAM', 'WIN%', 'PTS', 'FGM', 'FGA', 'FG%', '3PM', '3PA',\n",
       "       '3P%', 'FTM', 'FTA', 'FT%', 'OREB', 'DREB', 'REB', 'AST', 'TOV', 'STL',\n",
       "       'BLK', 'BLKA', 'PF', 'PFD', '+/-', 'OFFRTG', 'DEFRTG', 'NETRTG', 'AST%',\n",
       "       'AST/TO', 'AST_RATIO', 'OREB%', 'DREB%', 'REB%', 'TOV%', 'EFG%', 'TS%',\n",
       "       'PACE', 'PIE', 'POSS', 'PTS_OFF_TO', '2ND_PTS', 'FBPS', 'PITP',\n",
       "       'OPP_PTS_OFF_TO', 'OPP_2ND_PTS', 'OPP_FBPS', 'OPP_PITP'],\n",
       "      dtype='object')"
      ]
     },
     "execution_count": 9,
     "metadata": {},
     "output_type": "execute_result"
    }
   ],
   "source": [
    "current_stats.columns"
   ]
  },
  {
   "cell_type": "code",
   "execution_count": 10,
   "metadata": {},
   "outputs": [
    {
     "data": {
      "text/plain": [
       "SEASON\n",
       "2022    16\n",
       "Name: count, dtype: int64"
      ]
     },
     "execution_count": 10,
     "metadata": {},
     "output_type": "execute_result"
    }
   ],
   "source": [
    "current_stats[\"SEASON\"].value_counts()"
   ]
  },
  {
   "cell_type": "code",
   "execution_count": 11,
   "metadata": {},
   "outputs": [
    {
     "data": {
      "text/html": [
       "<div>\n",
       "<style scoped>\n",
       "    .dataframe tbody tr th:only-of-type {\n",
       "        vertical-align: middle;\n",
       "    }\n",
       "\n",
       "    .dataframe tbody tr th {\n",
       "        vertical-align: top;\n",
       "    }\n",
       "\n",
       "    .dataframe thead th {\n",
       "        text-align: right;\n",
       "    }\n",
       "</style>\n",
       "<table border=\"1\" class=\"dataframe\">\n",
       "  <thead>\n",
       "    <tr style=\"text-align: right;\">\n",
       "      <th></th>\n",
       "      <th>SEASON</th>\n",
       "      <th>TEAM</th>\n",
       "      <th>WIN%</th>\n",
       "      <th>PTS</th>\n",
       "      <th>FGM</th>\n",
       "      <th>FGA</th>\n",
       "      <th>FG%</th>\n",
       "      <th>3PM</th>\n",
       "      <th>3PA</th>\n",
       "      <th>3P%</th>\n",
       "      <th>...</th>\n",
       "      <th>PIE</th>\n",
       "      <th>POSS</th>\n",
       "      <th>PTS_OFF_TO</th>\n",
       "      <th>2ND_PTS</th>\n",
       "      <th>FBPS</th>\n",
       "      <th>PITP</th>\n",
       "      <th>OPP_PTS_OFF_TO</th>\n",
       "      <th>OPP_2ND_PTS</th>\n",
       "      <th>OPP_FBPS</th>\n",
       "      <th>OPP_PITP</th>\n",
       "    </tr>\n",
       "  </thead>\n",
       "  <tbody>\n",
       "    <tr>\n",
       "      <th>0</th>\n",
       "      <td>2022</td>\n",
       "      <td>Phoenix Suns</td>\n",
       "      <td>0.780</td>\n",
       "      <td>114.8</td>\n",
       "      <td>43.7</td>\n",
       "      <td>90.1</td>\n",
       "      <td>48.5</td>\n",
       "      <td>11.6</td>\n",
       "      <td>31.9</td>\n",
       "      <td>36.4</td>\n",
       "      <td>...</td>\n",
       "      <td>54.8</td>\n",
       "      <td>8242</td>\n",
       "      <td>18.1</td>\n",
       "      <td>12.1</td>\n",
       "      <td>12.5</td>\n",
       "      <td>49.8</td>\n",
       "      <td>14.8</td>\n",
       "      <td>13.6</td>\n",
       "      <td>11.3</td>\n",
       "      <td>45.2</td>\n",
       "    </tr>\n",
       "    <tr>\n",
       "      <th>1</th>\n",
       "      <td>2022</td>\n",
       "      <td>Memphis Grizzlies</td>\n",
       "      <td>0.683</td>\n",
       "      <td>115.6</td>\n",
       "      <td>43.5</td>\n",
       "      <td>94.4</td>\n",
       "      <td>46.1</td>\n",
       "      <td>11.5</td>\n",
       "      <td>32.7</td>\n",
       "      <td>35.3</td>\n",
       "      <td>...</td>\n",
       "      <td>53.0</td>\n",
       "      <td>8295</td>\n",
       "      <td>18.3</td>\n",
       "      <td>18.7</td>\n",
       "      <td>17.7</td>\n",
       "      <td>57.6</td>\n",
       "      <td>14.5</td>\n",
       "      <td>13.0</td>\n",
       "      <td>13.2</td>\n",
       "      <td>47.4</td>\n",
       "    </tr>\n",
       "    <tr>\n",
       "      <th>2</th>\n",
       "      <td>2022</td>\n",
       "      <td>Golden State Warriors</td>\n",
       "      <td>0.646</td>\n",
       "      <td>111.0</td>\n",
       "      <td>40.5</td>\n",
       "      <td>86.4</td>\n",
       "      <td>46.9</td>\n",
       "      <td>14.3</td>\n",
       "      <td>39.4</td>\n",
       "      <td>36.4</td>\n",
       "      <td>...</td>\n",
       "      <td>53.6</td>\n",
       "      <td>8121</td>\n",
       "      <td>17.6</td>\n",
       "      <td>12.6</td>\n",
       "      <td>13.8</td>\n",
       "      <td>44.7</td>\n",
       "      <td>16.9</td>\n",
       "      <td>12.7</td>\n",
       "      <td>12.3</td>\n",
       "      <td>43.9</td>\n",
       "    </tr>\n",
       "    <tr>\n",
       "      <th>3</th>\n",
       "      <td>2022</td>\n",
       "      <td>Miami Heat</td>\n",
       "      <td>0.646</td>\n",
       "      <td>110.0</td>\n",
       "      <td>39.6</td>\n",
       "      <td>84.8</td>\n",
       "      <td>46.7</td>\n",
       "      <td>13.6</td>\n",
       "      <td>35.8</td>\n",
       "      <td>37.9</td>\n",
       "      <td>...</td>\n",
       "      <td>52.9</td>\n",
       "      <td>7987</td>\n",
       "      <td>17.2</td>\n",
       "      <td>12.7</td>\n",
       "      <td>10.9</td>\n",
       "      <td>43.0</td>\n",
       "      <td>16.7</td>\n",
       "      <td>12.6</td>\n",
       "      <td>12.2</td>\n",
       "      <td>41.3</td>\n",
       "    </tr>\n",
       "    <tr>\n",
       "      <th>4</th>\n",
       "      <td>2022</td>\n",
       "      <td>Dallas Mavericks</td>\n",
       "      <td>0.634</td>\n",
       "      <td>108.0</td>\n",
       "      <td>39.3</td>\n",
       "      <td>85.1</td>\n",
       "      <td>46.1</td>\n",
       "      <td>13.1</td>\n",
       "      <td>37.4</td>\n",
       "      <td>35.0</td>\n",
       "      <td>...</td>\n",
       "      <td>51.1</td>\n",
       "      <td>7871</td>\n",
       "      <td>14.9</td>\n",
       "      <td>11.0</td>\n",
       "      <td>10.0</td>\n",
       "      <td>42.9</td>\n",
       "      <td>14.4</td>\n",
       "      <td>13.1</td>\n",
       "      <td>12.0</td>\n",
       "      <td>47.1</td>\n",
       "    </tr>\n",
       "  </tbody>\n",
       "</table>\n",
       "<p>5 rows × 47 columns</p>\n",
       "</div>"
      ],
      "text/plain": [
       "   SEASON                   TEAM   WIN%    PTS   FGM   FGA   FG%   3PM   3PA  \\\n",
       "0    2022           Phoenix Suns  0.780  114.8  43.7  90.1  48.5  11.6  31.9   \n",
       "1    2022      Memphis Grizzlies  0.683  115.6  43.5  94.4  46.1  11.5  32.7   \n",
       "2    2022  Golden State Warriors  0.646  111.0  40.5  86.4  46.9  14.3  39.4   \n",
       "3    2022             Miami Heat  0.646  110.0  39.6  84.8  46.7  13.6  35.8   \n",
       "4    2022       Dallas Mavericks  0.634  108.0  39.3  85.1  46.1  13.1  37.4   \n",
       "\n",
       "    3P%  ...   PIE  POSS  PTS_OFF_TO  2ND_PTS  FBPS  PITP  OPP_PTS_OFF_TO  \\\n",
       "0  36.4  ...  54.8  8242        18.1     12.1  12.5  49.8            14.8   \n",
       "1  35.3  ...  53.0  8295        18.3     18.7  17.7  57.6            14.5   \n",
       "2  36.4  ...  53.6  8121        17.6     12.6  13.8  44.7            16.9   \n",
       "3  37.9  ...  52.9  7987        17.2     12.7  10.9  43.0            16.7   \n",
       "4  35.0  ...  51.1  7871        14.9     11.0  10.0  42.9            14.4   \n",
       "\n",
       "   OPP_2ND_PTS  OPP_FBPS  OPP_PITP  \n",
       "0         13.6      11.3      45.2  \n",
       "1         13.0      13.2      47.4  \n",
       "2         12.7      12.3      43.9  \n",
       "3         12.6      12.2      41.3  \n",
       "4         13.1      12.0      47.1  \n",
       "\n",
       "[5 rows x 47 columns]"
      ]
     },
     "execution_count": 11,
     "metadata": {},
     "output_type": "execute_result"
    }
   ],
   "source": [
    "current_stats.head()"
   ]
  },
  {
   "cell_type": "code",
   "execution_count": 12,
   "metadata": {},
   "outputs": [
    {
     "data": {
      "text/plain": [
       "SEASON\n",
       "2021    16\n",
       "2020    16\n",
       "2019    16\n",
       "2018    16\n",
       "2017    16\n",
       "2016    16\n",
       "Name: count, dtype: int64"
      ]
     },
     "execution_count": 12,
     "metadata": {},
     "output_type": "execute_result"
    }
   ],
   "source": [
    "model_stats[\"SEASON\"].value_counts()"
   ]
  },
  {
   "cell_type": "code",
   "execution_count": 13,
   "metadata": {},
   "outputs": [
    {
     "data": {
      "text/html": [
       "<div>\n",
       "<style scoped>\n",
       "    .dataframe tbody tr th:only-of-type {\n",
       "        vertical-align: middle;\n",
       "    }\n",
       "\n",
       "    .dataframe tbody tr th {\n",
       "        vertical-align: top;\n",
       "    }\n",
       "\n",
       "    .dataframe thead th {\n",
       "        text-align: right;\n",
       "    }\n",
       "</style>\n",
       "<table border=\"1\" class=\"dataframe\">\n",
       "  <thead>\n",
       "    <tr style=\"text-align: right;\">\n",
       "      <th></th>\n",
       "      <th>SEASON</th>\n",
       "      <th>TEAM</th>\n",
       "      <th>WIN%</th>\n",
       "      <th>PTS</th>\n",
       "      <th>FGM</th>\n",
       "      <th>FGA</th>\n",
       "      <th>FG%</th>\n",
       "      <th>3PM</th>\n",
       "      <th>3PA</th>\n",
       "      <th>3P%</th>\n",
       "      <th>...</th>\n",
       "      <th>POSS</th>\n",
       "      <th>PTS_OFF_TO</th>\n",
       "      <th>2ND_PTS</th>\n",
       "      <th>FBPS</th>\n",
       "      <th>PITP</th>\n",
       "      <th>OPP_PTS_OFF_TO</th>\n",
       "      <th>OPP_2ND_PTS</th>\n",
       "      <th>OPP_FBPS</th>\n",
       "      <th>OPP_PITP</th>\n",
       "      <th>CHAMPION</th>\n",
       "    </tr>\n",
       "  </thead>\n",
       "  <tbody>\n",
       "    <tr>\n",
       "      <th>0</th>\n",
       "      <td>2021</td>\n",
       "      <td>Utah Jazz</td>\n",
       "      <td>0.722</td>\n",
       "      <td>116.4</td>\n",
       "      <td>41.3</td>\n",
       "      <td>88.1</td>\n",
       "      <td>46.8</td>\n",
       "      <td>16.7</td>\n",
       "      <td>43.0</td>\n",
       "      <td>38.9</td>\n",
       "      <td>...</td>\n",
       "      <td>7193</td>\n",
       "      <td>14.1</td>\n",
       "      <td>13.6</td>\n",
       "      <td>11.9</td>\n",
       "      <td>44.2</td>\n",
       "      <td>17.0</td>\n",
       "      <td>12.4</td>\n",
       "      <td>12.1</td>\n",
       "      <td>49.1</td>\n",
       "      <td>False</td>\n",
       "    </tr>\n",
       "    <tr>\n",
       "      <th>1</th>\n",
       "      <td>2021</td>\n",
       "      <td>Phoenix Suns</td>\n",
       "      <td>0.708</td>\n",
       "      <td>115.3</td>\n",
       "      <td>43.3</td>\n",
       "      <td>88.3</td>\n",
       "      <td>49.0</td>\n",
       "      <td>13.1</td>\n",
       "      <td>34.6</td>\n",
       "      <td>37.8</td>\n",
       "      <td>...</td>\n",
       "      <td>7137</td>\n",
       "      <td>16.1</td>\n",
       "      <td>12.9</td>\n",
       "      <td>13.1</td>\n",
       "      <td>45.3</td>\n",
       "      <td>14.8</td>\n",
       "      <td>12.4</td>\n",
       "      <td>12.0</td>\n",
       "      <td>47.4</td>\n",
       "      <td>False</td>\n",
       "    </tr>\n",
       "    <tr>\n",
       "      <th>2</th>\n",
       "      <td>2021</td>\n",
       "      <td>Philadelphia 76ers</td>\n",
       "      <td>0.681</td>\n",
       "      <td>113.6</td>\n",
       "      <td>41.4</td>\n",
       "      <td>86.9</td>\n",
       "      <td>47.6</td>\n",
       "      <td>11.3</td>\n",
       "      <td>30.1</td>\n",
       "      <td>37.4</td>\n",
       "      <td>...</td>\n",
       "      <td>7272</td>\n",
       "      <td>18.1</td>\n",
       "      <td>13.9</td>\n",
       "      <td>15.2</td>\n",
       "      <td>47.3</td>\n",
       "      <td>17.2</td>\n",
       "      <td>11.6</td>\n",
       "      <td>14.3</td>\n",
       "      <td>46.0</td>\n",
       "      <td>False</td>\n",
       "    </tr>\n",
       "    <tr>\n",
       "      <th>3</th>\n",
       "      <td>2021</td>\n",
       "      <td>Brooklyn Nets</td>\n",
       "      <td>0.667</td>\n",
       "      <td>118.6</td>\n",
       "      <td>43.1</td>\n",
       "      <td>87.3</td>\n",
       "      <td>49.4</td>\n",
       "      <td>14.2</td>\n",
       "      <td>36.1</td>\n",
       "      <td>39.2</td>\n",
       "      <td>...</td>\n",
       "      <td>7280</td>\n",
       "      <td>15.8</td>\n",
       "      <td>12.3</td>\n",
       "      <td>14.3</td>\n",
       "      <td>49.2</td>\n",
       "      <td>16.1</td>\n",
       "      <td>15.3</td>\n",
       "      <td>12.1</td>\n",
       "      <td>47.8</td>\n",
       "      <td>False</td>\n",
       "    </tr>\n",
       "    <tr>\n",
       "      <th>4</th>\n",
       "      <td>2021</td>\n",
       "      <td>Denver Nuggets</td>\n",
       "      <td>0.653</td>\n",
       "      <td>115.1</td>\n",
       "      <td>43.3</td>\n",
       "      <td>89.2</td>\n",
       "      <td>48.5</td>\n",
       "      <td>12.9</td>\n",
       "      <td>34.2</td>\n",
       "      <td>37.7</td>\n",
       "      <td>...</td>\n",
       "      <td>7123</td>\n",
       "      <td>18.0</td>\n",
       "      <td>13.8</td>\n",
       "      <td>12.4</td>\n",
       "      <td>49.7</td>\n",
       "      <td>15.6</td>\n",
       "      <td>11.3</td>\n",
       "      <td>13.4</td>\n",
       "      <td>45.2</td>\n",
       "      <td>False</td>\n",
       "    </tr>\n",
       "    <tr>\n",
       "      <th>...</th>\n",
       "      <td>...</td>\n",
       "      <td>...</td>\n",
       "      <td>...</td>\n",
       "      <td>...</td>\n",
       "      <td>...</td>\n",
       "      <td>...</td>\n",
       "      <td>...</td>\n",
       "      <td>...</td>\n",
       "      <td>...</td>\n",
       "      <td>...</td>\n",
       "      <td>...</td>\n",
       "      <td>...</td>\n",
       "      <td>...</td>\n",
       "      <td>...</td>\n",
       "      <td>...</td>\n",
       "      <td>...</td>\n",
       "      <td>...</td>\n",
       "      <td>...</td>\n",
       "      <td>...</td>\n",
       "      <td>...</td>\n",
       "      <td>...</td>\n",
       "    </tr>\n",
       "    <tr>\n",
       "      <th>91</th>\n",
       "      <td>2016</td>\n",
       "      <td>Detroit Pistons</td>\n",
       "      <td>0.537</td>\n",
       "      <td>102.0</td>\n",
       "      <td>37.9</td>\n",
       "      <td>86.4</td>\n",
       "      <td>43.9</td>\n",
       "      <td>9.0</td>\n",
       "      <td>26.2</td>\n",
       "      <td>34.5</td>\n",
       "      <td>...</td>\n",
       "      <td>7942</td>\n",
       "      <td>15.4</td>\n",
       "      <td>14.9</td>\n",
       "      <td>11.1</td>\n",
       "      <td>43.5</td>\n",
       "      <td>14.6</td>\n",
       "      <td>10.7</td>\n",
       "      <td>10.4</td>\n",
       "      <td>44.4</td>\n",
       "      <td>False</td>\n",
       "    </tr>\n",
       "    <tr>\n",
       "      <th>92</th>\n",
       "      <td>2016</td>\n",
       "      <td>Portland Trail Blazers</td>\n",
       "      <td>0.537</td>\n",
       "      <td>105.1</td>\n",
       "      <td>38.6</td>\n",
       "      <td>85.9</td>\n",
       "      <td>45.0</td>\n",
       "      <td>10.5</td>\n",
       "      <td>28.5</td>\n",
       "      <td>37.0</td>\n",
       "      <td>...</td>\n",
       "      <td>8012</td>\n",
       "      <td>14.8</td>\n",
       "      <td>14.1</td>\n",
       "      <td>10.7</td>\n",
       "      <td>39.1</td>\n",
       "      <td>16.3</td>\n",
       "      <td>12.4</td>\n",
       "      <td>11.1</td>\n",
       "      <td>40.9</td>\n",
       "      <td>False</td>\n",
       "    </tr>\n",
       "    <tr>\n",
       "      <th>93</th>\n",
       "      <td>2016</td>\n",
       "      <td>Dallas Mavericks</td>\n",
       "      <td>0.512</td>\n",
       "      <td>102.3</td>\n",
       "      <td>37.4</td>\n",
       "      <td>84.1</td>\n",
       "      <td>44.4</td>\n",
       "      <td>9.8</td>\n",
       "      <td>28.6</td>\n",
       "      <td>34.4</td>\n",
       "      <td>...</td>\n",
       "      <td>7950</td>\n",
       "      <td>16.0</td>\n",
       "      <td>10.6</td>\n",
       "      <td>11.2</td>\n",
       "      <td>38.0</td>\n",
       "      <td>14.8</td>\n",
       "      <td>13.4</td>\n",
       "      <td>16.0</td>\n",
       "      <td>40.9</td>\n",
       "      <td>False</td>\n",
       "    </tr>\n",
       "    <tr>\n",
       "      <th>94</th>\n",
       "      <td>2016</td>\n",
       "      <td>Memphis Grizzlies</td>\n",
       "      <td>0.512</td>\n",
       "      <td>99.1</td>\n",
       "      <td>36.8</td>\n",
       "      <td>83.6</td>\n",
       "      <td>44.0</td>\n",
       "      <td>6.1</td>\n",
       "      <td>18.5</td>\n",
       "      <td>33.1</td>\n",
       "      <td>...</td>\n",
       "      <td>7763</td>\n",
       "      <td>17.9</td>\n",
       "      <td>12.9</td>\n",
       "      <td>12.6</td>\n",
       "      <td>44.0</td>\n",
       "      <td>15.1</td>\n",
       "      <td>11.8</td>\n",
       "      <td>14.6</td>\n",
       "      <td>38.5</td>\n",
       "      <td>False</td>\n",
       "    </tr>\n",
       "    <tr>\n",
       "      <th>95</th>\n",
       "      <td>2016</td>\n",
       "      <td>Houston Rockets</td>\n",
       "      <td>0.500</td>\n",
       "      <td>106.5</td>\n",
       "      <td>37.7</td>\n",
       "      <td>83.5</td>\n",
       "      <td>45.2</td>\n",
       "      <td>10.7</td>\n",
       "      <td>30.9</td>\n",
       "      <td>34.7</td>\n",
       "      <td>...</td>\n",
       "      <td>8139</td>\n",
       "      <td>18.9</td>\n",
       "      <td>13.9</td>\n",
       "      <td>18.1</td>\n",
       "      <td>45.7</td>\n",
       "      <td>19.5</td>\n",
       "      <td>14.7</td>\n",
       "      <td>14.4</td>\n",
       "      <td>44.6</td>\n",
       "      <td>False</td>\n",
       "    </tr>\n",
       "  </tbody>\n",
       "</table>\n",
       "<p>96 rows × 48 columns</p>\n",
       "</div>"
      ],
      "text/plain": [
       "    SEASON                    TEAM   WIN%    PTS   FGM   FGA   FG%   3PM  \\\n",
       "0     2021               Utah Jazz  0.722  116.4  41.3  88.1  46.8  16.7   \n",
       "1     2021            Phoenix Suns  0.708  115.3  43.3  88.3  49.0  13.1   \n",
       "2     2021      Philadelphia 76ers  0.681  113.6  41.4  86.9  47.6  11.3   \n",
       "3     2021           Brooklyn Nets  0.667  118.6  43.1  87.3  49.4  14.2   \n",
       "4     2021          Denver Nuggets  0.653  115.1  43.3  89.2  48.5  12.9   \n",
       "..     ...                     ...    ...    ...   ...   ...   ...   ...   \n",
       "91    2016         Detroit Pistons  0.537  102.0  37.9  86.4  43.9   9.0   \n",
       "92    2016  Portland Trail Blazers  0.537  105.1  38.6  85.9  45.0  10.5   \n",
       "93    2016        Dallas Mavericks  0.512  102.3  37.4  84.1  44.4   9.8   \n",
       "94    2016       Memphis Grizzlies  0.512   99.1  36.8  83.6  44.0   6.1   \n",
       "95    2016         Houston Rockets  0.500  106.5  37.7  83.5  45.2  10.7   \n",
       "\n",
       "     3PA   3P%  ...  POSS  PTS_OFF_TO  2ND_PTS  FBPS  PITP  OPP_PTS_OFF_TO  \\\n",
       "0   43.0  38.9  ...  7193        14.1     13.6  11.9  44.2            17.0   \n",
       "1   34.6  37.8  ...  7137        16.1     12.9  13.1  45.3            14.8   \n",
       "2   30.1  37.4  ...  7272        18.1     13.9  15.2  47.3            17.2   \n",
       "3   36.1  39.2  ...  7280        15.8     12.3  14.3  49.2            16.1   \n",
       "4   34.2  37.7  ...  7123        18.0     13.8  12.4  49.7            15.6   \n",
       "..   ...   ...  ...   ...         ...      ...   ...   ...             ...   \n",
       "91  26.2  34.5  ...  7942        15.4     14.9  11.1  43.5            14.6   \n",
       "92  28.5  37.0  ...  8012        14.8     14.1  10.7  39.1            16.3   \n",
       "93  28.6  34.4  ...  7950        16.0     10.6  11.2  38.0            14.8   \n",
       "94  18.5  33.1  ...  7763        17.9     12.9  12.6  44.0            15.1   \n",
       "95  30.9  34.7  ...  8139        18.9     13.9  18.1  45.7            19.5   \n",
       "\n",
       "    OPP_2ND_PTS  OPP_FBPS  OPP_PITP  CHAMPION  \n",
       "0          12.4      12.1      49.1     False  \n",
       "1          12.4      12.0      47.4     False  \n",
       "2          11.6      14.3      46.0     False  \n",
       "3          15.3      12.1      47.8     False  \n",
       "4          11.3      13.4      45.2     False  \n",
       "..          ...       ...       ...       ...  \n",
       "91         10.7      10.4      44.4     False  \n",
       "92         12.4      11.1      40.9     False  \n",
       "93         13.4      16.0      40.9     False  \n",
       "94         11.8      14.6      38.5     False  \n",
       "95         14.7      14.4      44.6     False  \n",
       "\n",
       "[96 rows x 48 columns]"
      ]
     },
     "execution_count": 13,
     "metadata": {},
     "output_type": "execute_result"
    }
   ],
   "source": [
    "model_stats"
   ]
  },
  {
   "cell_type": "markdown",
   "metadata": {},
   "source": [
    "<br>\n",
    "<hr>\n",
    "<br>"
   ]
  },
  {
   "cell_type": "markdown",
   "metadata": {
    "cell_id": "00014-3b824e36-3efc-46f1-ae2e-5f1a134744dc",
    "deepnote_cell_height": 88.328125,
    "deepnote_cell_type": "markdown",
    "tags": []
   },
   "source": [
    "## Feature Selection\n",
    "### Definition\n",
    "- feature - a stat type (i.e. a numeric column from the `model_stats` DataFrame)\n",
    "### Outline\n",
    "- Split the dataset into train and test sets. Ensure all fitting is only applied to the training set. In this feature selection section, fitting includes scaling and principal component analysis (PCA).\n",
    "- Analyze the correlations between features as well as the cumulative explained variance (CEV) using all features.\n",
    "- Use the results to select the final features for the logistic regression model.\n",
    "#### Analysis: All Features\n",
    "1. Correlation coefficient matrix and heatmap.\n",
    "1. Investigate maximum and 80th percentile correlations - identify the most independent features.\n",
    "1. Use PCA to build a CEV plot.\n",
    "1. Use the CEV plot to identify the number of features to aim for.\n",
    "1. Select the features to be used in the model.\n",
    "#### Analysis: Selected Features\n",
    "1. Correlation coefficient matrix and heatmap.\n",
    "1. CEV plot.\n",
    "### Feature Selection Constants\n",
    "- **Explanation of `percentile_corr_threshold`:** Each stat type has a collection of correlation coefficients (its correlation with each other stat type in the dataset). The 80th percentile value for each of these collections is calculated (see `percentile`). `percentile_corr_threshold` is used to filter these results to see which stat types have an 80th percentile value lower than the threshold. The threshold value represents a \"low correlation\". To sum up, the idea is to reveal which stat types have mostly (80%) low correlations (r < `percentile_corr_threshold`)."
   ]
  },
  {
   "cell_type": "code",
   "execution_count": 14,
   "metadata": {},
   "outputs": [],
   "source": [
    "# Threshold for max correlation coefficient graph. No percentile concept here, simply\n",
    "# max(r) < 0.80.\n",
    "max_corr_threshold = 0.80\n",
    "\n",
    "percentile = 0.80\n",
    "# Threshold for percentile correlation coefficient graph. See explanation above.\n",
    "percentile_corr_threshold = 0.35"
   ]
  },
  {
   "cell_type": "markdown",
   "metadata": {
    "cell_id": "00014-3b824e36-3efc-46f1-ae2e-5f1a134744dc",
    "deepnote_cell_height": 88.328125,
    "deepnote_cell_type": "markdown",
    "tags": []
   },
   "source": [
    "### Feature Lists\n",
    "#### All Features"
   ]
  },
  {
   "cell_type": "code",
   "execution_count": 15,
   "metadata": {
    "cell_id": "00016-8902f350-aa76-4934-a28b-1930a1f0342d",
    "deepnote_cell_height": 908.9375,
    "deepnote_cell_type": "code",
    "deepnote_to_be_reexecuted": false,
    "execution_millis": 0,
    "execution_start": 1651704444323,
    "output_cleared": true,
    "source_hash": "c5a890e0",
    "tags": []
   },
   "outputs": [],
   "source": [
    "# List with all stat types in the dataset.\n",
    "all_features = [\n",
    "    \"WIN%\",\n",
    "    \"PTS\",\n",
    "    \"FGM\",\n",
    "    \"FGA\",\n",
    "    \"FG%\",\n",
    "    \"3PM\",\n",
    "    \"3PA\",\n",
    "    \"3P%\",\n",
    "    \"FTM\",\n",
    "    \"FTA\",\n",
    "    \"FT%\",\n",
    "    \"OREB\",\n",
    "    \"DREB\",\n",
    "    \"REB\",\n",
    "    \"AST\",\n",
    "    \"TOV\",\n",
    "    \"STL\",\n",
    "    \"BLK\",\n",
    "    \"BLKA\",\n",
    "    \"PF\",\n",
    "    \"PFD\",\n",
    "    \"+/-\",\n",
    "    \"OFFRTG\",\n",
    "    \"DEFRTG\",\n",
    "    \"NETRTG\",\n",
    "    \"AST%\",\n",
    "    \"AST/TO\",\n",
    "    \"AST_RATIO\",\n",
    "    \"OREB%\",\n",
    "    \"DREB%\",\n",
    "    \"REB%\",\n",
    "    \"TOV%\",\n",
    "    \"EFG%\",\n",
    "    \"TS%\",\n",
    "    \"PACE\",\n",
    "    \"PIE\",\n",
    "    \"POSS\",\n",
    "    \"PTS_OFF_TO\",\n",
    "    \"2ND_PTS\",\n",
    "    \"FBPS\",\n",
    "    \"PITP\",\n",
    "    \"OPP_PTS_OFF_TO\",\n",
    "    \"OPP_2ND_PTS\",\n",
    "    \"OPP_FBPS\",\n",
    "    \"OPP_PITP\",\n",
    "]"
   ]
  },
  {
   "cell_type": "markdown",
   "metadata": {},
   "source": [
    "#### Selected Features (ML Model Features)"
   ]
  },
  {
   "cell_type": "code",
   "execution_count": 16,
   "metadata": {
    "cell_id": "00015-4b893595-2579-4130-a03a-886e776704a5",
    "deepnote_cell_height": 908.9375,
    "deepnote_cell_type": "code",
    "deepnote_to_be_reexecuted": false,
    "execution_millis": 1,
    "execution_start": 1651704444322,
    "source_hash": "8746120c",
    "tags": []
   },
   "outputs": [
    {
     "name": "stdout",
     "output_type": "stream",
     "text": [
      "Number of selected features: 7\n"
     ]
    }
   ],
   "source": [
    "# Uncomment/comment to select/deselect features for the ml model.\n",
    "selected_features = [\n",
    "    # 'WIN%',\n",
    "    # 'PTS',\n",
    "    # 'FGM',\n",
    "    # 'FGA',\n",
    "    # 'FG%',\n",
    "    # '3PM',\n",
    "    # '3PA',\n",
    "    \"3P%\",\n",
    "    # 'FTM',\n",
    "    # 'FTA',\n",
    "    # 'FT%',\n",
    "    # 'OREB',\n",
    "    \"DREB\",\n",
    "    # 'REB',\n",
    "    # 'AST',\n",
    "    # 'TOV',\n",
    "    \"STL\",\n",
    "    \"BLK\",\n",
    "    # 'BLKA',\n",
    "    # 'PF',\n",
    "    # 'PFD',\n",
    "    # '+/-',\n",
    "    \"OFFRTG\",\n",
    "    \"DEFRTG\",\n",
    "    # 'NETRTG',\n",
    "    # 'AST%',\n",
    "    \"AST/TO\",\n",
    "    # 'AST_RATIO',\n",
    "    # 'OREB%',\n",
    "    # 'DREB%',\n",
    "    # 'REB%',\n",
    "    # 'TOV%',\n",
    "    # 'EFG%',\n",
    "    # 'TS%',\n",
    "    # 'PACE',\n",
    "    # 'PIE',\n",
    "    # 'POSS',\n",
    "    # 'PTS_OFF_TO',\n",
    "    # '2ND_PTS',\n",
    "    # 'FBPS',\n",
    "    # 'PITP',\n",
    "    # 'OPP_PTS_OFF_TO',\n",
    "    # 'OPP_2ND_PTS',\n",
    "    # 'OPP_FBPS',\n",
    "    # 'OPP_PITP'\n",
    "]\n",
    "print(f\"Number of selected features: {len(selected_features)}\")"
   ]
  },
  {
   "cell_type": "markdown",
   "metadata": {},
   "source": [
    "### Test Train Split\n",
    "- The initial test train split includes all features. Once the analysis on all features is complete and the final feature set selected, `selected_features` is used to filter out the stat types that will not be used in the ML model.\n",
    "- Note that this feature selection is only applied to `X_train` and `X_test` and also later `target` since these are the DataFrames that contain the features (`y_train` and `y_test` are the arrays representing the labels of champion or non-champion)"
   ]
  },
  {
   "cell_type": "code",
   "execution_count": 17,
   "metadata": {
    "cell_id": "00035-80470783-5ded-49da-9a1a-2ec7e29446a9",
    "deepnote_cell_height": 152.9375,
    "deepnote_cell_type": "code",
    "deepnote_to_be_reexecuted": false,
    "execution_millis": 2,
    "execution_start": 1651704446753,
    "id": "vZi4GQ9g56FN",
    "output_cleared": true,
    "source_hash": "8d06759d"
   },
   "outputs": [],
   "source": [
    "X = model_stats[all_features]\n",
    "# Transform the `CHAMPION` column of model_stats using a `LabelEncoder` transformer to\n",
    "# produce the labels.\n",
    "le = LabelEncoder()\n",
    "y = le.fit_transform(model_stats[\"CHAMPION\"])\n",
    "\n",
    "# Split the dataset into training and testing sets.\n",
    "# Stratifying the data is important since we have 6 champions and 90 non-champions (a\n",
    "# strong imbalance across the two groups).\n",
    "X_train, X_test, y_train, y_test = train_test_split(\n",
    "    X, y, test_size=0.25, random_state=1, stratify=y\n",
    ")"
   ]
  },
  {
   "cell_type": "markdown",
   "metadata": {
    "cell_id": "00020-1d198ab5-9fc1-487f-b77f-75a579654e49",
    "deepnote_cell_height": 53.953125,
    "deepnote_cell_type": "markdown",
    "tags": []
   },
   "source": [
    "### Analysis: All Features\n",
    "#### Correlation Coefficient Matrix"
   ]
  },
  {
   "cell_type": "code",
   "execution_count": 18,
   "metadata": {},
   "outputs": [],
   "source": [
    "# Normalize the data so that all features have the same scale.\n",
    "scaler_all = StandardScaler()\n",
    "# `_all` signifies this is X_train built from all features (prior to selecting the final\n",
    "# feature set).\n",
    "X_train_scaled_all = scaler_all.fit_transform(X_train)\n",
    "# Convert `X_train_scaled` back into a DataFrame in order to use the `corr` method.\n",
    "X_train_scaled_all = pd.DataFrame(X_train_scaled_all, columns=all_features)\n",
    "# Calculate the correlation matrix for all features.\n",
    "corrs_all = X_train_scaled_all.corr()"
   ]
  },
  {
   "cell_type": "markdown",
   "metadata": {},
   "source": [
    "#### Heatmap"
   ]
  },
  {
   "cell_type": "code",
   "execution_count": 19,
   "metadata": {
    "cell_id": "00022-f5e68607-5cc1-42a1-b808-c3af215bfdb9",
    "deepnote_cell_height": 831.9375,
    "deepnote_cell_type": "code",
    "deepnote_output_heights": [
     608.984375
    ],
    "deepnote_table_loading": false,
    "deepnote_table_state": {
     "filters": [],
     "pageIndex": 0,
     "pageSize": 25,
     "sortBy": []
    },
    "deepnote_to_be_reexecuted": false,
    "execution_millis": 1132,
    "execution_start": 1651704445048,
    "output_cleared": false,
    "source_hash": "a4464fdb",
    "tags": []
   },
   "outputs": [
    {
     "data": {
      "image/png": "[encoded data removed]",
      "text/plain": [
       "<Figure size 1200x900 with 2 Axes>"
      ]
     },
     "metadata": {},
     "output_type": "display_data"
    }
   ],
   "source": [
    "fig, ax = plt.subplots(figsize=(12, 9))\n",
    "# Heatmap of the correlations.\n",
    "sns.heatmap(corrs_all, ax=ax, cmap=CMAP, vmin=-1, vmax=1)\n",
    "ax.set_title(\"Correlation Coefficient Heatmap: All Features\")\n",
    "\n",
    "# Save image to file.\n",
    "fig.savefig(\n",
    "    fname=IMAGES_DIR / \"correlation_heatmap_all_features.png\",\n",
    "    dpi=IMAGE_DPI,\n",
    "    bbox_inches=\"tight\",\n",
    ")\n",
    "\n",
    "plt.show()"
   ]
  },
  {
   "cell_type": "markdown",
   "metadata": {
    "cell_id": "00020-1d198ab5-9fc1-487f-b77f-75a579654e49",
    "deepnote_cell_height": 53.953125,
    "deepnote_cell_type": "markdown",
    "tags": []
   },
   "source": [
    "#### Maximum and 80th Percentile Correlation Calculations"
   ]
  },
  {
   "cell_type": "code",
   "execution_count": 20,
   "metadata": {},
   "outputs": [],
   "source": [
    "def get_percentile(corr_col: Series, percentile: float = 1.0) -> float:\n",
    "    \"\"\"Returns the percentile value for a given correlation coefficient Series.\n",
    "\n",
    "    The default value for `percentile` will return the maximum value of the Series.\n",
    "\n",
    "    Parameters\n",
    "    ----------\n",
    "    corr_col : Series\n",
    "        Collection of correlation coefficients\n",
    "    percentile : float, optional\n",
    "        Percentile entered as a quantile (0.0 to 1.0 inclusive), by default 1.0\n",
    "\n",
    "    Returns\n",
    "    -------\n",
    "    float\n",
    "        Percentile value.\n",
    "    \"\"\"\n",
    "    # The value at index 0 is removed since this is just the correlation of the stat\n",
    "    # with itself.\n",
    "    corr_col = corr_col.abs().sort_values(ascending=False)[1:]\n",
    "    return corr_col.quantile(q=percentile)\n",
    "\n",
    "\n",
    "# Apply `get_percentile` to each column in `corr` using the default value for the\n",
    "# percentile parameter to return max correlation values.\n",
    "max_corrs = corrs_all.agg(func=get_percentile)\n",
    "percentile_corrs = corrs_all.agg(func=get_percentile, percentile=percentile)"
   ]
  },
  {
   "cell_type": "markdown",
   "metadata": {},
   "source": [
    "#### Filter Max Correlations Using Threshold"
   ]
  },
  {
   "cell_type": "code",
   "execution_count": 21,
   "metadata": {
    "cell_id": "00021-f86d3191-02bb-428d-8843-d54095345bbc",
    "deepnote_cell_height": 1846.21875,
    "deepnote_cell_type": "code",
    "deepnote_output_heights": [
     null,
     279.984375,
     null,
     388.984375
    ],
    "deepnote_to_be_reexecuted": false,
    "execution_millis": 732,
    "execution_start": 1651704444349,
    "source_hash": "c1657a1b",
    "tags": []
   },
   "outputs": [
    {
     "name": "stdout",
     "output_type": "stream",
     "text": [
      "Number of stats with max(r) < 0.8: 17 out of 45\n",
      "\n",
      "Stats with max(r) < 0.8: ['PFD', 'AST/TO', 'FGA', 'DREB%', 'OPP_2ND_PTS', 'REB%', 'PITP', '3P%', 'BLK', 'DEFRTG', 'OPP_PITP', 'FBPS', 'FT%', 'BLKA', 'OPP_FBPS', 'PF', 'POSS']\n"
     ]
    }
   ],
   "source": [
    "# Max correlation filtering.\n",
    "max_corrs = max_corrs[max_corrs < max_corr_threshold].sort_values(ascending=False)\n",
    "\n",
    "print(\n",
    "    f\"Number of stats with max(r) < {max_corr_threshold}: {len(max_corrs)} out of {len(all_features)}\\n\"\n",
    ")\n",
    "print(f\"Stats with max(r) < {max_corr_threshold}: {list(max_corrs.index)}\")"
   ]
  },
  {
   "cell_type": "markdown",
   "metadata": {},
   "source": [
    "#### Max Correlations Plot"
   ]
  },
  {
   "cell_type": "code",
   "execution_count": 22,
   "metadata": {
    "cell_id": "00021-f86d3191-02bb-428d-8843-d54095345bbc",
    "deepnote_cell_height": 1846.21875,
    "deepnote_cell_type": "code",
    "deepnote_output_heights": [
     null,
     279.984375,
     null,
     388.984375
    ],
    "deepnote_to_be_reexecuted": false,
    "execution_millis": 732,
    "execution_start": 1651704444349,
    "source_hash": "c1657a1b",
    "tags": []
   },
   "outputs": [
    {
     "data": {
      "image/png": "[encoded data removed]",
      "text/plain": [
       "<Figure size 640x480 with 1 Axes>"
      ]
     },
     "metadata": {},
     "output_type": "display_data"
    }
   ],
   "source": [
    "fig, ax = plt.subplots()\n",
    "# Horizontal bar chart of max correlations.\n",
    "sns.barplot(x=max_corrs, y=max_corrs.index, ax=ax, orient=\"h\", color=\"tab:blue\")\n",
    "ax.set_title(f\"Stats With Maximum Correlation Coefficient < {max_corr_threshold}\")\n",
    "ax.set_xlabel(\"Maximum Correlation Coefficient\")\n",
    "ax.set_ylabel(\"\")\n",
    "\n",
    "# Save image to file.\n",
    "fig.savefig(\n",
    "    fname=IMAGES_DIR / \"max_correlation_coefficients.png\",\n",
    "    dpi=IMAGE_DPI,\n",
    "    bbox_inches=\"tight\",\n",
    ")\n",
    "\n",
    "plt.show()"
   ]
  },
  {
   "cell_type": "markdown",
   "metadata": {},
   "source": [
    "#### Filter Percentile Correlations Using Threshold"
   ]
  },
  {
   "cell_type": "code",
   "execution_count": 23,
   "metadata": {
    "cell_id": "00021-f86d3191-02bb-428d-8843-d54095345bbc",
    "deepnote_cell_height": 1846.21875,
    "deepnote_cell_type": "code",
    "deepnote_output_heights": [
     null,
     279.984375,
     null,
     388.984375
    ],
    "deepnote_to_be_reexecuted": false,
    "execution_millis": 732,
    "execution_start": 1651704444349,
    "source_hash": "c1657a1b",
    "tags": []
   },
   "outputs": [
    {
     "name": "stdout",
     "output_type": "stream",
     "text": [
      "Number of stats with 80th percentile r-value < 0.35: 18 out of 45\n",
      "\n",
      "Stats with 80th percentile r-value < 0.35: ['TOV', 'BLK', 'FT%', 'DREB%', 'AST%', 'FTA', 'BLKA', 'OREB%', 'OPP_2ND_PTS', 'PF', 'PFD', 'TOV%', 'FTM', '2ND_PTS', 'OPP_FBPS', 'STL', 'POSS', 'PTS_OFF_TO']\n",
      "\n"
     ]
    }
   ],
   "source": [
    "# Percentile correlation filtering.\n",
    "percentile_corrs = percentile_corrs[\n",
    "    percentile_corrs < percentile_corr_threshold\n",
    "].sort_values(ascending=False)\n",
    "\n",
    "print(\n",
    "    f\"Number of stats with {int(round_half_up(100*percentile))}th percentile r-value < {percentile_corr_threshold}: {len(percentile_corrs)} out of {len(all_features)}\\n\"\n",
    ")\n",
    "print(\n",
    "    f\"Stats with {int(round_half_up(100*percentile))}th percentile r-value < {percentile_corr_threshold}: {list(percentile_corrs.index)}\\n\"\n",
    ")"
   ]
  },
  {
   "cell_type": "markdown",
   "metadata": {},
   "source": [
    "#### Percentile Correlations Plot"
   ]
  },
  {
   "cell_type": "code",
   "execution_count": 24,
   "metadata": {
    "cell_id": "00021-f86d3191-02bb-428d-8843-d54095345bbc",
    "deepnote_cell_height": 1846.21875,
    "deepnote_cell_type": "code",
    "deepnote_output_heights": [
     null,
     279.984375,
     null,
     388.984375
    ],
    "deepnote_to_be_reexecuted": false,
    "execution_millis": 732,
    "execution_start": 1651704444349,
    "source_hash": "c1657a1b",
    "tags": []
   },
   "outputs": [
    {
     "data": {
      "image/png": "[encoded data removed]",
      "text/plain": [
       "<Figure size 640x480 with 1 Axes>"
      ]
     },
     "metadata": {},
     "output_type": "display_data"
    }
   ],
   "source": [
    "fig, ax = plt.subplots()\n",
    "# Horizontal bar chart of 80th percentile correlations.\n",
    "sns.barplot(\n",
    "    x=percentile_corrs, y=percentile_corrs.index, ax=ax, orient=\"h\", color=\"tab:cyan\"\n",
    ")\n",
    "ax.set_title(\n",
    "    f\"Stats With {int(round_half_up(100*percentile))}% Of Their Correlation Coefficients < {percentile_corr_threshold}\"\n",
    ")\n",
    "ax.set_xlabel(\n",
    "    f\"{int(round_half_up(100*percentile))}th Percentile Correlation Coefficient Value\"\n",
    ")\n",
    "ax.set_ylabel(\"\")\n",
    "\n",
    "# Save image to file.\n",
    "fig.savefig(\n",
    "    fname=IMAGES_DIR / \"percentile_correlation_coefficients.png\",\n",
    "    dpi=IMAGE_DPI,\n",
    "    bbox_inches=\"tight\",\n",
    ")\n",
    "\n",
    "plt.show()"
   ]
  },
  {
   "cell_type": "markdown",
   "metadata": {
    "cell_id": "00032-bdd6b92e-5119-4a90-aba9-1d55d27c9e17",
    "deepnote_cell_height": 52.34375,
    "deepnote_cell_type": "markdown",
    "tags": []
   },
   "source": [
    "#### Principal Component Analysis (PCA) and Cumulative Explained Variance (CEV)"
   ]
  },
  {
   "cell_type": "code",
   "execution_count": 25,
   "metadata": {
    "cell_id": "00033-1a0f4c3e-195d-4b07-96d0-7cb01ba85026",
    "deepnote_cell_height": 538.9375,
    "deepnote_cell_type": "code",
    "deepnote_output_heights": [
     279.984375
    ],
    "deepnote_to_be_reexecuted": false,
    "execution_millis": 223,
    "execution_start": 1651704446528,
    "source_hash": "2f38c5b9",
    "tags": []
   },
   "outputs": [],
   "source": [
    "# Compute PCA using the scaled all feature stats ndarray.\n",
    "pca_all = PCA(svd_solver=\"full\").fit(X_train_scaled_all)\n",
    "cev = np.cumsum(pca_all.explained_variance_ratio_)\n",
    "component_range = range(1, len(cev) + 1)"
   ]
  },
  {
   "cell_type": "markdown",
   "metadata": {},
   "source": [
    "#### Annotation Data"
   ]
  },
  {
   "cell_type": "code",
   "execution_count": 26,
   "metadata": {
    "cell_id": "00033-1a0f4c3e-195d-4b07-96d0-7cb01ba85026",
    "deepnote_cell_height": 538.9375,
    "deepnote_cell_type": "code",
    "deepnote_output_heights": [
     279.984375
    ],
    "deepnote_to_be_reexecuted": false,
    "execution_millis": 223,
    "execution_start": 1651704446528,
    "source_hash": "2f38c5b9",
    "tags": []
   },
   "outputs": [],
   "source": [
    "def create_annotation(cev: ndarray, target: float) -> tuple[int, float, str]:\n",
    "    \"\"\"Create annotation data for the nearest point to `target` on a CEV plot.\n",
    "\n",
    "    Parameters\n",
    "    ----------\n",
    "    cev : ndarray\n",
    "        Array of CEV values.\n",
    "    target : float\n",
    "        Target CEV ratio to find the nearest point to.\n",
    "\n",
    "    Returns\n",
    "    -------\n",
    "    tuple(int, float, str)\n",
    "        Number of components, associated CEV value, and annotation text.\n",
    "    \"\"\"\n",
    "    index = np.argmin(np.abs(cev - target))\n",
    "    cev_val = cev[index]\n",
    "    # Due to zero indexing, shift index value by 1 for the component number.\n",
    "    component = index + 1\n",
    "    text = f\"({component}, {cev_val:.2f})\"\n",
    "\n",
    "    return component, cev_val, text\n",
    "\n",
    "\n",
    "# Create annotation data at 0.90 and 0.95 CEV.\n",
    "component_90, cev_90, text_90 = create_annotation(cev, target=0.90)\n",
    "component_95, cev_95, text_95 = create_annotation(cev, target=0.95)"
   ]
  },
  {
   "cell_type": "markdown",
   "metadata": {},
   "source": [
    "#### CEV Plot"
   ]
  },
  {
   "cell_type": "code",
   "execution_count": 27,
   "metadata": {
    "cell_id": "00033-1a0f4c3e-195d-4b07-96d0-7cb01ba85026",
    "deepnote_cell_height": 538.9375,
    "deepnote_cell_type": "code",
    "deepnote_output_heights": [
     279.984375
    ],
    "deepnote_to_be_reexecuted": false,
    "execution_millis": 223,
    "execution_start": 1651704446528,
    "source_hash": "2f38c5b9",
    "tags": []
   },
   "outputs": [
    {
     "data": {
      "image/png": "[encoded data removed]",
      "text/plain": [
       "<Figure size 640x480 with 1 Axes>"
      ]
     },
     "metadata": {},
     "output_type": "display_data"
    }
   ],
   "source": [
    "# Cumulative explained variance plot.\n",
    "fig, ax = plt.subplots()\n",
    "sns.lineplot(x=component_range, y=cev, ax=ax)\n",
    "ax.scatter(\n",
    "    [component_90, component_95], [cev_90, cev_95], s=20, color=\"black\", zorder=3\n",
    ")\n",
    "ax.set_title(\"Cumulative Explained Variance: All Features\")\n",
    "ax.set_xlabel(\"No. of Components\")\n",
    "ax.set_ylabel(\"Cumulative Variance\")\n",
    "ax.set_xticks(component_range[::4])\n",
    "ax.yaxis.set_major_formatter(StrMethodFormatter(\"{x:.2f}\"))\n",
    "ax.annotate(\n",
    "    text_90,\n",
    "    xy=(component_90, cev_90),\n",
    "    xytext=(component_90 - 6.7, cev_90 + 0.01),\n",
    ")\n",
    "ax.annotate(\n",
    "    text_95,\n",
    "    xy=(component_95, cev_95),\n",
    "    xytext=(component_95 + 0.9, cev_95 - 0.03),\n",
    ")\n",
    "\n",
    "# Save image to file.\n",
    "fig.savefig(\n",
    "    fname=IMAGES_DIR / \"cumulative_explained_variance_all_features.png\",\n",
    "    dpi=IMAGE_DPI,\n",
    "    bbox_inches=\"tight\",\n",
    ")\n",
    "\n",
    "plt.show()"
   ]
  },
  {
   "cell_type": "markdown",
   "metadata": {},
   "source": [
    "### Analysis: Selected Features\n",
    "#### Correlation Coefficient Matrix"
   ]
  },
  {
   "cell_type": "code",
   "execution_count": 28,
   "metadata": {
    "allow_embed": false,
    "cell_id": "00023-ed9c23cd-99cb-4902-8be0-8b8ec7c42263",
    "deepnote_cell_height": 814.890625,
    "deepnote_cell_type": "code",
    "deepnote_output_heights": [
     537.984375
    ],
    "deepnote_table_loading": false,
    "deepnote_table_state": {
     "filters": [],
     "pageIndex": 0,
     "pageSize": 25,
     "sortBy": []
    },
    "deepnote_to_be_reexecuted": false,
    "execution_millis": 268,
    "execution_start": 1651704446232,
    "output_cleared": false,
    "source_hash": "9c8eb1f7",
    "tags": []
   },
   "outputs": [],
   "source": [
    "# Normalize the data so that all features have the same scale.\n",
    "scaler_selected = StandardScaler()\n",
    "# `_selected` signifies this is X_train built from selected features only.\n",
    "X_train_scaled = scaler_selected.fit_transform(X_train[selected_features])\n",
    "# Convert `X_train_scaled` back into a DataFram in order to use the `corr` method\n",
    "X_train_scaled = pd.DataFrame(X_train_scaled, columns=selected_features)\n",
    "# Calculate the correlation matrix for all features.\n",
    "corrs_selected = X_train_scaled.corr()"
   ]
  },
  {
   "cell_type": "markdown",
   "metadata": {},
   "source": [
    "#### Heatmap"
   ]
  },
  {
   "cell_type": "code",
   "execution_count": 29,
   "metadata": {
    "allow_embed": false,
    "cell_id": "00023-ed9c23cd-99cb-4902-8be0-8b8ec7c42263",
    "deepnote_cell_height": 814.890625,
    "deepnote_cell_type": "code",
    "deepnote_output_heights": [
     537.984375
    ],
    "deepnote_table_loading": false,
    "deepnote_table_state": {
     "filters": [],
     "pageIndex": 0,
     "pageSize": 25,
     "sortBy": []
    },
    "deepnote_to_be_reexecuted": false,
    "execution_millis": 268,
    "execution_start": 1651704446232,
    "output_cleared": false,
    "source_hash": "9c8eb1f7",
    "tags": []
   },
   "outputs": [
    {
     "data": {
      "image/png": "[encoded data removed]",
      "text/plain": [
       "<Figure size 800x600 with 2 Axes>"
      ]
     },
     "metadata": {},
     "output_type": "display_data"
    }
   ],
   "source": [
    "# Plot a heatmap of the correlations\n",
    "fig, ax = plt.subplots(figsize=(8, 6))\n",
    "# Heatmap of the correlations.\n",
    "sns.heatmap(corrs_selected, ax=ax, cmap=CMAP, vmin=-1, vmax=1, annot=True, fmt=\".2f\")\n",
    "ax.set_title(\"Correlation Coefficient Heatmap: Selected Features\")\n",
    "\n",
    "# Save image to file.\n",
    "fig.savefig(\n",
    "    fname=IMAGES_DIR / \"correlation_heatmap_selected_features.png\",\n",
    "    dpi=IMAGE_DPI,\n",
    "    bbox_inches=\"tight\",\n",
    ")\n",
    "\n",
    "plt.show()"
   ]
  },
  {
   "cell_type": "markdown",
   "metadata": {
    "cell_id": "00032-bdd6b92e-5119-4a90-aba9-1d55d27c9e17",
    "deepnote_cell_height": 52.34375,
    "deepnote_cell_type": "markdown",
    "tags": []
   },
   "source": [
    "#### PCA and CEV"
   ]
  },
  {
   "cell_type": "code",
   "execution_count": 30,
   "metadata": {
    "cell_id": "00033-1a0f4c3e-195d-4b07-96d0-7cb01ba85026",
    "deepnote_cell_height": 538.9375,
    "deepnote_cell_type": "code",
    "deepnote_output_heights": [
     279.984375
    ],
    "deepnote_to_be_reexecuted": false,
    "execution_millis": 223,
    "execution_start": 1651704446528,
    "source_hash": "2f38c5b9",
    "tags": []
   },
   "outputs": [],
   "source": [
    "# Compute PCA using the scaled selected feature stats ndarray.\n",
    "pca_selected = PCA(svd_solver=\"full\").fit(X_train_scaled)\n",
    "cev = np.cumsum(pca_selected.explained_variance_ratio_)\n",
    "component_range = range(1, len(cev) + 1)"
   ]
  },
  {
   "cell_type": "markdown",
   "metadata": {},
   "source": [
    "#### CEV Plot"
   ]
  },
  {
   "cell_type": "code",
   "execution_count": 31,
   "metadata": {
    "cell_id": "00033-1a0f4c3e-195d-4b07-96d0-7cb01ba85026",
    "deepnote_cell_height": 538.9375,
    "deepnote_cell_type": "code",
    "deepnote_output_heights": [
     279.984375
    ],
    "deepnote_to_be_reexecuted": false,
    "execution_millis": 223,
    "execution_start": 1651704446528,
    "source_hash": "2f38c5b9",
    "tags": []
   },
   "outputs": [
    {
     "data": {
      "image/png": "[encoded data removed]",
      "text/plain": [
       "<Figure size 640x480 with 1 Axes>"
      ]
     },
     "metadata": {},
     "output_type": "display_data"
    }
   ],
   "source": [
    "# Cumulative explained variance plot.\n",
    "fig, ax = plt.subplots()\n",
    "sns.lineplot(x=component_range, y=cev, ax=ax)\n",
    "ax.set_title(\"Cumulative Explained Variance: Selected Features\")\n",
    "ax.set_xlabel(\"No. of Components\")\n",
    "ax.set_ylabel(\"Cumulative Variance\")\n",
    "ax.set_xticks(component_range)\n",
    "\n",
    "# Save image to file.\n",
    "fig.savefig(\n",
    "    fname=IMAGES_DIR / \"cumulative_explained_variance_selected_features.png\",\n",
    "    dpi=IMAGE_DPI,\n",
    "    bbox_inches=\"tight\",\n",
    ")\n",
    "\n",
    "plt.show()"
   ]
  },
  {
   "cell_type": "markdown",
   "metadata": {},
   "source": [
    "<br>\n",
    "<hr>\n",
    "<br>"
   ]
  },
  {
   "cell_type": "markdown",
   "metadata": {
    "cell_id": "00025-3cc49696-8922-4304-84c8-b111c0f06102",
    "deepnote_cell_height": 226.46875,
    "deepnote_cell_type": "markdown",
    "id": "dzP_lzN32IIb",
    "tags": []
   },
   "source": [
    "## Machine Learning\n",
    "### Outline\n",
    "1. Scale `X_test` and `target`. No fit is performed here, only a transform based on the `scaler_selected` fit generated by `X_train` in order to prevent data leakage (influence of the test set on the any of the model fitting steps).\n",
    "1. Create a model with `LogisticRegression()`.\n",
    "1. Train the model with `classifier.fit()`.\n",
    "1. Make predictions with `classifier.predict()`.\n",
    "1. Validate the model with `accuracy_score()`."
   ]
  },
  {
   "cell_type": "markdown",
   "metadata": {
    "cell_id": "00034-6da84652-7182-48bb-9901-85df2a7c4b35",
    "deepnote_cell_height": 52.34375,
    "deepnote_cell_type": "markdown",
    "tags": []
   },
   "source": [
    "#### Scale `X_test` and `target` and Convert to DataFrames"
   ]
  },
  {
   "cell_type": "code",
   "execution_count": 32,
   "metadata": {},
   "outputs": [],
   "source": [
    "# Scale `X_test` using `scaler_selected`.\n",
    "X_test_scaled = scaler_selected.transform(X_test[selected_features])\n",
    "X_test_scaled = pd.DataFrame(X_test_scaled, columns=selected_features)\n",
    "\n",
    "# Scale target data `current_stats` prior to prediction using `scaler_selected`.\n",
    "target_scaled = scaler_selected.transform(current_stats[selected_features])\n",
    "target_scaled = pd.DataFrame(target_scaled, columns=selected_features)"
   ]
  },
  {
   "cell_type": "markdown",
   "metadata": {
    "cell_id": "00038-fdc8f57c-c882-4d32-9bdf-c031bd80a9a1",
    "deepnote_cell_height": 53.953125,
    "deepnote_cell_type": "markdown",
    "tags": []
   },
   "source": [
    "### Train the Model"
   ]
  },
  {
   "cell_type": "code",
   "execution_count": 33,
   "metadata": {
    "cell_id": "00039-0c259c06-6b70-4579-87de-23f16ce88f20",
    "deepnote_cell_height": 134.9375,
    "deepnote_cell_type": "code",
    "deepnote_to_be_reexecuted": false,
    "execution_millis": 1,
    "execution_start": 1651704446764,
    "id": "Bua8pG8F6U2x",
    "output_cleared": true,
    "source_hash": "3068fc0e",
    "tags": []
   },
   "outputs": [
    {
     "data": {
      "text/html": [
       "<style>#sk-container-id-1 {color: black;}#sk-container-id-1 pre{padding: 0;}#sk-container-id-1 div.sk-toggleable {background-color: white;}#sk-container-id-1 label.sk-toggleable__label {cursor: pointer;display: block;width: 100%;margin-bottom: 0;padding: 0.3em;box-sizing: border-box;text-align: center;}#sk-container-id-1 label.sk-toggleable__label-arrow:before {content: \"▸\";float: left;margin-right: 0.25em;color: #696969;}#sk-container-id-1 label.sk-toggleable__label-arrow:hover:before {color: black;}#sk-container-id-1 div.sk-estimator:hover label.sk-toggleable__label-arrow:before {color: black;}#sk-container-id-1 div.sk-toggleable__content {max-height: 0;max-width: 0;overflow: hidden;text-align: left;background-color: #f0f8ff;}#sk-container-id-1 div.sk-toggleable__content pre {margin: 0.2em;color: black;border-radius: 0.25em;background-color: #f0f8ff;}#sk-container-id-1 input.sk-toggleable__control:checked~div.sk-toggleable__content {max-height: 200px;max-width: 100%;overflow: auto;}#sk-container-id-1 input.sk-toggleable__control:checked~label.sk-toggleable__label-arrow:before {content: \"▾\";}#sk-container-id-1 div.sk-estimator input.sk-toggleable__control:checked~label.sk-toggleable__label {background-color: #d4ebff;}#sk-container-id-1 div.sk-label input.sk-toggleable__control:checked~label.sk-toggleable__label {background-color: #d4ebff;}#sk-container-id-1 input.sk-hidden--visually {border: 0;clip: rect(1px 1px 1px 1px);clip: rect(1px, 1px, 1px, 1px);height: 1px;margin: -1px;overflow: hidden;padding: 0;position: absolute;width: 1px;}#sk-container-id-1 div.sk-estimator {font-family: monospace;background-color: #f0f8ff;border: 1px dotted black;border-radius: 0.25em;box-sizing: border-box;margin-bottom: 0.5em;}#sk-container-id-1 div.sk-estimator:hover {background-color: #d4ebff;}#sk-container-id-1 div.sk-parallel-item::after {content: \"\";width: 100%;border-bottom: 1px solid gray;flex-grow: 1;}#sk-container-id-1 div.sk-label:hover label.sk-toggleable__label {background-color: #d4ebff;}#sk-container-id-1 div.sk-serial::before {content: \"\";position: absolute;border-left: 1px solid gray;box-sizing: border-box;top: 0;bottom: 0;left: 50%;z-index: 0;}#sk-container-id-1 div.sk-serial {display: flex;flex-direction: column;align-items: center;background-color: white;padding-right: 0.2em;padding-left: 0.2em;position: relative;}#sk-container-id-1 div.sk-item {position: relative;z-index: 1;}#sk-container-id-1 div.sk-parallel {display: flex;align-items: stretch;justify-content: center;background-color: white;position: relative;}#sk-container-id-1 div.sk-item::before, #sk-container-id-1 div.sk-parallel-item::before {content: \"\";position: absolute;border-left: 1px solid gray;box-sizing: border-box;top: 0;bottom: 0;left: 50%;z-index: -1;}#sk-container-id-1 div.sk-parallel-item {display: flex;flex-direction: column;z-index: 1;position: relative;background-color: white;}#sk-container-id-1 div.sk-parallel-item:first-child::after {align-self: flex-end;width: 50%;}#sk-container-id-1 div.sk-parallel-item:last-child::after {align-self: flex-start;width: 50%;}#sk-container-id-1 div.sk-parallel-item:only-child::after {width: 0;}#sk-container-id-1 div.sk-dashed-wrapped {border: 1px dashed gray;margin: 0 0.4em 0.5em 0.4em;box-sizing: border-box;padding-bottom: 0.4em;background-color: white;}#sk-container-id-1 div.sk-label label {font-family: monospace;font-weight: bold;display: inline-block;line-height: 1.2em;}#sk-container-id-1 div.sk-label-container {text-align: center;}#sk-container-id-1 div.sk-container {/* jupyter's `normalize.less` sets `[hidden] { display: none; }` but bootstrap.min.css set `[hidden] { display: none !important; }` so we also need the `!important` here to be able to override the default hidden behavior on the sphinx rendered scikit-learn.org. See: https://github.com/scikit-learn/scikit-learn/issues/21755 */display: inline-block !important;position: relative;}#sk-container-id-1 div.sk-text-repr-fallback {display: none;}</style><div id=\"sk-container-id-1\" class=\"sk-top-container\"><div class=\"sk-text-repr-fallback\"><pre>LogisticRegression(max_iter=2000, random_state=1, solver=&#x27;liblinear&#x27;)</pre><b>In a Jupyter environment, please rerun this cell to show the HTML representation or trust the notebook. <br />On GitHub, the HTML representation is unable to render, please try loading this page with nbviewer.org.</b></div><div class=\"sk-container\" hidden><div class=\"sk-item\"><div class=\"sk-estimator sk-toggleable\"><input class=\"sk-toggleable__control sk-hidden--visually\" id=\"sk-estimator-id-1\" type=\"checkbox\" checked><label for=\"sk-estimator-id-1\" class=\"sk-toggleable__label sk-toggleable__label-arrow\">LogisticRegression</label><div class=\"sk-toggleable__content\"><pre>LogisticRegression(max_iter=2000, random_state=1, solver=&#x27;liblinear&#x27;)</pre></div></div></div></div></div>"
      ],
      "text/plain": [
       "LogisticRegression(max_iter=2000, random_state=1, solver='liblinear')"
      ]
     },
     "execution_count": 33,
     "metadata": {},
     "output_type": "execute_result"
    }
   ],
   "source": [
    "# Create a `LogisticRegression` model instance.\n",
    "classifier = LogisticRegression(solver=\"liblinear\", max_iter=2000, random_state=1)\n",
    "\n",
    "# Fit the model with the training data.\n",
    "classifier.fit(X_train_scaled, y_train)"
   ]
  },
  {
   "cell_type": "markdown",
   "metadata": {
    "cell_id": "00042-cde118ae-bfb7-43f2-afa9-83297e2a51b0",
    "deepnote_cell_height": 53.953125,
    "deepnote_cell_type": "markdown",
    "tags": []
   },
   "source": [
    "### Test and Validate the Model\n",
    "#### Predict Using Test Data and Accuracy Check"
   ]
  },
  {
   "cell_type": "code",
   "execution_count": 34,
   "metadata": {
    "cell_id": "00043-76cb91c0-ccf4-432a-8414-1a534300a7b1",
    "deepnote_cell_height": 116.9375,
    "deepnote_cell_type": "code",
    "deepnote_table_invalid": false,
    "deepnote_table_loading": false,
    "deepnote_table_state": {
     "filters": [],
     "pageIndex": 2,
     "pageSize": 10,
     "sortBy": []
    },
    "deepnote_to_be_reexecuted": false,
    "execution_millis": 2,
    "execution_start": 1651704446778,
    "id": "RDDMEar98R4O",
    "output_cleared": false,
    "source_hash": "a5d5f8b4"
   },
   "outputs": [
    {
     "name": "stdout",
     "output_type": "stream",
     "text": [
      "Accuracy: 0.96\n"
     ]
    },
    {
     "data": {
      "text/html": [
       "<div>\n",
       "<style scoped>\n",
       "    .dataframe tbody tr th:only-of-type {\n",
       "        vertical-align: middle;\n",
       "    }\n",
       "\n",
       "    .dataframe tbody tr th {\n",
       "        vertical-align: top;\n",
       "    }\n",
       "\n",
       "    .dataframe thead th {\n",
       "        text-align: right;\n",
       "    }\n",
       "</style>\n",
       "<table border=\"1\" class=\"dataframe\">\n",
       "  <thead>\n",
       "    <tr style=\"text-align: right;\">\n",
       "      <th></th>\n",
       "      <th>Actual</th>\n",
       "      <th>Predicted</th>\n",
       "    </tr>\n",
       "  </thead>\n",
       "  <tbody>\n",
       "    <tr>\n",
       "      <th>0</th>\n",
       "      <td>0</td>\n",
       "      <td>0</td>\n",
       "    </tr>\n",
       "    <tr>\n",
       "      <th>1</th>\n",
       "      <td>0</td>\n",
       "      <td>0</td>\n",
       "    </tr>\n",
       "    <tr>\n",
       "      <th>2</th>\n",
       "      <td>0</td>\n",
       "      <td>0</td>\n",
       "    </tr>\n",
       "    <tr>\n",
       "      <th>3</th>\n",
       "      <td>1</td>\n",
       "      <td>0</td>\n",
       "    </tr>\n",
       "    <tr>\n",
       "      <th>4</th>\n",
       "      <td>0</td>\n",
       "      <td>0</td>\n",
       "    </tr>\n",
       "    <tr>\n",
       "      <th>5</th>\n",
       "      <td>0</td>\n",
       "      <td>0</td>\n",
       "    </tr>\n",
       "    <tr>\n",
       "      <th>6</th>\n",
       "      <td>0</td>\n",
       "      <td>0</td>\n",
       "    </tr>\n",
       "    <tr>\n",
       "      <th>7</th>\n",
       "      <td>0</td>\n",
       "      <td>0</td>\n",
       "    </tr>\n",
       "    <tr>\n",
       "      <th>8</th>\n",
       "      <td>0</td>\n",
       "      <td>0</td>\n",
       "    </tr>\n",
       "    <tr>\n",
       "      <th>9</th>\n",
       "      <td>1</td>\n",
       "      <td>1</td>\n",
       "    </tr>\n",
       "    <tr>\n",
       "      <th>10</th>\n",
       "      <td>0</td>\n",
       "      <td>0</td>\n",
       "    </tr>\n",
       "    <tr>\n",
       "      <th>11</th>\n",
       "      <td>0</td>\n",
       "      <td>0</td>\n",
       "    </tr>\n",
       "    <tr>\n",
       "      <th>12</th>\n",
       "      <td>0</td>\n",
       "      <td>0</td>\n",
       "    </tr>\n",
       "    <tr>\n",
       "      <th>13</th>\n",
       "      <td>0</td>\n",
       "      <td>0</td>\n",
       "    </tr>\n",
       "    <tr>\n",
       "      <th>14</th>\n",
       "      <td>0</td>\n",
       "      <td>0</td>\n",
       "    </tr>\n",
       "    <tr>\n",
       "      <th>15</th>\n",
       "      <td>0</td>\n",
       "      <td>0</td>\n",
       "    </tr>\n",
       "    <tr>\n",
       "      <th>16</th>\n",
       "      <td>0</td>\n",
       "      <td>0</td>\n",
       "    </tr>\n",
       "    <tr>\n",
       "      <th>17</th>\n",
       "      <td>0</td>\n",
       "      <td>0</td>\n",
       "    </tr>\n",
       "    <tr>\n",
       "      <th>18</th>\n",
       "      <td>0</td>\n",
       "      <td>0</td>\n",
       "    </tr>\n",
       "    <tr>\n",
       "      <th>19</th>\n",
       "      <td>0</td>\n",
       "      <td>0</td>\n",
       "    </tr>\n",
       "    <tr>\n",
       "      <th>20</th>\n",
       "      <td>0</td>\n",
       "      <td>0</td>\n",
       "    </tr>\n",
       "    <tr>\n",
       "      <th>21</th>\n",
       "      <td>0</td>\n",
       "      <td>0</td>\n",
       "    </tr>\n",
       "    <tr>\n",
       "      <th>22</th>\n",
       "      <td>0</td>\n",
       "      <td>0</td>\n",
       "    </tr>\n",
       "    <tr>\n",
       "      <th>23</th>\n",
       "      <td>0</td>\n",
       "      <td>0</td>\n",
       "    </tr>\n",
       "  </tbody>\n",
       "</table>\n",
       "</div>"
      ],
      "text/plain": [
       "    Actual  Predicted\n",
       "0        0          0\n",
       "1        0          0\n",
       "2        0          0\n",
       "3        1          0\n",
       "4        0          0\n",
       "5        0          0\n",
       "6        0          0\n",
       "7        0          0\n",
       "8        0          0\n",
       "9        1          1\n",
       "10       0          0\n",
       "11       0          0\n",
       "12       0          0\n",
       "13       0          0\n",
       "14       0          0\n",
       "15       0          0\n",
       "16       0          0\n",
       "17       0          0\n",
       "18       0          0\n",
       "19       0          0\n",
       "20       0          0\n",
       "21       0          0\n",
       "22       0          0\n",
       "23       0          0"
      ]
     },
     "execution_count": 34,
     "metadata": {},
     "output_type": "execute_result"
    }
   ],
   "source": [
    "# Predict using the test set.\n",
    "y_test_predict = classifier.predict(X_test_scaled)\n",
    "\n",
    "# Accuracy score.\n",
    "score = accuracy_score(y_test, y_test_predict)\n",
    "print(f\"Accuracy: {score:.2f}\")\n",
    "\n",
    "# Test set prediction results as a DataFrame. Keep in mind that the test train split was\n",
    "# stratified.\n",
    "test_results = pd.DataFrame({\"Actual\": y_test, \"Predicted\": y_test_predict})\n",
    "test_results"
   ]
  },
  {
   "cell_type": "markdown",
   "metadata": {
    "cell_id": "00046-4facb1f2-411e-408b-99fc-06367e344c64",
    "deepnote_cell_height": 53.953125,
    "deepnote_cell_type": "markdown",
    "tags": []
   },
   "source": [
    "#### Confusion Matrix"
   ]
  },
  {
   "cell_type": "code",
   "execution_count": 35,
   "metadata": {
    "cell_id": "00047-484a15c9-501a-45f5-bb03-29f85408f1a9",
    "deepnote_cell_height": 679.828125,
    "deepnote_cell_type": "code",
    "deepnote_output_heights": [
     null,
     282.96875
    ],
    "deepnote_to_be_reexecuted": false,
    "execution_millis": 665,
    "execution_start": 1651704446790,
    "source_hash": "bad8efaa",
    "tags": []
   },
   "outputs": [
    {
     "data": {
      "image/png": "[encoded data removed]",
      "text/plain": [
       "<Figure size 640x480 with 2 Axes>"
      ]
     },
     "metadata": {},
     "output_type": "display_data"
    }
   ],
   "source": [
    "# Generate the confusion matrix.\n",
    "confusion = confusion_matrix(y_test, y_test_predict)\n",
    "\n",
    "# Confusion matrix plot.\n",
    "fig, ax = plt.subplots()\n",
    "sns.heatmap(\n",
    "    confusion,\n",
    "    ax=ax,\n",
    "    xticklabels=[\"Non-Champion\", \"Champion\"],\n",
    "    yticklabels=[\"Non-Champion\", \"Champion\"],\n",
    "    annot=True,\n",
    "    cmap=\"Blues\",\n",
    ")\n",
    "ax.set_title(\"Confusion Matrix\")\n",
    "ax.set_xlabel(\"Predicted\", fontsize=12)\n",
    "ax.set_ylabel(\"Actual\", fontsize=12)\n",
    "\n",
    "# Save image to file.\n",
    "fig.savefig(\n",
    "    fname=IMAGES_DIR / \"confusion_matrix.png\",\n",
    "    dpi=IMAGE_DPI,\n",
    "    bbox_inches=\"tight\",\n",
    ")\n",
    "\n",
    "plt.show()"
   ]
  },
  {
   "cell_type": "markdown",
   "metadata": {
    "cell_id": "00048-15d40cdd-05e9-4fc9-b231-7d083024d20a",
    "deepnote_cell_height": 53.953125,
    "deepnote_cell_type": "markdown",
    "tags": []
   },
   "source": [
    "### Predict the Champion\n",
    "#### Predicted Labels"
   ]
  },
  {
   "cell_type": "code",
   "execution_count": 36,
   "metadata": {},
   "outputs": [
    {
     "name": "stdout",
     "output_type": "stream",
     "text": [
      "Predicted Champion: Memphis Grizzlies\n"
     ]
    }
   ],
   "source": [
    "# Predict the champion team.\n",
    "current_prediction = classifier.predict(target_scaled)\n",
    "\n",
    "# Print out the name of the champion.\n",
    "champions = current_stats.iloc[current_prediction.nonzero()][\"TEAM\"]\n",
    "champion_str = \", \".join(list(champions))\n",
    "print(f\"Predicted Champion: {champion_str}\")"
   ]
  },
  {
   "cell_type": "markdown",
   "metadata": {},
   "source": [
    "#### Probability Estimates"
   ]
  },
  {
   "cell_type": "code",
   "execution_count": 37,
   "metadata": {
    "cell_id": "00050-f7b2eadf-f066-4a49-b76f-69efa537b8a7",
    "deepnote_cell_height": 881.859375,
    "deepnote_cell_type": "code",
    "deepnote_table_loading": false,
    "deepnote_table_state": {
     "filters": [],
     "pageIndex": 0,
     "pageSize": 25,
     "sortBy": []
    },
    "deepnote_to_be_reexecuted": false,
    "execution_millis": 7,
    "execution_start": 1651705478023,
    "output_cleared": false,
    "source_hash": "158f4add",
    "tags": []
   },
   "outputs": [
    {
     "data": {
      "text/html": [
       "<div>\n",
       "<style scoped>\n",
       "    .dataframe tbody tr th:only-of-type {\n",
       "        vertical-align: middle;\n",
       "    }\n",
       "\n",
       "    .dataframe tbody tr th {\n",
       "        vertical-align: top;\n",
       "    }\n",
       "\n",
       "    .dataframe thead th {\n",
       "        text-align: right;\n",
       "    }\n",
       "</style>\n",
       "<table border=\"1\" class=\"dataframe\">\n",
       "  <thead>\n",
       "    <tr style=\"text-align: right;\">\n",
       "      <th></th>\n",
       "      <th>Team</th>\n",
       "      <th>Not-Champion</th>\n",
       "      <th>Champion</th>\n",
       "    </tr>\n",
       "  </thead>\n",
       "  <tbody>\n",
       "    <tr>\n",
       "      <th>1</th>\n",
       "      <td>Memphis Grizzlies</td>\n",
       "      <td>0.42</td>\n",
       "      <td>0.58</td>\n",
       "    </tr>\n",
       "    <tr>\n",
       "      <th>12</th>\n",
       "      <td>Minnesota Timberwolves</td>\n",
       "      <td>0.79</td>\n",
       "      <td>0.21</td>\n",
       "    </tr>\n",
       "    <tr>\n",
       "      <th>0</th>\n",
       "      <td>Phoenix Suns</td>\n",
       "      <td>0.86</td>\n",
       "      <td>0.14</td>\n",
       "    </tr>\n",
       "    <tr>\n",
       "      <th>2</th>\n",
       "      <td>Golden State Warriors</td>\n",
       "      <td>0.88</td>\n",
       "      <td>0.12</td>\n",
       "    </tr>\n",
       "    <tr>\n",
       "      <th>5</th>\n",
       "      <td>Boston Celtics</td>\n",
       "      <td>0.89</td>\n",
       "      <td>0.11</td>\n",
       "    </tr>\n",
       "    <tr>\n",
       "      <th>7</th>\n",
       "      <td>Philadelphia 76ers</td>\n",
       "      <td>0.90</td>\n",
       "      <td>0.10</td>\n",
       "    </tr>\n",
       "    <tr>\n",
       "      <th>13</th>\n",
       "      <td>Brooklyn Nets</td>\n",
       "      <td>0.91</td>\n",
       "      <td>0.09</td>\n",
       "    </tr>\n",
       "    <tr>\n",
       "      <th>8</th>\n",
       "      <td>Utah Jazz</td>\n",
       "      <td>0.92</td>\n",
       "      <td>0.08</td>\n",
       "    </tr>\n",
       "    <tr>\n",
       "      <th>10</th>\n",
       "      <td>Toronto Raptors</td>\n",
       "      <td>0.92</td>\n",
       "      <td>0.08</td>\n",
       "    </tr>\n",
       "    <tr>\n",
       "      <th>6</th>\n",
       "      <td>Milwaukee Bucks</td>\n",
       "      <td>0.93</td>\n",
       "      <td>0.07</td>\n",
       "    </tr>\n",
       "    <tr>\n",
       "      <th>14</th>\n",
       "      <td>Atlanta Hawks</td>\n",
       "      <td>0.94</td>\n",
       "      <td>0.06</td>\n",
       "    </tr>\n",
       "    <tr>\n",
       "      <th>11</th>\n",
       "      <td>Chicago Bulls</td>\n",
       "      <td>0.97</td>\n",
       "      <td>0.03</td>\n",
       "    </tr>\n",
       "    <tr>\n",
       "      <th>15</th>\n",
       "      <td>New Orleans Pelicans</td>\n",
       "      <td>0.97</td>\n",
       "      <td>0.03</td>\n",
       "    </tr>\n",
       "    <tr>\n",
       "      <th>9</th>\n",
       "      <td>Denver Nuggets</td>\n",
       "      <td>0.97</td>\n",
       "      <td>0.03</td>\n",
       "    </tr>\n",
       "    <tr>\n",
       "      <th>3</th>\n",
       "      <td>Miami Heat</td>\n",
       "      <td>0.98</td>\n",
       "      <td>0.02</td>\n",
       "    </tr>\n",
       "    <tr>\n",
       "      <th>4</th>\n",
       "      <td>Dallas Mavericks</td>\n",
       "      <td>0.98</td>\n",
       "      <td>0.02</td>\n",
       "    </tr>\n",
       "  </tbody>\n",
       "</table>\n",
       "</div>"
      ],
      "text/plain": [
       "                      Team  Not-Champion  Champion\n",
       "1        Memphis Grizzlies          0.42      0.58\n",
       "12  Minnesota Timberwolves          0.79      0.21\n",
       "0             Phoenix Suns          0.86      0.14\n",
       "2    Golden State Warriors          0.88      0.12\n",
       "5           Boston Celtics          0.89      0.11\n",
       "7       Philadelphia 76ers          0.90      0.10\n",
       "13           Brooklyn Nets          0.91      0.09\n",
       "8                Utah Jazz          0.92      0.08\n",
       "10         Toronto Raptors          0.92      0.08\n",
       "6          Milwaukee Bucks          0.93      0.07\n",
       "14           Atlanta Hawks          0.94      0.06\n",
       "11           Chicago Bulls          0.97      0.03\n",
       "15    New Orleans Pelicans          0.97      0.03\n",
       "9           Denver Nuggets          0.97      0.03\n",
       "3               Miami Heat          0.98      0.02\n",
       "4         Dallas Mavericks          0.98      0.02"
      ]
     },
     "execution_count": 37,
     "metadata": {},
     "output_type": "execute_result"
    }
   ],
   "source": [
    "# Calculate the probabilities for each class (\"not-champion\" and \"champion\") for each\n",
    "# team.\n",
    "current_probabilities = classifier.predict_proba(target_scaled)\n",
    "\n",
    "# Create DataFrame collecting all of the probabilities.\n",
    "predicted_champion = pd.DataFrame(\n",
    "    {\n",
    "        \"Team\": current_stats[\"TEAM\"],\n",
    "        \"Not-Champion\": current_probabilities[:, 0],\n",
    "        \"Champion\": current_probabilities[:, 1],\n",
    "    }\n",
    ")\n",
    "predicted_champion = predicted_champion.sort_values(\n",
    "    by=\"Champion\", ascending=False\n",
    ").round(2)\n",
    "# Save as csv for use in the website.\n",
    "predicted_champion.to_csv(\n",
    "    path_or_buf=DATA_DIR / \"probability_estimates.csv\", index=False\n",
    ")\n",
    "predicted_champion"
   ]
  },
  {
   "cell_type": "markdown",
   "metadata": {},
   "source": [
    "### Feature Importance\n",
    "#### Coefficients and Relative Importance"
   ]
  },
  {
   "cell_type": "code",
   "execution_count": 38,
   "metadata": {
    "cell_id": "00051-8f13f411-ac51-4a70-9c6c-4535797cea6f",
    "deepnote_cell_height": 80.9375,
    "deepnote_cell_type": "code",
    "deepnote_to_be_reexecuted": false,
    "execution_millis": 3,
    "execution_start": 1651704447091,
    "output_cleared": true,
    "source_hash": "6cf518e8",
    "tags": []
   },
   "outputs": [
    {
     "data": {
      "text/html": [
       "<div>\n",
       "<style scoped>\n",
       "    .dataframe tbody tr th:only-of-type {\n",
       "        vertical-align: middle;\n",
       "    }\n",
       "\n",
       "    .dataframe tbody tr th {\n",
       "        vertical-align: top;\n",
       "    }\n",
       "\n",
       "    .dataframe thead th {\n",
       "        text-align: right;\n",
       "    }\n",
       "</style>\n",
       "<table border=\"1\" class=\"dataframe\">\n",
       "  <thead>\n",
       "    <tr style=\"text-align: right;\">\n",
       "      <th></th>\n",
       "      <th>Relative Importance</th>\n",
       "    </tr>\n",
       "  </thead>\n",
       "  <tbody>\n",
       "    <tr>\n",
       "      <th>STL</th>\n",
       "      <td>1.00</td>\n",
       "    </tr>\n",
       "    <tr>\n",
       "      <th>BLK</th>\n",
       "      <td>0.93</td>\n",
       "    </tr>\n",
       "    <tr>\n",
       "      <th>OFFRTG</th>\n",
       "      <td>0.55</td>\n",
       "    </tr>\n",
       "    <tr>\n",
       "      <th>DREB</th>\n",
       "      <td>0.48</td>\n",
       "    </tr>\n",
       "    <tr>\n",
       "      <th>3P%</th>\n",
       "      <td>0.43</td>\n",
       "    </tr>\n",
       "    <tr>\n",
       "      <th>DEFRTG</th>\n",
       "      <td>0.18</td>\n",
       "    </tr>\n",
       "    <tr>\n",
       "      <th>AST/TO</th>\n",
       "      <td>0.13</td>\n",
       "    </tr>\n",
       "  </tbody>\n",
       "</table>\n",
       "</div>"
      ],
      "text/plain": [
       "        Relative Importance\n",
       "STL                    1.00\n",
       "BLK                    0.93\n",
       "OFFRTG                 0.55\n",
       "DREB                   0.48\n",
       "3P%                    0.43\n",
       "DEFRTG                 0.18\n",
       "AST/TO                 0.13"
      ]
     },
     "execution_count": 38,
     "metadata": {},
     "output_type": "execute_result"
    }
   ],
   "source": [
    "# Calculate relative feature importance (relative to the maximum coefficient).\n",
    "rel_importance = classifier.coef_ / classifier.coef_.max()\n",
    "\n",
    "# Create relative feature importance DataFrame.\n",
    "feature_importance = (\n",
    "    pd.DataFrame(\n",
    "        rel_importance[0], index=selected_features, columns=[\"Relative Importance\"]\n",
    "    )\n",
    "    .sort_values(by=\"Relative Importance\", ascending=False)\n",
    "    .round(2)\n",
    ")\n",
    "# Save as csv for use in the website.\n",
    "feature_importance.to_csv(path_or_buf=DATA_DIR / \"feature_importance.csv\")\n",
    "feature_importance"
   ]
  },
  {
   "cell_type": "markdown",
   "metadata": {},
   "source": [
    "#### Relative Feature Importance Plot"
   ]
  },
  {
   "cell_type": "code",
   "execution_count": 39,
   "metadata": {
    "cell_id": "00054-ed9d3935-735e-43fe-a72b-1cc542774a44",
    "deepnote_cell_height": 434.875,
    "deepnote_cell_type": "code",
    "deepnote_output_heights": [
     265.96875,
     249.96875
    ],
    "deepnote_to_be_reexecuted": false,
    "execution_millis": 273,
    "execution_start": 1651706085107,
    "output_cleared": false,
    "owner_user_id": "7a269c9e-bc82-457d-acfa-01c784ecc0b4",
    "source_hash": "8fdb24ef",
    "tags": []
   },
   "outputs": [
    {
     "data": {
      "image/png": "[encoded data removed]",
      "text/plain": [
       "<Figure size 640x480 with 1 Axes>"
      ]
     },
     "metadata": {},
     "output_type": "display_data"
    }
   ],
   "source": [
    "# Relative feature importance plot.\n",
    "fig, ax = plt.subplots()\n",
    "sns.barplot(\n",
    "    x=feature_importance[\"Relative Importance\"],\n",
    "    y=feature_importance.index,\n",
    "    ax=ax,\n",
    "    orient=\"h\",\n",
    ")\n",
    "ax.set_title(\"Relative Feature Importance\")\n",
    "ax.set_xlabel(\"Relative Importance\")\n",
    "ax.set_ylabel(\"\")\n",
    "\n",
    "# Save image to file.\n",
    "fig.savefig(\n",
    "    fname=IMAGES_DIR / \"feature_importance.png\",\n",
    "    dpi=IMAGE_DPI,\n",
    "    bbox_inches=\"tight\",\n",
    ")\n",
    "\n",
    "plt.show()"
   ]
  },
  {
   "cell_type": "code",
   "execution_count": null,
   "metadata": {},
   "outputs": [],
   "source": []
  }
 ],
 "metadata": {
  "colab": {
   "collapsed_sections": [],
   "name": "Untitled2.ipynb",
   "provenance": []
  },
  "deepnote": {},
  "deepnote_execution_queue": [],
  "deepnote_notebook_id": "f8c9c4aa-7271-4570-a418-894cbacc59fc",
  "kernelspec": {
   "display_name": "nba_predict",
   "language": "python",
   "name": "nba_predict"
  },
  "language_info": {
   "codemirror_mode": {
    "name": "ipython",
    "version": 3
   },
   "file_extension": ".py",
   "mimetype": "text/x-python",
   "name": "python",
   "nbconvert_exporter": "python",
   "pygments_lexer": "ipython3",
   "version": "3.11.5"
  }
 },
 "nbformat": 4,
 "nbformat_minor": 4
}
